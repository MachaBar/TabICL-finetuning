{
 "cells": [
  {
   "cell_type": "code",
   "execution_count": 16,
   "id": "df4a850f",
   "metadata": {},
   "outputs": [],
   "source": [
    "import torch\n",
    "import arff\n",
    "import pandas as pd"
   ]
  },
  {
   "cell_type": "code",
   "execution_count": 2,
   "id": "b87d1bb1",
   "metadata": {},
   "outputs": [
    {
     "name": "stderr",
     "output_type": "stream",
     "text": [
      "/home/D32485/fmproject/.venv/lib/python3.12/site-packages/tqdm/auto.py:21: TqdmWarning: IProgress not found. Please update jupyter and ipywidgets. See https://ipywidgets.readthedocs.io/en/stable/user_install.html\n",
      "  from .autonotebook import tqdm as notebook_tqdm\n"
     ]
    }
   ],
   "source": [
    "import tabicl"
   ]
  },
  {
   "cell_type": "code",
   "execution_count": 2,
   "id": "ea648e56",
   "metadata": {},
   "outputs": [
    {
     "name": "stderr",
     "output_type": "stream",
     "text": [
      "/home/D32485/fmproject/.venv/lib/python3.12/site-packages/tqdm/auto.py:21: TqdmWarning: IProgress not found. Please update jupyter and ipywidgets. See https://ipywidgets.readthedocs.io/en/stable/user_install.html\n",
      "  from .autonotebook import tqdm as notebook_tqdm\n"
     ]
    }
   ],
   "source": [
    "from tabicl import train, TabICL, TabICLClassifier"
   ]
  },
  {
   "cell_type": "code",
   "execution_count": null,
   "id": "fc70aa0a",
   "metadata": {},
   "outputs": [],
   "source": [
    "from tabicl.model.tabicl import TabICL\n",
    "\n",
    "model = TabICL()"
   ]
  },
  {
   "cell_type": "code",
   "execution_count": 19,
   "id": "b75869fd",
   "metadata": {},
   "outputs": [
    {
     "name": "stdout",
     "output_type": "stream",
     "text": [
      "27051666\n"
     ]
    }
   ],
   "source": [
    "def cnt_params(model):\n",
    "    return sum(param.numel() for param in model.parameters())\n",
    "\n",
    "\n",
    "print(cnt_params(model))\n",
    "\n",
    "# 27 051 666"
   ]
  },
  {
   "cell_type": "code",
   "execution_count": 9,
   "id": "11ddf001",
   "metadata": {},
   "outputs": [
    {
     "name": "stdout",
     "output_type": "stream",
     "text": [
      "Module:  | Params: 27051658\n",
      "Module: col_embedder | Params: 877824\n",
      "Module: col_embedder.in_linear | Params: 256\n",
      "Module: col_embedder.tf_col | Params: 844032\n",
      "Module: col_embedder.tf_col.blocks | Params: 844032\n",
      "Module: col_embedder.tf_col.blocks.0 | Params: 281344\n",
      "Module: col_embedder.tf_col.blocks.0.multihead_attn1 | Params: 132480\n",
      "Module: col_embedder.tf_col.blocks.0.multihead_attn1.linear1 | Params: 33024\n",
      "Module: col_embedder.tf_col.blocks.0.multihead_attn1.linear2 | Params: 32896\n",
      "Module: col_embedder.tf_col.blocks.0.multihead_attn1.norm1 | Params: 256\n",
      "Module: col_embedder.tf_col.blocks.0.multihead_attn1.norm2 | Params: 256\n",
      "Module: col_embedder.tf_col.blocks.0.multihead_attn1.attn | Params: 66048\n",
      "Module: col_embedder.tf_col.blocks.0.multihead_attn1.attn.out_proj | Params: 16512\n",
      "Module: col_embedder.tf_col.blocks.0.multihead_attn2 | Params: 132480\n",
      "Module: col_embedder.tf_col.blocks.0.multihead_attn2.linear1 | Params: 33024\n",
      "Module: col_embedder.tf_col.blocks.0.multihead_attn2.linear2 | Params: 32896\n",
      "Module: col_embedder.tf_col.blocks.0.multihead_attn2.norm1 | Params: 256\n",
      "Module: col_embedder.tf_col.blocks.0.multihead_attn2.norm2 | Params: 256\n",
      "Module: col_embedder.tf_col.blocks.0.multihead_attn2.attn | Params: 66048\n",
      "Module: col_embedder.tf_col.blocks.0.multihead_attn2.attn.out_proj | Params: 16512\n",
      "Module: col_embedder.tf_col.blocks.1 | Params: 281344\n",
      "Module: col_embedder.tf_col.blocks.1.multihead_attn1 | Params: 132480\n",
      "Module: col_embedder.tf_col.blocks.1.multihead_attn1.linear1 | Params: 33024\n",
      "Module: col_embedder.tf_col.blocks.1.multihead_attn1.linear2 | Params: 32896\n",
      "Module: col_embedder.tf_col.blocks.1.multihead_attn1.norm1 | Params: 256\n",
      "Module: col_embedder.tf_col.blocks.1.multihead_attn1.norm2 | Params: 256\n",
      "Module: col_embedder.tf_col.blocks.1.multihead_attn1.attn | Params: 66048\n",
      "Module: col_embedder.tf_col.blocks.1.multihead_attn1.attn.out_proj | Params: 16512\n",
      "Module: col_embedder.tf_col.blocks.1.multihead_attn2 | Params: 132480\n",
      "Module: col_embedder.tf_col.blocks.1.multihead_attn2.linear1 | Params: 33024\n",
      "Module: col_embedder.tf_col.blocks.1.multihead_attn2.linear2 | Params: 32896\n",
      "Module: col_embedder.tf_col.blocks.1.multihead_attn2.norm1 | Params: 256\n",
      "Module: col_embedder.tf_col.blocks.1.multihead_attn2.norm2 | Params: 256\n",
      "Module: col_embedder.tf_col.blocks.1.multihead_attn2.attn | Params: 66048\n",
      "Module: col_embedder.tf_col.blocks.1.multihead_attn2.attn.out_proj | Params: 16512\n",
      "Module: col_embedder.tf_col.blocks.2 | Params: 281344\n",
      "Module: col_embedder.tf_col.blocks.2.multihead_attn1 | Params: 132480\n",
      "Module: col_embedder.tf_col.blocks.2.multihead_attn1.linear1 | Params: 33024\n",
      "Module: col_embedder.tf_col.blocks.2.multihead_attn1.linear2 | Params: 32896\n",
      "Module: col_embedder.tf_col.blocks.2.multihead_attn1.norm1 | Params: 256\n",
      "Module: col_embedder.tf_col.blocks.2.multihead_attn1.norm2 | Params: 256\n",
      "Module: col_embedder.tf_col.blocks.2.multihead_attn1.attn | Params: 66048\n",
      "Module: col_embedder.tf_col.blocks.2.multihead_attn1.attn.out_proj | Params: 16512\n",
      "Module: col_embedder.tf_col.blocks.2.multihead_attn2 | Params: 132480\n",
      "Module: col_embedder.tf_col.blocks.2.multihead_attn2.linear1 | Params: 33024\n",
      "Module: col_embedder.tf_col.blocks.2.multihead_attn2.linear2 | Params: 32896\n",
      "Module: col_embedder.tf_col.blocks.2.multihead_attn2.norm1 | Params: 256\n",
      "Module: col_embedder.tf_col.blocks.2.multihead_attn2.norm2 | Params: 256\n",
      "Module: col_embedder.tf_col.blocks.2.multihead_attn2.attn | Params: 66048\n",
      "Module: col_embedder.tf_col.blocks.2.multihead_attn2.attn.out_proj | Params: 16512\n",
      "Module: col_embedder.out_w | Params: 16512\n",
      "Module: col_embedder.ln_w | Params: 256\n",
      "Module: col_embedder.out_b | Params: 16512\n",
      "Module: col_embedder.ln_b | Params: 256\n",
      "Module: row_interactor | Params: 398208\n",
      "Module: row_interactor.tf_row | Params: 397440\n",
      "Module: row_interactor.tf_row.blocks | Params: 397440\n",
      "Module: row_interactor.tf_row.blocks.0 | Params: 132480\n",
      "Module: row_interactor.tf_row.blocks.0.linear1 | Params: 33024\n",
      "Module: row_interactor.tf_row.blocks.0.linear2 | Params: 32896\n",
      "Module: row_interactor.tf_row.blocks.0.norm1 | Params: 256\n",
      "Module: row_interactor.tf_row.blocks.0.norm2 | Params: 256\n",
      "Module: row_interactor.tf_row.blocks.0.attn | Params: 66048\n",
      "Module: row_interactor.tf_row.blocks.0.attn.out_proj | Params: 16512\n",
      "Module: row_interactor.tf_row.blocks.1 | Params: 132480\n",
      "Module: row_interactor.tf_row.blocks.1.linear1 | Params: 33024\n",
      "Module: row_interactor.tf_row.blocks.1.linear2 | Params: 32896\n",
      "Module: row_interactor.tf_row.blocks.1.norm1 | Params: 256\n",
      "Module: row_interactor.tf_row.blocks.1.norm2 | Params: 256\n",
      "Module: row_interactor.tf_row.blocks.1.attn | Params: 66048\n",
      "Module: row_interactor.tf_row.blocks.1.attn.out_proj | Params: 16512\n",
      "Module: row_interactor.tf_row.blocks.2 | Params: 132480\n",
      "Module: row_interactor.tf_row.blocks.2.linear1 | Params: 33024\n",
      "Module: row_interactor.tf_row.blocks.2.linear2 | Params: 32896\n",
      "Module: row_interactor.tf_row.blocks.2.norm1 | Params: 256\n",
      "Module: row_interactor.tf_row.blocks.2.norm2 | Params: 256\n",
      "Module: row_interactor.tf_row.blocks.2.attn | Params: 66048\n",
      "Module: row_interactor.tf_row.blocks.2.attn.out_proj | Params: 16512\n",
      "Module: row_interactor.out_ln | Params: 256\n",
      "Module: icl_predictor | Params: 25775626\n",
      "Module: icl_predictor.tf_icl | Params: 25233408\n",
      "Module: icl_predictor.tf_icl.blocks | Params: 25233408\n",
      "Module: icl_predictor.tf_icl.blocks.0 | Params: 2102784\n",
      "Module: icl_predictor.tf_icl.blocks.0.linear1 | Params: 525312\n",
      "Module: icl_predictor.tf_icl.blocks.0.linear2 | Params: 524800\n",
      "Module: icl_predictor.tf_icl.blocks.0.norm1 | Params: 1024\n",
      "Module: icl_predictor.tf_icl.blocks.0.norm2 | Params: 1024\n",
      "Module: icl_predictor.tf_icl.blocks.0.attn | Params: 1050624\n",
      "Module: icl_predictor.tf_icl.blocks.0.attn.out_proj | Params: 262656\n",
      "Module: icl_predictor.tf_icl.blocks.1 | Params: 2102784\n",
      "Module: icl_predictor.tf_icl.blocks.1.linear1 | Params: 525312\n",
      "Module: icl_predictor.tf_icl.blocks.1.linear2 | Params: 524800\n",
      "Module: icl_predictor.tf_icl.blocks.1.norm1 | Params: 1024\n",
      "Module: icl_predictor.tf_icl.blocks.1.norm2 | Params: 1024\n",
      "Module: icl_predictor.tf_icl.blocks.1.attn | Params: 1050624\n",
      "Module: icl_predictor.tf_icl.blocks.1.attn.out_proj | Params: 262656\n",
      "Module: icl_predictor.tf_icl.blocks.2 | Params: 2102784\n",
      "Module: icl_predictor.tf_icl.blocks.2.linear1 | Params: 525312\n",
      "Module: icl_predictor.tf_icl.blocks.2.linear2 | Params: 524800\n",
      "Module: icl_predictor.tf_icl.blocks.2.norm1 | Params: 1024\n",
      "Module: icl_predictor.tf_icl.blocks.2.norm2 | Params: 1024\n",
      "Module: icl_predictor.tf_icl.blocks.2.attn | Params: 1050624\n",
      "Module: icl_predictor.tf_icl.blocks.2.attn.out_proj | Params: 262656\n",
      "Module: icl_predictor.tf_icl.blocks.3 | Params: 2102784\n",
      "Module: icl_predictor.tf_icl.blocks.3.linear1 | Params: 525312\n",
      "Module: icl_predictor.tf_icl.blocks.3.linear2 | Params: 524800\n",
      "Module: icl_predictor.tf_icl.blocks.3.norm1 | Params: 1024\n",
      "Module: icl_predictor.tf_icl.blocks.3.norm2 | Params: 1024\n",
      "Module: icl_predictor.tf_icl.blocks.3.attn | Params: 1050624\n",
      "Module: icl_predictor.tf_icl.blocks.3.attn.out_proj | Params: 262656\n",
      "Module: icl_predictor.tf_icl.blocks.4 | Params: 2102784\n",
      "Module: icl_predictor.tf_icl.blocks.4.linear1 | Params: 525312\n",
      "Module: icl_predictor.tf_icl.blocks.4.linear2 | Params: 524800\n",
      "Module: icl_predictor.tf_icl.blocks.4.norm1 | Params: 1024\n",
      "Module: icl_predictor.tf_icl.blocks.4.norm2 | Params: 1024\n",
      "Module: icl_predictor.tf_icl.blocks.4.attn | Params: 1050624\n",
      "Module: icl_predictor.tf_icl.blocks.4.attn.out_proj | Params: 262656\n",
      "Module: icl_predictor.tf_icl.blocks.5 | Params: 2102784\n",
      "Module: icl_predictor.tf_icl.blocks.5.linear1 | Params: 525312\n",
      "Module: icl_predictor.tf_icl.blocks.5.linear2 | Params: 524800\n",
      "Module: icl_predictor.tf_icl.blocks.5.norm1 | Params: 1024\n",
      "Module: icl_predictor.tf_icl.blocks.5.norm2 | Params: 1024\n",
      "Module: icl_predictor.tf_icl.blocks.5.attn | Params: 1050624\n",
      "Module: icl_predictor.tf_icl.blocks.5.attn.out_proj | Params: 262656\n",
      "Module: icl_predictor.tf_icl.blocks.6 | Params: 2102784\n",
      "Module: icl_predictor.tf_icl.blocks.6.linear1 | Params: 525312\n",
      "Module: icl_predictor.tf_icl.blocks.6.linear2 | Params: 524800\n",
      "Module: icl_predictor.tf_icl.blocks.6.norm1 | Params: 1024\n",
      "Module: icl_predictor.tf_icl.blocks.6.norm2 | Params: 1024\n",
      "Module: icl_predictor.tf_icl.blocks.6.attn | Params: 1050624\n",
      "Module: icl_predictor.tf_icl.blocks.6.attn.out_proj | Params: 262656\n",
      "Module: icl_predictor.tf_icl.blocks.7 | Params: 2102784\n",
      "Module: icl_predictor.tf_icl.blocks.7.linear1 | Params: 525312\n",
      "Module: icl_predictor.tf_icl.blocks.7.linear2 | Params: 524800\n",
      "Module: icl_predictor.tf_icl.blocks.7.norm1 | Params: 1024\n",
      "Module: icl_predictor.tf_icl.blocks.7.norm2 | Params: 1024\n",
      "Module: icl_predictor.tf_icl.blocks.7.attn | Params: 1050624\n",
      "Module: icl_predictor.tf_icl.blocks.7.attn.out_proj | Params: 262656\n",
      "Module: icl_predictor.tf_icl.blocks.8 | Params: 2102784\n",
      "Module: icl_predictor.tf_icl.blocks.8.linear1 | Params: 525312\n",
      "Module: icl_predictor.tf_icl.blocks.8.linear2 | Params: 524800\n",
      "Module: icl_predictor.tf_icl.blocks.8.norm1 | Params: 1024\n",
      "Module: icl_predictor.tf_icl.blocks.8.norm2 | Params: 1024\n",
      "Module: icl_predictor.tf_icl.blocks.8.attn | Params: 1050624\n",
      "Module: icl_predictor.tf_icl.blocks.8.attn.out_proj | Params: 262656\n",
      "Module: icl_predictor.tf_icl.blocks.9 | Params: 2102784\n",
      "Module: icl_predictor.tf_icl.blocks.9.linear1 | Params: 525312\n",
      "Module: icl_predictor.tf_icl.blocks.9.linear2 | Params: 524800\n",
      "Module: icl_predictor.tf_icl.blocks.9.norm1 | Params: 1024\n",
      "Module: icl_predictor.tf_icl.blocks.9.norm2 | Params: 1024\n",
      "Module: icl_predictor.tf_icl.blocks.9.attn | Params: 1050624\n",
      "Module: icl_predictor.tf_icl.blocks.9.attn.out_proj | Params: 262656\n",
      "Module: icl_predictor.tf_icl.blocks.10 | Params: 2102784\n",
      "Module: icl_predictor.tf_icl.blocks.10.linear1 | Params: 525312\n",
      "Module: icl_predictor.tf_icl.blocks.10.linear2 | Params: 524800\n",
      "Module: icl_predictor.tf_icl.blocks.10.norm1 | Params: 1024\n",
      "Module: icl_predictor.tf_icl.blocks.10.norm2 | Params: 1024\n",
      "Module: icl_predictor.tf_icl.blocks.10.attn | Params: 1050624\n",
      "Module: icl_predictor.tf_icl.blocks.10.attn.out_proj | Params: 262656\n",
      "Module: icl_predictor.tf_icl.blocks.11 | Params: 2102784\n",
      "Module: icl_predictor.tf_icl.blocks.11.linear1 | Params: 525312\n",
      "Module: icl_predictor.tf_icl.blocks.11.linear2 | Params: 524800\n",
      "Module: icl_predictor.tf_icl.blocks.11.norm1 | Params: 1024\n",
      "Module: icl_predictor.tf_icl.blocks.11.norm2 | Params: 1024\n",
      "Module: icl_predictor.tf_icl.blocks.11.attn | Params: 1050624\n",
      "Module: icl_predictor.tf_icl.blocks.11.attn.out_proj | Params: 262656\n",
      "Module: icl_predictor.ln | Params: 1024\n",
      "Module: icl_predictor.y_encoder | Params: 5632\n",
      "Module: icl_predictor.decoder | Params: 535562\n",
      "Module: icl_predictor.decoder.0 | Params: 525312\n",
      "Module: icl_predictor.decoder.2 | Params: 10250\n"
     ]
    }
   ],
   "source": [
    "for name, module in model.named_modules():\n",
    "    params = sum(p.numel() for p in module.parameters() if p.requires_grad)\n",
    "    if params > 0:\n",
    "        print(f\"Module: {name} | Params: {params}\")"
   ]
  },
  {
   "cell_type": "code",
   "execution_count": 20,
   "id": "9efeb9cf",
   "metadata": {},
   "outputs": [
    {
     "name": "stderr",
     "output_type": "stream",
     "text": [
      "/tmp/ipykernel_6557/3814295166.py:2: FutureWarning: You are using `torch.load` with `weights_only=False` (the current default value), which uses the default pickle module implicitly. It is possible to construct malicious pickle data which will execute arbitrary code during unpickling (See https://github.com/pytorch/pytorch/blob/main/SECURITY.md#untrusted-models for more details). In a future release, the default value for `weights_only` will be flipped to `True`. This limits the functions that could be executed during unpickling. Arbitrary objects will no longer be allowed to be loaded via this mode unless they are explicitly allowlisted by the user via `torch.serialization.add_safe_globals`. We recommend you start setting `weights_only=True` for any use case where you don't have full control of the loaded file. Please open an issue on GitHub for any issues related to this experimental feature.\n",
      "  checkpoint = torch.load(\n"
     ]
    },
    {
     "data": {
      "text/plain": [
       "TabICL(\n",
       "  (col_embedder): ColEmbedding(\n",
       "    (in_linear): SkippableLinear(in_features=1, out_features=128, bias=True)\n",
       "    (tf_col): SetTransformer(\n",
       "      (blocks): ModuleList(\n",
       "        (0-2): 3 x InducedSelfAttentionBlock(\n",
       "          (multihead_attn1): MultiheadAttentionBlock(\n",
       "            (linear1): Linear(in_features=128, out_features=256, bias=True)\n",
       "            (dropout): Dropout(p=0.0, inplace=False)\n",
       "            (linear2): Linear(in_features=256, out_features=128, bias=True)\n",
       "            (norm1): LayerNorm((128,), eps=1e-05, elementwise_affine=True)\n",
       "            (norm2): LayerNorm((128,), eps=1e-05, elementwise_affine=True)\n",
       "            (dropout1): Dropout(p=0.0, inplace=False)\n",
       "            (dropout2): Dropout(p=0.0, inplace=False)\n",
       "            (attn): MultiheadAttention(\n",
       "              (out_proj): NonDynamicallyQuantizableLinear(in_features=128, out_features=128, bias=True)\n",
       "            )\n",
       "          )\n",
       "          (multihead_attn2): MultiheadAttentionBlock(\n",
       "            (linear1): Linear(in_features=128, out_features=256, bias=True)\n",
       "            (dropout): Dropout(p=0.0, inplace=False)\n",
       "            (linear2): Linear(in_features=256, out_features=128, bias=True)\n",
       "            (norm1): LayerNorm((128,), eps=1e-05, elementwise_affine=True)\n",
       "            (norm2): LayerNorm((128,), eps=1e-05, elementwise_affine=True)\n",
       "            (dropout1): Dropout(p=0.0, inplace=False)\n",
       "            (dropout2): Dropout(p=0.0, inplace=False)\n",
       "            (attn): MultiheadAttention(\n",
       "              (out_proj): NonDynamicallyQuantizableLinear(in_features=128, out_features=128, bias=True)\n",
       "            )\n",
       "          )\n",
       "        )\n",
       "      )\n",
       "    )\n",
       "    (out_w): SkippableLinear(in_features=128, out_features=128, bias=True)\n",
       "    (ln_w): LayerNorm((128,), eps=1e-05, elementwise_affine=True)\n",
       "    (out_b): SkippableLinear(in_features=128, out_features=128, bias=True)\n",
       "    (ln_b): LayerNorm((128,), eps=1e-05, elementwise_affine=True)\n",
       "  )\n",
       "  (row_interactor): RowInteraction(\n",
       "    (tf_row): Encoder(\n",
       "      (blocks): ModuleList(\n",
       "        (0-2): 3 x MultiheadAttentionBlock(\n",
       "          (linear1): Linear(in_features=128, out_features=256, bias=True)\n",
       "          (dropout): Dropout(p=0.0, inplace=False)\n",
       "          (linear2): Linear(in_features=256, out_features=128, bias=True)\n",
       "          (norm1): LayerNorm((128,), eps=1e-05, elementwise_affine=True)\n",
       "          (norm2): LayerNorm((128,), eps=1e-05, elementwise_affine=True)\n",
       "          (dropout1): Dropout(p=0.0, inplace=False)\n",
       "          (dropout2): Dropout(p=0.0, inplace=False)\n",
       "          (attn): MultiheadAttention(\n",
       "            (out_proj): NonDynamicallyQuantizableLinear(in_features=128, out_features=128, bias=True)\n",
       "          )\n",
       "        )\n",
       "      )\n",
       "      (rope): RotaryEmbedding()\n",
       "    )\n",
       "    (out_ln): LayerNorm((128,), eps=1e-05, elementwise_affine=True)\n",
       "  )\n",
       "  (icl_predictor): ICLearning(\n",
       "    (tf_icl): Encoder(\n",
       "      (blocks): ModuleList(\n",
       "        (0-11): 12 x MultiheadAttentionBlock(\n",
       "          (linear1): Linear(in_features=512, out_features=1024, bias=True)\n",
       "          (dropout): Dropout(p=0.0, inplace=False)\n",
       "          (linear2): Linear(in_features=1024, out_features=512, bias=True)\n",
       "          (norm1): LayerNorm((512,), eps=1e-05, elementwise_affine=True)\n",
       "          (norm2): LayerNorm((512,), eps=1e-05, elementwise_affine=True)\n",
       "          (dropout1): Dropout(p=0.0, inplace=False)\n",
       "          (dropout2): Dropout(p=0.0, inplace=False)\n",
       "          (attn): MultiheadAttention(\n",
       "            (out_proj): NonDynamicallyQuantizableLinear(in_features=512, out_features=512, bias=True)\n",
       "          )\n",
       "        )\n",
       "      )\n",
       "    )\n",
       "    (ln): LayerNorm((512,), eps=1e-05, elementwise_affine=True)\n",
       "    (y_encoder): OneHotAndLinear(in_features=10, out_features=512, bias=True)\n",
       "    (decoder): Sequential(\n",
       "      (0): Linear(in_features=512, out_features=1024, bias=True)\n",
       "      (1): GELU(approximate='none')\n",
       "      (2): Linear(in_features=1024, out_features=10, bias=True)\n",
       "    )\n",
       "  )\n",
       ")"
      ]
     },
     "execution_count": 20,
     "metadata": {},
     "output_type": "execute_result"
    }
   ],
   "source": [
    "device = torch.device(\"cuda\" if torch.cuda.is_available() else \"cpu\")\n",
    "checkpoint = torch.load(\n",
    "    \"/home/D32485/exercice/tabicl-classifier-v1.1-0506.ckpt\", map_location=\"cpu\"\n",
    ")\n",
    "model.load_state_dict(checkpoint[\"state_dict\"])\n",
    "model.to(device)"
   ]
  },
  {
   "cell_type": "code",
   "execution_count": null,
   "id": "116c1d64",
   "metadata": {},
   "outputs": [
    {
     "name": "stdout",
     "output_type": "stream",
     "text": [
      "dict_keys(['config', 'state_dict'])\n"
     ]
    },
    {
     "name": "stderr",
     "output_type": "stream",
     "text": [
      "/tmp/ipykernel_55241/1286467796.py:1: FutureWarning: You are using `torch.load` with `weights_only=False` (the current default value), which uses the default pickle module implicitly. It is possible to construct malicious pickle data which will execute arbitrary code during unpickling (See https://github.com/pytorch/pytorch/blob/main/SECURITY.md#untrusted-models for more details). In a future release, the default value for `weights_only` will be flipped to `True`. This limits the functions that could be executed during unpickling. Arbitrary objects will no longer be allowed to be loaded via this mode unless they are explicitly allowlisted by the user via `torch.serialization.add_safe_globals`. We recommend you start setting `weights_only=True` for any use case where you don't have full control of the loaded file. Please open an issue on GitHub for any issues related to this experimental feature.\n",
      "  checkpoint = torch.load(\"/home/D32485/exercice/tabicl-classifier-v1.1-0506.ckpt\", map_location=\"cpu\")\n"
     ]
    }
   ],
   "source": [
    "checkpoint = torch.load(\n",
    "    \"/home/D32485/exercice/tabicl-classifier-v1.1-0506.ckpt\", map_location=\"cpu\"\n",
    ")\n",
    "print(checkpoint.keys())"
   ]
  },
  {
   "cell_type": "code",
   "execution_count": 21,
   "id": "e9fbbf02",
   "metadata": {},
   "outputs": [],
   "source": [
    "import torch.nn.init as init\n",
    "import torch.optim as optim\n",
    "from torch.optim.lr_scheduler import ReduceLROnPlateau"
   ]
  },
  {
   "cell_type": "code",
   "execution_count": null,
   "id": "4f2f7d43",
   "metadata": {},
   "outputs": [],
   "source": [
    "def train(model, micro_X, y, train_len, micro_d, device, learning_rate=5e-5, epochs=40):\n",
    "    # Move model to the specified device\n",
    "    model.to(device)\n",
    "\n",
    "    # Define the loss function (CrossEntropy includes softmax)\n",
    "    criterion = torch.nn.CrossEntropyLoss()\n",
    "\n",
    "    # Define the optimizer (only updating the last layer)\n",
    "    optimizer = optim.Adam(model.parameters(), lr=learning_rate)\n",
    "\n",
    "    # Learning rate scheduler (Reduce when loss stops improving)\n",
    "    scheduler = ReduceLROnPlateau(\n",
    "        optimizer, mode=\"min\", factor=0.5, patience=5, verbose=True\n",
    "    )\n",
    "\n",
    "    # Lists to store loss and accuracy per epoch\n",
    "    train_losses = []\n",
    "    train_accuracies = []\n",
    "\n",
    "    # Training loop\n",
    "    for epoch in range(epochs):\n",
    "        model.train()  # Set the model to training mode\n",
    "\n",
    "        optimizer.zero_grad()  # Reset accumulated gradients\n",
    "\n",
    "        # Forward pass (only the last layer)\n",
    "        # outputs = model(data, labels)\n",
    "        # print(\"Labels dim : \", labels.shape)\n",
    "        # print(\"Outputs dim : \", outputs.shape)\n",
    "        # loss = criterion(outputs, labels)  # Compute the loss\n",
    "        y_train = y[:, :train_len]\n",
    "        y_test = y[:, train_len:]\n",
    "        pred = model(micro_X, y_train, micro_d)  # (B, test_size, max_classes)\n",
    "        pred = pred.flatten(end_dim=-2)\n",
    "        true = y_test.long().flatten()\n",
    "        print(\"Pred shape : \", pred.shape)\n",
    "        print(\"True shape: \", true.shape)\n",
    "        loss = criterion(pred, true)\n",
    "\n",
    "        loss.backward()  # Compute gradients\n",
    "        optimizer.step()  # Update weights\n",
    "        scheduler.step(loss)  # Step the scheduler based on validation loss\n",
    "\n",
    "        # Compute accuracy\n",
    "        _, predicted = pred.max(1)\n",
    "        # Compare predicted with labels to check how many predictions are correct\n",
    "        accuracy = (predicted == y_test).sum().item() / y_test.size(0)\n",
    "\n",
    "        # Store metrics\n",
    "        train_losses.append(loss.item())\n",
    "        train_accuracies.append(accuracy)\n",
    "\n",
    "        # Print epoch results\n",
    "        print(\n",
    "            f\"Epoch {epoch + 1}/{epochs}, Loss: {loss.item():.4f}, lr: {optimizer.param_groups[0]['lr']:.6f}, Accuracy: {accuracy:.6f}\"\n",
    "        )\n",
    "\n",
    "    return train_losses, train_accuracies"
   ]
  },
  {
   "cell_type": "code",
   "execution_count": 2,
   "id": "5648ff69",
   "metadata": {},
   "outputs": [
    {
     "name": "stdout",
     "output_type": "stream",
     "text": [
      "[('V2', ['bohemian', 'Brief', 'Casual', 'cute', 'fashion', 'Flare', 'Novelty', 'OL', 'party', 'sexy', 'Sexy', 'vintage', 'work']), ('V3', ['Average', 'high', 'High', 'low', 'Low', 'Medium', 'very-high']), ('V4', 'NUMERIC'), ('V5', ['free', 'L', 'M', 's', 'S', 'small', 'XL']), ('V6', ['Automn', 'Autumn', 'spring', 'Spring', 'summer', 'Summer', 'winter', 'Winter']), ('V7', ['backless', 'boat-neck', 'bowneck', 'halter', 'mandarin-collor', 'o-neck', 'open', 'peterpan-collor', 'ruffled', 'Scoop', 'slash-neck', 'sqare-collor', 'sweetheart', 'Sweetheart', 'turndowncollor', 'v-neck']), ('V8', ['butterfly', 'capsleeves', 'cap-sleeves', 'full', 'half', 'halfsleeve', 'Petal', 'short', 'sleeevless', 'sleeveless', 'sleevless', 'sleveless', 'threequarter', 'threequater', 'thressqatar', 'turndowncollor', 'urndowncollor']), ('V9', ['dropped', 'empire', 'natural', 'princess']), ('V10', ['acrylic', 'cashmere', 'chiffonfabric', 'cotton', 'knitting', 'lace', 'linen', 'lycra', 'microfiber', 'milksilk', 'mix', 'modal', 'model', 'nylon', 'other', 'polyster', 'rayon', 'shiffon', 'silk', 'sill', 'spandex', 'viscos', 'wool']), ('V11', ['batik', 'broadcloth', 'chiffon', 'Corduroy', 'dobby', 'flannael', 'flannel', 'jersey', 'knitted', 'knitting', 'lace', 'organza', 'other', 'poplin', 'satin', 'sattin', 'shiffon', 'terry', 'tulle', 'wollen', 'woolen', 'worsted']), ('V12', ['applique', 'beading', 'bow', 'button', 'cascading', 'crystal', 'draped', 'embroidary', 'feathers', 'flowers', 'hollowout', 'lace', 'none', 'pearls', 'plain', 'pleat', 'pockets', 'rivet', 'ruched', 'ruffles', 'sashes', 'sequined', 'tassel', 'Tiered']), ('V13', ['animal', 'character', 'dot', 'floral', 'geometric', 'leapord', 'leopard', 'none', 'patchwork', 'plaid', 'print', 'solid', 'splice', 'striped']), ('Class', ['1', '2'])]\n",
      "[['Sexy', 'Low', 4.6, 'M', 'Summer', 'o-neck', 'sleevless', 'empire', None, 'chiffon', 'ruffles', 'animal', '2'], ['Casual', 'Low', 0.0, 'L', 'Summer', 'o-neck', 'Petal', 'natural', 'microfiber', None, 'ruffles', 'animal', '1'], ['vintage', 'High', 0.0, 'L', 'Automn', 'o-neck', 'full', 'natural', 'polyster', None, None, 'print', '1'], ['Brief', 'Average', 4.6, 'L', 'Spring', 'o-neck', 'full', 'natural', 'silk', 'chiffon', 'embroidary', 'print', '2'], ['cute', 'Low', 4.5, 'M', 'Summer', 'o-neck', 'butterfly', 'natural', 'chiffonfabric', 'chiffon', 'bow', 'dot', '1'], ['bohemian', 'Low', 0.0, 'M', 'Summer', 'v-neck', 'sleevless', 'empire', None, None, None, 'print', '1'], ['Casual', 'Average', 0.0, 'XL', 'Summer', 'o-neck', 'full', None, 'cotton', None, None, 'solid', '1'], ['Novelty', 'Average', 0.0, 'free', 'Automn', 'o-neck', 'short', 'natural', 'polyster', 'broadcloth', 'lace', None, '1'], ['Flare', 'Average', 0.0, 'free', 'Spring', 'v-neck', 'short', 'empire', 'cotton', 'broadcloth', 'beading', 'solid', '2'], ['bohemian', 'Low', 0.0, 'free', 'Summer', 'v-neck', 'sleevless', 'natural', 'nylon', 'chiffon', None, None, '2'], ['party', 'Average', 5.0, 'free', 'Summer', 'o-neck', 'full', 'natural', 'polyster', 'broadcloth', 'lace', 'solid', '1'], ['Flare', 'Average', 0.0, 'free', 'Spring', 'v-neck', 'short', None, 'nylon', None, None, 'animal', '1'], ['sexy', 'Low', 4.7, 'M', 'Winter', 'o-neck', 'threequarter', None, None, 'chiffon', 'lace', 'print', '2'], ['vintage', 'Average', 4.8, 'M', 'Summer', 'o-neck', 'short', 'empire', 'cotton', 'jersey', None, 'animal', '2'], ['Casual', 'Low', 5.0, 'M', 'Summer', 'boat-neck', 'short', None, 'cotton', None, 'sashes', 'solid', '1'], ['Casual', 'Low', 0.0, 'free', 'Winter', 'boat-neck', 'full', None, 'other', 'other', 'lace', None, '1'], ['cute', 'Average', 4.7, 'L', 'spring', 'o-neck', 'short', None, 'cotton', None, 'sashes', 'solid', '2'], ['bohemian', 'Medium', 5.0, 'free', 'Automn', 'o-neck', 'full', 'natural', None, None, 'hollowout', 'patchwork', '2'], ['Brief', 'Average', 0.0, 'M', 'Winter', 'peterpan-collor', 'threequarter', 'natural', 'cotton', None, None, 'patchwork', '1'], ['Sexy', 'Average', 5.0, 'M', 'Automn', 'o-neck', 'sleevless', 'empire', 'milksilk', None, None, None, '2'], ['Sexy', 'Average', 4.5, 'L', 'Automn', 'o-neck', 'full', None, 'cotton', None, 'beading', 'solid', '1'], ['Casual', 'Low', 4.3, 'M', 'Summer', 'o-neck', 'sleevless', 'natural', None, 'chiffon', None, 'solid', '1'], ['Brief', 'Low', 4.0, 'XL', 'Summer', 'v-neck', 'short', 'natural', 'cotton', None, 'pockets', 'solid', '1'], ['Sexy', 'Average', 4.7, 'S', 'Summer', 'v-neck', 'sleevless', 'empire', 'cotton', None, 'sequined', 'solid', '2'], ['Sexy', 'Average', 0.0, 'free', 'Automn', 'v-neck', 'sleevless', 'natural', 'polyster', None, 'lace', 'patchwork', '1'], ['Sexy', 'Average', 0.0, 'M', 'Automn', 'o-neck', 'sleevless', 'empire', 'cotton', 'broadcloth', None, 'print', '1'], ['Sexy', 'Average', 4.7, 'M', 'Spring', 'o-neck', 'sleevless', 'natural', None, None, None, 'solid', '2'], ['Casual', 'Low', 0.0, 'L', 'Summer', 'o-neck', 'sleevless', 'natural', 'cotton', 'jersey', None, 'print', '1'], ['cute', 'Low', 4.3, 'free', 'Automn', 'o-neck', 'sleevless', 'natural', 'polyster', 'chiffon', 'sashes', 'striped', '1'], ['cute', 'Low', 4.7, 'M', 'Spring', 'ruffled', 'short', 'empire', 'chiffonfabric', 'chiffon', 'bow', 'dot', '2'], ['Casual', 'Average', 4.6, 'L', 'Automn', 'o-neck', 'sleevless', 'empire', 'polyster', 'chiffon', 'ruffles', 'solid', '1'], ['Casual', 'Low', 0.0, 'M', 'Spring', 'o-neck', 'sleevless', 'natural', 'silk', 'chiffon', 'applique', 'solid', '2'], ['Casual', 'Average', 4.4, 'L', 'Automn', 'o-neck', 'sleevless', 'natural', 'linen', 'chiffon', 'ruffles', 'animal', '1'], ['Brief', 'Average', 4.3, 'L', 'Spring', 'o-neck', 'sleevless', 'empire', None, None, 'bow', 'solid', '2'], ['party', 'High', 4.7, 'M', 'Spring', 'o-neck', 'threequarter', None, None, None, None, 'print', '1'], ['Casual', 'Low', 4.6, 'free', 'Winter', 'boat-neck', 'full', 'natural', 'cotton', None, None, 'patchwork', '2'], ['vintage', 'Average', 4.6, 'free', 'Winter', 'o-neck', 'full', 'natural', None, 'chiffon', None, 'print', '2'], ['Brief', 'Average', 0.0, 'M', 'Automn', 'o-neck', 'short', 'natural', 'cotton', None, None, 'print', '1'], ['party', 'Average', 4.6, 'M', 'Winter', 'o-neck', 'sleevless', 'natural', 'cotton', None, 'lace', 'solid', '2'], ['Casual', 'Average', 4.5, 'M', 'Spring', 'v-neck', 'short', 'empire', 'cotton', None, 'button', 'solid', '2'], ['Brief', 'Average', 5.0, 'free', 'Spring', 'v-neck', 'sleevless', 'natural', 'cotton', 'broadcloth', 'lace', 'solid', '2'], ['Brief', 'Low', 4.4, 'L', 'Automn', 'o-neck', 'halfsleeve', 'natural', 'rayon', 'chiffon', 'sashes', 'solid', '1'], ['Casual', 'Average', 4.8, 'M', 'Winter', 'o-neck', 'short', 'natural', 'lycra', 'broadcloth', 'applique', 'patchwork', '1'], ['Casual', 'Low', 4.8, 'free', 'Spring', 'o-neck', 'sleevless', 'natural', 'cotton', None, None, 'print', '1'], ['vintage', 'Average', 4.8, 'M', 'Winter', 'o-neck', 'sleevless', 'natural', 'cotton', None, None, 'patchwork', '2'], ['Sexy', 'Average', 0.0, 'M', 'Winter', 'o-neck', 'short', 'natural', None, None, 'lace', 'solid', '1'], ['Sexy', 'Average', 4.8, 'L', 'Spring', 'v-neck', 'threequarter', 'empire', 'polyster', None, 'lace', 'geometric', '1'], ['Casual', 'Average', 0.0, 'M', 'Summer', 'o-neck', 'halfsleeve', 'natural', 'cotton', 'chiffon', 'ruffles', 'dot', '2'], ['Casual', 'Low', 4.7, 'M', 'Summer', 'o-neck', 'sleevless', 'empire', 'milksilk', None, None, 'solid', '1'], ['Casual', 'Medium', 0.0, 'L', 'Winter', 'boat-neck', 'full', 'empire', None, None, None, 'solid', '2'], ['Sexy', 'Low', 5.0, 'free', 'Summer', 'v-neck', 'sleevless', 'empire', None, 'chiffon', None, 'animal', '2'], ['Casual', 'Low', 4.3, 'free', 'Summer', 'o-neck', 'sleevless', None, 'milksilk', None, None, 'animal', '1'], ['Casual', 'Average', 0.0, 'L', 'Spring', 'o-neck', 'halfsleeve', 'natural', 'polyster', 'chiffon', 'hollowout', 'solid', '2'], ['Casual', 'Average', 4.6, 'free', 'Automn', 'o-neck', 'sleevless', 'natural', 'polyster', 'chiffon', 'sashes', 'solid', '2'], ['sexy', 'Average', 4.5, 'M', 'Spring', 'o-neck', 'threequarter', 'natural', 'polyster', None, 'lace', 'geometric', '1'], ['Novelty', 'Average', 0.0, 'S', 'Winter', 'turndowncollor', 'full', 'natural', 'cotton', None, None, 'patchwork', '1'], ['Casual', 'Average', 4.9, 'S', 'Winter', 'turndowncollor', 'full', 'natural', 'cotton', None, None, 'solid', '2'], ['sexy', 'Low', 4.6, 'L', 'Automn', 'o-neck', 'sleevless', 'natural', None, None, 'lace', 'solid', '2'], ['bohemian', 'Low', 4.5, 'M', 'Summer', 'v-neck', 'sleevless', 'natural', 'polyster', None, None, 'print', '2'], ['work', 'Average', 0.0, 'M', 'Automn', 'slash-neck', 'sleevless', 'natural', 'polyster', None, 'bow', 'patchwork', '1'], ['cute', 'High', 0.0, 'M', 'Spring', 'v-neck', 'full', 'natural', 'rayon', None, None, 'solid', '2'], ['Casual', 'Average', 0.0, 'free', 'Spring', 'o-neck', 'short', 'natural', 'cotton', None, 'hollowout', 'plaid', '1'], ['Casual', 'Average', 5.0, 'M', 'Summer', 'o-neck', 'short', 'empire', 'polyster', 'chiffon', None, 'animal', '1'], ['Casual', 'Average', 4.7, 'M', 'spring', 'o-neck', 'sleevless', 'natural', None, 'chiffon', 'sashes', 'solid', '1'], ['Sexy', 'Low', 4.0, 'S', 'Automn', 'o-neck', 'sleevless', 'empire', 'cotton', None, None, 'solid', '2'], ['Casual', 'Average', 5.0, 'M', 'Automn', 'v-neck', 'short', 'natural', 'cotton', 'broadcloth', 'beading', 'solid', '1'], ['Casual', 'Low', 0.0, 'free', 'Summer', 'v-neck', 'halfsleeve', 'natural', 'silk', 'broadcloth', 'applique', 'solid', '1'], ['Casual', 'Medium', 4.5, 'S', 'Winter', 'o-neck', 'full', 'natural', 'polyster', None, None, 'patchwork', '2'], ['work', 'Average', 4.8, 'L', 'Summer', 'v-neck', 'short', 'natural', 'polyster', None, 'hollowout', 'solid', '1'], ['Casual', 'Medium', 0.0, 'M', 'Automn', 'v-neck', 'short', 'empire', 'polyster', None, None, 'solid', '1'], ['bohemian', 'Average', 5.0, 'free', 'Summer', 'v-neck', 'sleevless', 'natural', 'cotton', 'batik', None, 'print', '2'], ['sexy', 'Low', 0.0, 'M', 'Spring', 'v-neck', 'short', 'natural', 'polyster', 'satin', 'ruffles', 'solid', '2'], ['Sexy', 'Average', 4.2, 'M', 'Winter', 'v-neck', 'sleevless', 'natural', 'cotton', 'flannael', None, 'solid', '1'], ['Casual', 'Low', 4.8, 'free', 'Spring', 'o-neck', 'full', 'natural', 'cotton', 'worsted', 'lace', 'solid', '1'], ['Casual', 'Low', 4.4, 'S', 'Automn', 'o-neck', 'sleevless', 'natural', 'polyster', None, None, 'solid', '1'], ['Casual', 'Low', 4.7, 'L', 'Spring', 'o-neck', 'short', None, 'chiffonfabric', 'chiffon', 'bow', 'dot', '1'], ['Casual', 'Average', 5.0, 'XL', 'Winter', 'boat-neck', 'full', None, 'cotton', None, None, 'geometric', '2'], ['Casual', 'Low', 0.0, 'free', 'Spring', 'v-neck', 'sleevless', None, 'cotton', None, None, 'print', '1'], ['Casual', 'Average', 0.0, 'free', 'Spring', 'o-neck', 'sleevless', 'natural', None, 'chiffon', None, 'solid', '1'], ['bohemian', 'very-high', 4.7, 'free', 'Winter', 'v-neck', 'sleevless', None, 'polyster', None, None, None, '2'], ['Casual', 'Low', 5.0, 'M', 'Summer', 'v-neck', 'sleevless', 'empire', 'polyster', 'chiffon', 'ruffles', 'animal', '1'], ['party', 'Average', 4.7, 'M', 'Spring', 'v-neck', 'sleevless', 'natural', 'polyster', 'chiffon', 'hollowout', 'solid', '1'], ['Sexy', 'Low', 5.0, 'free', 'Spring', 'o-neck', 'full', 'natural', 'cotton', 'worsted', None, 'striped', '1'], ['vintage', 'Low', 4.6, 'M', 'Summer', 'o-neck', 'short', 'natural', None, 'chiffon', None, 'print', '1'], ['Casual', 'Average', 0.0, 'free', 'Winter', 'o-neck', 'halfsleeve', 'empire', 'polyster', 'chiffon', 'hollowout', 'solid', '1'], ['Casual', 'low', 4.9, 'L', 'Summer', 'boat-neck', 'short', None, None, 'chiffon', None, 'patchwork', '2'], ['Casual', 'Low', 0.0, 'S', 'Automn', 'o-neck', 'full', 'natural', None, None, 'beading', 'solid', '2'], ['Sexy', 'Average', 4.0, 'S', 'Automn', 'v-neck', 'sleevless', None, 'rayon', 'chiffon', None, 'patchwork', '2'], ['Sexy', 'Low', 5.0, 'M', 'Automn', 'o-neck', 'full', 'natural', None, 'chiffon', 'lace', 'print', '2'], ['Brief', 'Average', 4.6, 'M', 'Winter', 'peterpan-collor', 'threequarter', None, 'cotton', None, None, 'solid', '1'], ['Casual', 'Average', 0.0, 'L', 'Spring', 'boat-neck', 'sleevless', 'natural', 'cotton', None, 'applique', 'patchwork', '2'], ['Casual', 'Average', 4.8, 'L', 'Winter', 'o-neck', 'short', 'natural', 'cotton', None, 'pockets', 'solid', '2'], ['OL', 'Medium', 0.0, 'M', 'Winter', 'mandarin-collor', 'halfsleeve', 'natural', 'cotton', None, 'sashes', 'solid', '1'], ['Sexy', 'Low', 4.8, 'M', 'Spring', 'o-neck', 'halfsleeve', 'natural', 'silk', None, None, 'solid', '1'], ['Casual', 'Medium', 0.0, 'S', 'Spring', 'v-neck', 'full', None, None, None, None, 'animal', '2'], ['Casual', 'Medium', 0.0, 'M', 'Spring', 'v-neck', 'threequarter', 'natural', 'silk', 'chiffon', 'ruffles', 'solid', '2'], ['Casual', 'Average', 0.0, 'M', 'Spring', 'o-neck', 'sleevless', 'natural', 'silk', None, None, 'print', '1'], ['Casual', 'Average', 0.0, 'free', 'Winter', 'v-neck', 'full', 'natural', None, 'chiffon', 'ruffles', 'print', '1'], ['vintage', 'Low', 4.8, 'S', 'Summer', 'o-neck', 'short', 'natural', None, 'chiffon', 'ruffles', 'print', '1'], ['Sexy', 'Low', 4.8, 'L', 'Summer', 'v-neck', 'full', 'natural', 'cotton', 'jersey', 'applique', 'print', '2'], ['fashion', 'Average', 4.0, 'free', 'Summer', 'open', 'full', None, 'cotton', None, 'sequined', 'solid', '1'], ['Casual', 'Average', 4.7, 'L', 'Summer', 'v-neck', 'short', 'natural', None, None, None, 'print', '2'], ['Casual', 'Low', 0.0, 'free', 'Winter', 'o-neck', 'halfsleeve', 'natural', 'polyster', 'worsted', None, 'patchwork', '2'], ['bohemian', 'Low', 4.8, 'free', 'Summer', 'o-neck', 'short', None, None, None, None, 'animal', '2'], ['work', 'Medium', 4.6, 'L', 'Winter', 'sqare-collor', 'short', 'empire', 'cotton', None, 'Tiered', 'solid', '1'], ['vintage', 'Average', 4.7, 'L', 'Summer', 'o-neck', 'short', 'natural', 'cotton', None, 'button', 'solid', '1'], ['cute', 'Low', 4.7, 'M', 'Spring', 'o-neck', 'short', 'empire', 'polyster', 'chiffon', 'ruffles', 'dot', '2'], ['Casual', 'Low', 4.6, 'free', 'Automn', 'o-neck', 'full', 'natural', 'cotton', None, None, 'solid', '2'], ['Casual', 'Medium', 0.0, 'free', 'Spring', 'o-neck', 'sleevless', 'natural', 'cotton', 'broadcloth', 'sequined', 'solid', '2'], ['Casual', 'Average', 4.7, 'L', 'Automn', 'o-neck', 'halfsleeve', None, None, None, 'lace', None, '1'], ['Sexy', 'Average', 0.0, 'L', 'Automn', 'v-neck', 'sleevless', 'empire', None, 'chiffon', None, 'patchwork', '1'], ['Casual', 'Low', 4.7, 'free', 'Winter', 'o-neck', 'sleevless', 'natural', 'cotton', 'jersey', None, 'solid', '2'], ['Casual', 'Average', 0.0, 'M', 'Automn', 'o-neck', 'short', 'empire', 'polyster', None, 'applique', 'print', '1'], ['cute', 'Average', 4.8, 'L', 'Automn', 'slash-neck', 'sleevless', 'natural', None, 'chiffon', 'hollowout', 'solid', '1'], ['party', 'Average', 5.0, 'M', 'Spring', 'o-neck', 'halfsleeve', 'natural', None, None, None, None, '2'], ['cute', 'Average', 4.3, 'L', 'Winter', 'o-neck', 'sleevless', 'natural', None, 'chiffon', None, 'solid', '1'], ['Casual', 'Average', 4.5, 'L', 'Spring', 'o-neck', 'short', 'natural', 'cotton', 'chiffon', None, 'patchwork', '1'], ['Casual', 'Low', 4.7, 'L', 'Automn', 'o-neck', 'full', None, 'cotton', 'chiffon', 'lace', 'print', '1'], ['Casual', 'Low', 4.5, 'free', 'Automn', 'v-neck', 'short', 'natural', 'silk', 'worsted', 'lace', 'solid', '1'], ['sexy', 'Average', 3.6, 'L', 'Winter', 'v-neck', 'full', 'natural', 'polyster', 'woolen', 'beading', 'solid', '2'], ['work', 'Average', 4.8, 'L', 'Winter', 'v-neck', 'short', 'natural', 'mix', 'broadcloth', 'lace', 'solid', '1'], ['vintage', 'Average', 0.0, 'free', 'Summer', 'o-neck', 'sleevless', None, None, None, None, None, '1'], ['Sexy', 'Low', 4.6, 'free', 'Spring', 'o-neck', 'full', 'natural', None, None, 'lace', 'leopard', '2'], ['Sexy', 'Low', 0.0, 'free', 'Winter', 'v-neck', 'sleevless', 'empire', 'cotton', 'chiffon', None, 'solid', '2'], ['work', 'Average', 4.6, 'L', 'Spring', 'o-neck', 'short', 'empire', 'cotton', 'jersey', None, 'patchwork', '1'], ['Casual', 'Average', 4.4, 'M', 'Summer', 'o-neck', 'short', 'empire', None, None, 'lace', 'patchwork', '1'], ['cute', 'Low', 4.9, 'M', 'Automn', 'o-neck', 'short', 'natural', 'chiffonfabric', 'chiffon', 'bow', 'dot', '1'], ['Sexy', 'Low', 4.6, 'free', 'Summer', 'v-neck', 'sleevless', 'natural', 'cotton', 'broadcloth', 'beading', 'solid', '1'], ['party', 'Average', 4.4, 'free', 'Automn', 'v-neck', 'threequarter', 'natural', None, None, None, 'solid', '1'], ['Casual', 'Average', 0.0, 'free', 'Spring', 'o-neck', 'short', None, 'cotton', None, 'lace', None, '2'], ['Casual', 'Low', 0.0, 'M', 'Summer', 'v-neck', 'full', 'natural', 'acrylic', None, 'lace', 'solid', '1'], ['Sexy', 'Average', 4.6, 'M', 'Winter', 'o-neck', 'full', 'natural', 'polyster', None, None, 'patchwork', '2'], ['work', 'Average', 4.6, 'M', 'Spring', 'v-neck', 'full', None, None, 'chiffon', None, None, '1'], ['cute', 'Average', 4.7, 'L', 'Winter', 'o-neck', 'sleevless', 'natural', 'chiffonfabric', None, 'lace', 'solid', '1'], ['bohemian', 'Average', 4.7, 'L', 'Automn', 'o-neck', 'sleevless', 'natural', None, 'chiffon', None, 'solid', '1'], ['cute', 'High', 0.0, 'M', 'Winter', 'o-neck', 'threequarter', 'empire', 'silk', 'chiffon', 'lace', 'patchwork', '1'], ['Casual', 'Average', 0.0, 'XL', 'Winter', 'o-neck', 'short', 'empire', 'polyster', None, 'button', 'solid', '1'], ['Novelty', 'Average', 4.9, 'L', 'Automn', 'o-neck', 'short', 'natural', 'polyster', 'chiffon', None, 'print', '2'], ['Casual', 'Low', 4.7, 'M', 'Automn', 'o-neck', 'full', None, 'cotton', None, None, 'solid', '1'], ['cute', 'Average', 4.3, 'free', 'Summer', 'boat-neck', 'sleevless', None, None, None, None, None, '2'], ['Sexy', 'Low', 0.0, 'free', 'Automn', 'slash-neck', 'short', 'empire', None, None, 'hollowout', 'solid', '1'], ['cute', 'Low', 4.7, 'XL', 'Summer', 'o-neck', 'short', 'empire', 'chiffonfabric', 'chiffon', 'bow', 'print', '1'], ['Sexy', 'low', 4.5, 'L', 'Spring', 'o-neck', 'sleevless', None, None, None, 'lace', 'solid', '1'], ['Casual', 'Average', 4.7, 'M', 'Automn', 'o-neck', 'sleevless', None, 'cotton', None, None, 'animal', '2'], ['Casual', 'Average', 0.0, 'L', 'Spring', 'boat-neck', 'sleevless', 'natural', 'cotton', None, 'lace', 'solid', '2'], ['cute', 'low', 4.7, 'free', 'Summer', 'o-neck', 'sleevless', None, None, 'chiffon', None, 'print', '2'], ['Casual', 'low', 4.4, 'free', 'Summer', 'turndowncollor', 'sleevless', 'natural', 'cotton', None, None, 'solid', '1'], ['Casual', 'Average', 4.8, 'L', 'winter', 'v-neck', 'short', 'empire', 'polyster', None, 'ruffles', 'solid', '1'], ['vintage', 'Average', 4.3, 'free', 'winter', 'o-neck', 'short', None, 'chiffonfabric', 'chiffon', None, 'print', '1'], ['cute', 'low', 4.5, 'L', 'Summer', 'o-neck', 'sleevless', 'natural', 'cotton', 'chiffon', 'sashes', 'solid', '2'], ['Casual', 'Average', 4.4, 'M', 'Summer', 'turndowncollor', 'sleevless', 'natural', 'chiffonfabric', 'chiffon', None, 'solid', '1'], ['vintage', 'Medium', 0.0, 'S', 'Winter', 'turndowncollor', 'halfsleeve', 'natural', 'cotton', 'broadcloth', None, 'plaid', '1'], ['Sexy', 'low', 4.7, 'free', 'Summer', 'turndowncollor', 'sleevless', 'natural', 'cotton', None, None, 'solid', '2'], ['vintage', 'High', 0.0, 'L', 'Summer', 'o-neck', 'short', 'natural', 'cotton', None, None, 'print', '1'], ['Casual', 'low', 0.0, 'free', 'Spring', 'v-neck', 'threequarter', None, 'silk', None, 'lace', None, '2'], ['Sexy', 'Average', 0.0, 'S', 'Automn', 'slash-neck', 'short', 'natural', None, None, 'lace', 'solid', '1'], ['Casual', 'Low', 0.0, 'free', 'Spring', 'o-neck', 'short', 'natural', None, None, 'hollowout', 'solid', '1'], ['cute', 'Medium', 5.0, 'free', 'Winter', 'o-neck', 'sleevless', 'natural', 'silk', None, 'lace', 'solid', '2'], ['Casual', 'Low', 4.7, 'free', 'Summer', 'o-neck', 'sleevless', None, None, None, None, 'print', '1'], ['Sexy', 'Low', 4.8, 'free', 'Spring', 'v-neck', 'sleevless', None, None, None, 'sequined', 'solid', '2'], ['Casual', 'Average', 4.5, 'L', 'Winter', 'o-neck', 'short', 'natural', 'cotton', None, 'bow', 'patchwork', '1'], ['vintage', 'Average', 0.0, 'S', 'Spring', 'o-neck', 'full', 'natural', 'mix', 'chiffon', 'embroidary', 'print', '1'], ['Casual', 'Average', 3.7, 'free', 'Automn', 'boat-neck', 'full', None, None, None, None, 'solid', '2'], ['vintage', 'Average', 4.8, 'L', 'Winter', 'o-neck', 'sleevless', 'natural', 'cotton', None, None, 'patchwork', '1'], ['cute', 'Average', 0.0, 'XL', 'Spring', 'boat-neck', 'full', None, 'cotton', 'worsted', 'applique', 'dot', '2'], ['Casual', 'Average', 0.0, 'L', 'Winter', 'open', 'short', 'natural', 'mix', 'poplin', 'applique', 'solid', '2'], ['sexy', 'Medium', 5.0, 'M', 'Winter', 'o-neck', 'sleevless', 'empire', 'polyster', None, 'bow', 'solid', '1'], ['Brief', 'Average', 4.9, 'free', 'Summer', 'slash-neck', 'sleevless', 'natural', None, None, None, 'solid', '1'], ['Casual', 'High', 4.9, 'S', 'Spring', 'o-neck', 'threequarter', 'natural', None, None, None, 'dot', '2'], ['Brief', 'Average', 4.6, 'free', 'Winter', 'o-neck', 'full', 'natural', 'mix', None, 'sashes', 'solid', '1'], ['Casual', 'Low', 4.5, 'free', 'Winter', 'o-neck', 'full', 'natural', 'mix', 'worsted', 'applique', 'solid', '1'], ['Casual', 'Low', 4.8, 'XL', 'Summer', 'o-neck', 'short', 'empire', 'mix', 'chiffon', 'sashes', 'geometric', '1'], ['Sexy', 'Medium', 4.6, 'L', 'Summer', 'o-neck', 'short', 'natural', 'spandex', 'jersey', 'lace', 'solid', '1'], ['Casual', 'Average', 4.5, 'M', 'Winter', 'v-neck', 'sleevless', 'natural', None, 'chiffon', 'button', 'striped', '1'], ['work', 'Average', 0.0, 'S', 'Automn', 'o-neck', 'sleevless', 'natural', 'linen', None, None, 'patchwork', '1'], ['Casual', 'Low', 0.0, 'L', 'Winter', 'o-neck', 'sleevless', 'empire', 'polyster', None, None, 'leopard', '1'], ['cute', 'low', 5.0, 'L', 'Winter', 'o-neck', 'threequarter', 'natural', 'silk', 'chiffon', 'sashes', 'print', '1'], ['Brief', 'Average', 4.3, 'M', 'Spring', 'o-neck', 'full', 'natural', 'mix', 'worsted', 'sequined', 'patchwork', '2'], ['Sexy', 'low', 4.4, 'free', 'Automn', 'o-neck', 'full', 'empire', 'cotton', None, None, 'leopard', '1'], ['cute', 'low', 0.0, 'free', 'Summer', 'peterpan-collor', 'short', 'empire', 'cotton', 'broadcloth', 'applique', 'print', '1'], ['Casual', 'Average', 4.5, 'free', 'Summer', 'o-neck', 'short', 'natural', 'cotton', None, None, 'solid', '2'], ['Sexy', 'low', 4.7, 'M', 'Winter', 'slash-neck', 'sleevless', None, 'nylon', None, 'sashes', 'solid', '2'], ['Casual', 'low', 4.7, 'free', 'Spring', 'o-neck', 'sleevless', 'empire', 'cotton', 'chiffon', None, 'floral', '1'], ['Casual', 'Medium', 4.8, 'M', 'Winter', 'peterpan-collor', 'short', 'natural', 'polyster', 'chiffon', 'lace', 'patchwork', '1'], ['Sexy', 'low', 4.3, 'free', 'Winter', 'v-neck', 'sleevless', 'natural', 'silk', 'worsted', 'lace', 'solid', '2'], ['bohemian', 'Average', 0.0, 'L', 'Winter', 'turndowncollor', 'full', 'natural', 'mix', None, None, 'solid', '1'], ['Casual', 'Low', 0.0, 'free', None, 'o-neck', 'full', 'natural', 'cotton', None, None, 'patchwork', '1'], ['cute', 'Medium', 4.8, 'free', 'Spring', 'slash-neck', 'sleevless', 'natural', 'polyster', 'chiffon', 'sashes', 'solid', '2'], ['Sexy', 'Average', 0.0, 'S', 'Automn', 'v-neck', 'sleevless', 'empire', 'cotton', None, 'beading', 'solid', '1'], ['Casual', 'Low', 4.6, 'S', 'Spring', 'o-neck', 'full', 'natural', 'cotton', None, None, 'solid', '2'], ['vintage', 'Medium', 4.7, 'free', 'Spring', 'turndowncollor', 'sleevless', 'natural', 'mix', None, 'lace', 'solid', '2'], ['work', 'low', 4.7, 'free', 'Summer', 'o-neck', 'full', 'empire', 'cotton', None, None, 'solid', '1'], ['cute', 'Average', 4.8, 'M', 'Summer', 'o-neck', 'short', 'natural', 'cotton', None, 'rivet', 'solid', '1'], ['cute', 'Average', 0.0, 'M', 'Summer', 'o-neck', 'short', 'natural', 'cotton', 'chiffon', None, 'print', '1'], ['Casual', 'Average', 4.7, 'M', 'winter', 'o-neck', 'full', None, None, None, None, 'animal', '1'], ['Casual', 'low', 4.6, 'free', 'winter', 'o-neck', 'full', 'natural', 'polyster', None, 'applique', 'solid', '2'], ['party', 'Average', 5.0, 'free', 'Summer', 'v-neck', 'sleevless', None, None, None, None, None, '1'], ['Casual', 'Average', 0.0, 'free', 'Summer', 'v-neck', 'sleevless', 'natural', 'cotton', 'chiffon', None, 'patchwork', '1'], ['Sexy', 'Average', 5.0, 'L', 'winter', 'o-neck', 'threequarter', 'natural', 'polyster', None, 'lace', 'geometric', '1'], ['Sexy', 'Average', 4.8, 'free', 'Winter', 'o-neck', 'sleevless', 'natural', 'polyster', None, 'embroidary', 'solid', '1'], ['Casual', 'Average', 4.7, 'S', 'Summer', 'v-neck', 'short', 'natural', 'cotton', None, None, 'dot', '1'], ['Casual', 'Average', 4.1, 'M', 'Automn', 'v-neck', 'full', None, None, 'chiffon', 'sashes', None, '2'], ['Casual', 'Average', 5.0, 'XL', 'Automn', 'o-neck', 'short', 'natural', 'chiffonfabric', 'chiffon', None, None, '1'], ['Sexy', 'Average', 5.0, 'M', 'Summer', 'v-neck', 'sleevless', 'empire', 'cotton', None, 'sequined', 'solid', '2'], ['work', 'Average', 4.6, 'L', 'Summer', 'slash-neck', 'short', 'natural', 'cotton', None, None, 'solid', '1'], ['Casual', 'Average', 4.5, 'M', 'Summer', 'peterpan-collor', 'sleevless', None, None, None, None, None, '1'], ['vintage', 'Average', 4.5, 'L', 'Automn', 'o-neck', 'sleevless', 'empire', None, 'worsted', None, 'solid', '1'], ['Casual', 'Average', 0.0, 'M', 'Summer', 'o-neck', 'threequarter', 'natural', 'nylon', 'broadcloth', None, 'solid', '2'], ['cute', 'Average', 4.7, 'L', 'Summer', 'o-neck', 'sleevless', 'natural', 'cotton', 'worsted', None, 'print', '1'], ['bohemian', 'Low', 4.7, 'free', 'Winter', 'o-neck', 'short', 'natural', 'nylon', None, 'sashes', 'print', '1'], ['Casual', 'low', 5.0, 'free', 'Spring', 'slash-neck', 'sleevless', 'empire', 'spandex', None, None, 'striped', '2'], ['Casual', 'Average', 5.0, 'M', 'Winter', 'o-neck', 'sleevless', 'natural', None, 'chiffon', 'sashes', 'solid', '2'], ['Casual', 'Average', 4.3, 'free', 'Summer', 'o-neck', 'sleevless', 'natural', 'cotton', 'worsted', None, 'striped', '1'], ['work', 'low', 4.5, 'M', 'Winter', 'v-neck', 'threequarter', None, None, None, None, 'patchwork', '1'], ['Casual', 'Average', 4.3, 'S', 'Spring', 'boat-neck', 'full', 'natural', 'cotton', None, 'lace', 'patchwork', '2'], ['Casual', 'Average', 4.4, 'L', 'Automn', 'o-neck', 'halfsleeve', 'natural', None, 'dobby', 'lace', 'animal', '1'], ['sexy', 'Low', 4.3, 'M', 'Automn', 'open', 'short', 'natural', 'lace', None, 'lace', 'print', '1'], ['Casual', 'Low', 4.6, 'free', 'Summer', 'o-neck', 'full', 'natural', 'cotton', 'worsted', 'lace', 'solid', '2'], ['Casual', 'low', 4.6, 'L', 'Winter', 'o-neck', 'full', None, 'cotton', None, None, None, '1'], ['Casual', 'Average', 4.6, 'M', 'Spring', 'o-neck', 'sleevless', 'natural', None, 'chiffon', 'sashes', 'solid', '2'], ['Casual', 'low', 0.0, 'free', 'Automn', 'peterpan-collor', 'threequarter', 'empire', None, None, None, None, '1'], ['Casual', 'Average', 4.7, 'S', 'Spring', 'o-neck', 'halfsleeve', 'empire', None, 'chiffon', None, None, '2'], ['Casual', 'Average', 0.0, 'S', 'Summer', 'o-neck', 'sleevless', 'empire', 'cotton', None, None, 'solid', '1'], ['Casual', 'low', 4.8, 'free', 'Summer', 'o-neck', 'sleevless', 'natural', 'cotton', None, None, 'print', '2'], ['Casual', 'Average', 5.0, 'S', 'Winter', 'o-neck', 'sleevless', 'empire', 'polyster', 'chiffon', None, 'plaid', '1'], ['Sexy', 'very-high', 0.0, 'free', 'Winter', 'v-neck', 'sleevless', 'natural', 'polyster', 'knitting', None, 'solid', '1'], ['Casual', 'low', 4.4, 'free', 'Summer', 'o-neck', 'sleevless', 'natural', 'polyster', None, 'sashes', 'print', '1'], ['Casual', 'Average', 4.8, 'M', 'Automn', 'v-neck', 'short', None, None, 'chiffon', 'embroidary', 'print', '2'], ['Casual', 'Average', 5.0, 'free', 'Summer', 'v-neck', 'sleevless', None, 'modal', None, None, 'patchwork', '1'], ['Sexy', 'low', 4.8, 'M', 'Automn', 'v-neck', 'full', 'natural', 'cotton', None, None, 'print', '2'], ['Casual', 'Average', 4.6, 'free', 'Winter', 'v-neck', 'full', 'natural', 'cotton', 'flannel', None, 'striped', '1'], ['Casual', 'Average', 4.6, 'M', 'Winter', 'v-neck', 'full', 'natural', 'chiffonfabric', 'chiffon', None, None, '1'], ['Casual', 'low', 5.0, 'S', 'Spring', 'o-neck', 'sleevless', 'natural', 'chiffonfabric', None, None, 'print', '1'], ['cute', 'Average', 0.0, 'M', 'Winter', 'o-neck', 'short', 'natural', 'polyster', 'chiffon', 'sashes', 'solid', '1'], ['Casual', 'low', 4.8, 'free', 'Spring', 'o-neck', 'sleevless', None, 'chiffonfabric', 'chiffon', None, 'print', '2'], ['Casual', 'Average', 4.6, 'M', 'Automn', 'o-neck', 'short', 'empire', 'polyster', None, 'applique', 'dot', '1'], ['bohemian', 'Average', 5.0, 'M', 'Spring', 'slash-neck', 'sleevless', 'empire', None, 'chiffon', 'ruffles', 'solid', '2'], ['Casual', 'Low', 4.9, 'free', 'winter', 'o-neck', 'sleevless', 'empire', 'silk', None, 'sashes', 'print', '2'], ['Casual', 'Average', 4.7, 'L', 'Summer', 'o-neck', 'sleevless', 'natural', 'silk', 'chiffon', 'beading', 'solid', '1'], ['Casual', 'Medium', 4.6, 'M', 'winter', 'o-neck', 'full', 'natural', 'cashmere', None, None, 'solid', '2'], ['Casual', 'Average', 4.7, 'M', 'winter', 'v-neck', 'sleevless', 'empire', 'polyster', 'chiffon', 'applique', 'print', '1'], ['Sexy', 'Average', 4.7, 'M', 'winter', 'v-neck', 'sleevless', 'natural', 'polyster', 'broadcloth', None, 'patchwork', '1'], ['Casual', 'Average', 3.5, 'M', 'winter', 'v-neck', 'short', 'natural', None, None, None, 'solid', '1'], ['Casual', 'Average', 4.8, 'M', 'winter', 'o-neck', 'threequarter', 'natural', None, None, None, 'print', '2'], ['Casual', 'Average', 0.0, 'M', 'winter', 'o-neck', 'full', 'natural', 'cotton', 'jersey', 'feathers', 'solid', '2'], ['Casual', 'low', 4.6, 'M', 'Summer', 'o-neck', 'sleevless', 'natural', 'cotton', None, 'sashes', 'striped', '1'], ['Casual', 'Average', 4.7, 'L', 'Spring', 'v-neck', 'halfsleeve', 'natural', None, 'broadcloth', None, 'print', '2'], ['Casual', 'low', 4.5, 'free', 'Summer', 'o-neck', 'full', 'natural', 'cotton', None, 'button', 'solid', '1'], ['Casual', 'Average', 4.7, 'M', 'Summer', 'o-neck', 'sleevless', 'natural', 'polyster', None, None, 'character', '1'], ['Casual', 'low', 4.5, 'M', 'Winter', 'o-neck', 'short', 'natural', 'chiffonfabric', 'chiffon', None, 'solid', '1'], ['Casual', 'low', 4.7, 'S', 'summer', 'o-neck', 'full', 'natural', 'cotton', None, None, 'patchwork', '1'], ['cute', 'Low', 0.0, 'free', 'Summer', 'boat-neck', 'sleevless', None, 'cotton', None, None, 'print', '1'], ['party', 'very-high', 5.0, 'M', 'Spring', 'slash-neck', 'sleevless', 'natural', 'chiffonfabric', 'chiffon', 'flowers', None, '2'], ['Casual', 'Average', 4.9, 'M', 'Automn', 'v-neck', 'sleevless', None, 'polyster', None, None, None, '2'], ['party', 'very-high', 0.0, 'L', 'Winter', 'v-neck', 'sleevless', 'natural', 'polyster', 'tulle', 'beading', None, '1'], ['party', 'very-high', 0.0, 'M', 'Winter', 'v-neck', 'cap-sleeves', None, None, 'chiffon', 'lace', None, '1'], ['Casual', 'Low', 4.4, 'M', 'Winter', 'v-neck', 'turndowncollor', None, 'cotton', None, None, None, '2'], ['party', 'very-high', 0.0, 'M', 'Spring', 'v-neck', 'threequater', 'natural', 'lycra', 'sattin', 'applique', None, '2'], ['party', 'high', 0.0, 'M', 'Winter', 'Sweetheart', 'sleevless', 'natural', None, None, 'pearls', None, '1'], ['party', 'high', 0.0, 'M', 'Spring', 'Sweetheart', 'sleevless', None, 'nylon', None, None, None, '1'], ['party', 'Average', 5.0, 'M', 'Winter', 'o-neck', 'capsleeves', 'empire', 'polyster', None, 'lace', None, '2'], ['party', 'high', 4.7, 'M', 'Winter', 'sweetheart', 'sleeveless', 'natural', None, 'chiffon', 'flowers', None, '1'], ['party', None, 4.8, 'free', 'Winter', 'o-neck', 'sleevless', 'empire', None, None, 'embroidary', None, '2'], ['party', None, 4.5, 'L', 'Summer', None, 'full', None, None, None, None, None, '2'], ['party', 'very-high', 4.9, 'M', 'Spring', 'Sweetheart', 'sleeevless', 'empire', None, 'chiffon', 'beading', None, '2'], ['party', 'high', 4.6, 'M', 'winter', 'Sweetheart', 'sleevless', 'natural', None, 'chiffon', None, None, '1'], ['party', 'Average', 5.0, 'M', 'Spring', 'Sweetheart', 'sleevless', 'natural', 'polyster', None, None, None, '2'], ['party', 'very-high', 4.8, 'L', 'Spring', 'Sweetheart', 'sleevless', 'empire', 'microfiber', 'organza', 'beading', None, '2'], ['party', 'very-high', 0.0, 'M', 'Winter', 'Sweetheart', 'sleevless', 'natural', 'polyster', 'chiffon', 'beading', None, '2'], ['party', 'high', 4.6, 'L', 'Spring', 'slash-neck', 'sleevless', 'empire', 'silk', 'chiffon', 'beading', None, '1'], ['party', 'Average', 4.8, 'L', None, 'Sweetheart', 'sleevless', 'empire', None, None, 'pleat', None, '2'], ['party', 'Medium', 4.6, 'S', 'Winter', 'Scoop', 'short', 'empire', None, None, 'crystal', None, '1'], ['party', 'very-high', 4.9, 'M', 'Spring', 'Sweetheart', 'sleevless', 'natural', 'silk', 'chiffon', 'beading', None, '2'], ['party', 'Medium', 4.8, 'S', 'Spring', 'v-neck', 'sleevless', 'empire', None, None, None, None, '2'], ['party', 'very-high', 4.2, 'L', 'Winter', 'v-neck', 'sleevless', None, None, None, 'lace', None, '2'], ['Casual', 'Low', 4.4, 'free', 'Summer', 'o-neck', 'sleevless', None, None, None, None, None, '2'], ['party', 'very-high', 4.1, 'M', 'Winter', 'Scoop', 'short', 'natural', 'cotton', 'lace', 'applique', None, '2'], ['party', 'very-high', 0.0, 'M', 'Winter', 'o-neck', 'full', 'natural', None, None, 'feathers', None, '2'], ['Casual', 'high', 4.6, 'M', 'Summer', 'Sweetheart', 'sleevless', 'empire', None, None, 'beading', None, '2'], ['party', 'Average', 4.7, 'free', 'Winter', 'o-neck', 'sleevless', None, 'polyster', None, None, None, '1'], ['party', 'very-high', 4.7, 'L', 'Winter', 'slash-neck', 'sleevless', 'empire', 'viscos', 'chiffon', 'beading', None, '2'], ['party', 'very-high', 4.5, 'M', 'Spring', 'v-neck', 'cap-sleeves', None, None, None, 'lace', None, '2'], ['party', 'Average', 4.7, 'free', 'Spring', 'Sweetheart', 'sleevless', 'empire', 'rayon', 'chiffon', 'beading', 'solid', '2'], ['party', 'high', 4.8, 'M', 'Summer', 'Sweetheart', 'sleevless', 'princess', None, 'sattin', None, None, '2'], ['party', 'high', 4.6, 'M', 'Summer', 'slash-neck', 'sleevless', 'natural', None, 'chiffon', None, None, '2'], ['party', 'Medium', 4.7, 'M', 'Winter', 'o-neck', 'sleevless', 'empire', 'cotton', 'chiffon', 'button', None, '2'], ['cute', 'Average', 4.4, 'free', 'Spring', 'Sweetheart', 'sleevless', 'empire', 'spandex', 'tulle', 'ruched', 'solid', '2'], ['party', 'Average', 5.0, 'M', 'Spring', 'o-neck', 'sleevless', None, None, None, None, None, '2'], ['party', 'very-high', 4.8, 'free', 'Spring', 'Sweetheart', 'sleevless', 'natural', 'polyster', 'chiffon', 'beading', None, '2'], ['party', 'Medium', 4.8, 'M', 'Spring', 'o-neck', 'sleevless', 'natural', 'silk', 'chiffon', 'crystal', None, '2'], ['party', 'very-high', 4.9, 'L', 'Spring', 'slash-neck', 'sleevless', None, None, 'chiffon', 'flowers', None, '2'], ['party', 'Medium', 0.0, 'free', 'Winter', 'v-neck', 'short', 'empire', None, 'chiffon', 'lace', None, '2'], ['work', 'Average', 5.0, 'free', 'Winter', 'o-neck', 'half', None, 'microfiber', None, None, None, '1'], ['party', 'very-high', 4.9, 'M', 'Spring', 'v-neck', 'sleevless', 'empire', None, 'sattin', 'beading', None, '2'], ['Casual', 'high', 5.0, 'free', 'Summer', 'v-neck', 'sleevless', 'natural', 'nylon', None, None, None, '2'], ['Casual', 'very-high', 0.0, 'small', 'Spring', 'o-neck', 'full', None, None, 'chiffon', 'applique', None, '1'], ['Casual', 'Medium', 4.7, 'M', 'Spring', 'o-neck', 'sleevless', 'natural', 'cotton', None, 'bow', None, '2'], ['party', 'Average', 0.0, 'M', 'Spring', 'v-neck', 'sleevless', 'natural', None, None, None, None, '2'], ['Casual', 'Average', 4.4, 'free', 'Summer', 'slash-neck', 'sleevless', 'empire', 'cotton', None, None, None, '2'], ['Casual', 'very-high', 4.6, 'M', 'winter', 'o-neck', 'short', 'natural', None, None, 'flowers', None, '2'], ['Casual', 'Low', 4.4, 'free', 'winter', 'halter', 'sleevless', 'natural', None, None, 'draped', None, '2'], ['party', 'high', 4.5, 'M', 'winter', 'o-neck', 'sleevless', None, None, None, None, None, '2'], ['Casual', 'Average', 4.8, 'free', 'Summer', 'o-neck', 'sleevless', 'natural', None, None, None, None, '1'], ['Sexy', 'Average', 5.0, 'M', 'Summer', 'o-neck', 'sleeveless', 'natural', 'polyster', 'broadcloth', 'rivet', None, '1'], ['vintage', 'Average', 4.9, 'free', 'Summer', 'o-neck', 'urndowncollor', 'empire', None, None, None, None, '1'], ['vintage', 'Average', 4.7, 'S', 'Summer', 'turndowncollor', 'short', 'empire', 'cotton', None, None, None, '1'], ['work', 'Average', 4.9, 'M', 'Summer', 'sqare-collor', 'halfsleeve', 'empire', 'polyster', 'sattin', 'sashes', None, '1'], ['Casual', 'low', 4.7, 'L', 'Spring', 'o-neck', 'short', 'natural', 'chiffonfabric', 'chiffon', None, None, '1'], ['Casual', 'Average', 4.8, 'L', 'Automn', 'o-neck', 'short', 'natural', 'cashmere', None, None, None, '1'], ['Sexy', 'low', 4.7, 'free', 'Spring', 'v-neck', 'sleeveless', None, None, None, 'sequined', None, '2'], ['Casual', 'Average', 0.0, 'S', 'Winter', 'slash-neck', 'halfsleeve', 'natural', 'nylon', 'broadcloth', None, None, '1'], ['Casual', 'Average', 4.2, 'S', 'Winter', 'v-neck', 'sleevless', 'empire', 'other', 'chiffon', 'hollowout', 'patchwork', '1'], ['Novelty', 'Average', 0.0, 'free', 'Summer', 'o-neck', 'full', 'natural', 'cotton', 'sattin', 'hollowout', 'solid', '1'], ['Casual', 'Low', 4.3, 'free', 'Summer', 'backless', 'sleevless', 'empire', 'chiffonfabric', 'chiffon', 'crystal', None, '1'], ['Casual', 'Average', 3.7, 'M', 'Summer', 'boat-neck', 'sleevless', 'natural', 'linen', None, None, None, '1'], ['Casual', 'Average', 5.0, 'free', 'winter', 'o-neck', 'sleevless', 'natural', 'polyster', 'broadcloth', 'lace', None, '2'], ['Sexy', 'low', 5.0, 'free', 'Spring', 'v-neck', 'sleevless', 'empire', None, 'chiffon', None, None, '1'], ['cute', 'Low', 0.0, 'free', 'Winter', 'o-neck', 'sleevless', 'natural', None, 'chiffon', None, None, '1'], ['vintage', 'Average', 4.8, 'M', 'Summer', 'v-neck', 'full', 'natural', 'rayon', 'poplin', None, None, '2'], ['bohemian', 'Average', 4.8, 'L', 'Winter', 'o-neck', 'sleevless', 'natural', 'polyster', 'chiffon', None, 'solid', '1'], ['bohemian', 'Average', 0.0, 'free', 'Spring', 'o-neck', 'sleevless', 'natural', 'rayon', 'chiffon', None, 'striped', '2'], ['Sexy', 'Average', 4.5, 'M', 'Summer', 'bowneck', 'sleevless', None, 'cotton', 'chiffon', None, 'solid', '1'], ['Novelty', 'Medium', 4.2, 'M', 'Winter', 'o-neck', 'halfsleeve', 'natural', 'polyster', 'chiffon', 'hollowout', 'animal', '2'], ['Casual', 'Low', 5.0, 'free', 'Spring', 'v-neck', 'full', 'natural', 'cotton', None, None, 'solid', '2'], ['Casual', 'Average', 5.0, 'L', 'Winter', 'o-neck', 'thressqatar', 'natural', 'polyster', None, 'applique', 'solid', '1'], ['Casual', 'Low', 4.8, 'M', 'Winter', 'v-neck', 'sleevless', 'natural', 'polyster', None, None, 'print', '1'], ['bohemian', 'Low', 5.0, 'free', 'Spring', 'o-neck', 'short', 'natural', 'nylon', 'jersey', 'sashes', 'print', '2'], ['Casual', 'low', 5.0, 'free', 'Spring', 'bowneck', 'sleevless', 'natural', 'silk', 'chiffon', 'applique', 'print', '1'], ['Casual', 'Low', 5.0, 'M', 'Spring', 'o-neck', 'sleeevless', 'natural', 'chiffonfabric', 'chiffon', None, 'solid', '2'], ['cute', 'Average', 4.3, 'M', 'Summer', None, None, 'natural', 'cotton', 'chiffon', None, 'solid', '1'], ['Novelty', 'Average', 0.0, 'free', 'winter', 'o-neck', 'short', 'natural', 'polyster', 'broadcloth', 'lace', None, '2'], ['cute', 'low', 0.0, 'L', 'Spring', 'o-neck', 'sleevless', 'empire', None, None, None, None, '2'], ['Sexy', 'Low', 4.8, 'free', 'Spring', 'slash-neck', 'sleevless', 'natural', 'cotton', 'broadcloth', 'sequined', 'solid', '1'], ['Sexy', 'Low', 4.8, 'free', 'Summer', 'slash-neck', 'sleevless', 'empire', 'silk', None, 'lace', 'solid', '1'], ['Casual', 'Low', 4.4, 'M', 'Winter', 'o-neck', 'sleevless', 'natural', 'polyster', None, None, 'solid', '1'], ['Casual', 'Average', 4.5, 'M', 'Winter', 'o-neck', 'sleevless', 'natural', 'polyster', 'chiffon', 'ruched', 'striped', '1'], ['Casual', 'Low', 4.7, 'S', 'Summer', 'o-neck', 'full', 'natural', 'cotton', None, None, 'patchwork', '1'], ['Casual', 'low', 4.4, 'free', 'Spring', 'o-neck', 'sleevless', 'natural', 'polyster', None, 'sashes', 'print', '1'], ['work', 'Average', 4.9, 'M', 'Winter', 'slash-neck', 'short', 'natural', 'polyster', 'broadcloth', 'ruffles', 'solid', '1'], ['cute', 'Medium', 4.6, 'free', 'Spring', 'o-neck', 'short', 'natural', 'chiffonfabric', None, 'hollowout', 'solid', '2'], ['Casual', 'Low', 4.7, 'free', 'Spring', 'o-neck', 'halfsleeve', 'natural', 'silk', 'chiffon', 'sashes', 'print', '1'], ['Casual', 'Low', 4.7, 'M', 'Winter', 'o-neck', 'full', 'empire', 'polyster', 'chiffon', None, 'print', '2'], ['Casual', 'Average', 4.8, 'M', 'Spring', 'o-neck', 'sleevless', 'natural', 'cotton', 'chiffon', 'hollowout', 'print', '1'], ['Sexy', 'Low', 4.8, 'L', 'Summer', 'o-neck', 'sleevless', 'natural', 'cotton', None, None, 'solid', '2'], ['Casual', 'Average', 4.3, 'M', 'Spring', 'o-neck', 'halfsleeve', None, None, None, None, None, '2'], ['Casual', 'Average', 4.7, 'XL', 'winter', 'v-neck', 'short', 'empire', 'milksilk', None, None, 'print', '1'], ['Casual', 'Low', 0.0, 'L', 'winter', 'v-neck', 'full', None, None, None, None, 'solid', '1'], ['Sexy', 'Average', 4.7, 'M', 'Automn', 'slash-neck', 'sleevless', 'natural', 'nylon', None, 'rivet', 'solid', '1'], ['Casual', 'Low', 4.7, 'free', 'winter', 'o-neck', 'sleevless', 'natural', None, None, None, None, '2'], ['Casual', 'high', 0.0, 'L', 'winter', 'v-neck', 'full', None, 'polyster', None, None, 'solid', '1'], ['Casual', 'Low', 4.7, 'L', 'Summer', 'o-neck', 'sleevless', 'natural', 'silk', 'worsted', 'lace', 'patchwork', '1'], ['Casual', 'Average', 4.7, 'free', 'Summer', 'v-neck', 'full', 'natural', 'cotton', None, 'sashes', 'solid', '1'], ['Casual', 'Average', 0.0, 'free', 'Winter', 'v-neck', 'full', None, 'cashmere', None, None, 'solid', '2'], ['Casual', 'low', 4.7, 'free', 'Summer', 'o-neck', 'capsleeves', 'natural', 'chiffonfabric', 'chiffon', None, 'print', '2'], ['Casual', 'Average', 4.7, 'M', 'Summer', 'o-neck', 'thressqatar', None, 'chiffonfabric', 'chiffon', 'ruched', 'solid', '1'], ['Sexy', 'low', 4.5, 'free', 'Summer', 'slash-neck', 'sleevless', None, 'polyster', 'Corduroy', None, None, '1'], ['vintage', 'low', 4.0, 'free', 'Summer', 'turndowncollor', 'short', 'natural', 'cotton', 'wollen', 'hollowout', 'solid', '1'], ['Sexy', 'low', 4.7, 'free', 'Summer', 'v-neck', 'sleevless', None, None, None, None, None, '1'], ['bohemian', 'low', 5.0, 'free', 'Summer', 'o-neck', 'sleevless', 'empire', 'cotton', 'broadcloth', 'tassel', 'print', '2'], ['Casual', 'low', 4.7, 'S', 'Winter', 'o-neck', 'sleeevless', 'natural', 'knitting', None, 'lace', 'solid', '1'], ['Sexy', 'Average', 4.5, 'S', 'Winter', 'v-neck', 'sleevless', None, 'polyster', None, None, None, '1'], ['cute', 'Average', 4.7, 'M', 'Summer', 'o-neck', 'sleevless', 'natural', 'chiffonfabric', None, 'sashes', 'splice', '1'], ['vintage', 'Low', 0.0, 'free', 'Summer', 'o-neck', 'sleevless', 'natural', 'cotton', 'batik', None, 'print', '2'], ['Casual', 'Average', 4.1, 'L', 'winter', 'o-neck', 'sleevless', 'natural', 'polyster', None, None, None, '2'], ['Casual', 'Average', 4.2, 'M', 'winter', 'v-neck', 'full', 'empire', 'polyster', None, 'lace', 'patchwork', '2'], ['Brief', 'Average', 4.8, 'free', 'winter', 'v-neck', 'halfsleeve', 'natural', 'polyster', 'broadcloth', None, 'solid', '1'], ['Brief', 'Average', 4.9, 'free', 'Winter', 'o-neck', 'sleevless', 'natural', None, None, None, 'solid', '1'], ['Sexy', 'Average', 4.8, 'S', 'Winter', 'v-neck', 'sleevless', 'empire', 'polyster', 'chiffon', 'lace', 'solid', '1'], ['Casual', 'Average', 4.7, 'L', 'Winter', 'o-neck', 'sleevless', 'natural', 'polyster', 'chiffon', None, 'patchwork', '1'], ['vintage', 'Average', 4.7, 'M', 'Summer', 'v-neck', 'short', 'natural', 'rayon', None, 'beading', 'print', '1'], ['Casual', 'Average', 4.8, 'free', 'Summer', 'o-neck', 'sleevless', 'natural', 'cotton', 'chiffon', 'sashes', 'solid', '1'], ['Sexy', 'Low', 4.7, 'M', 'Winter', 'v-neck', 'sleevless', 'natural', 'polyster', None, None, 'striped', '1'], ['Casual', 'Average', 5.0, 's', 'Spring', 'turndowncollor', 'full', 'empire', 'cotton', 'worsted', None, 'solid', '1'], ['Casual', 'Low', 1.0, 'M', 'Spring', 'o-neck', 'halfsleeve', None, None, 'chiffon', None, None, '1'], ['Sexy', 'Average', 4.1, 'free', 'Summer', 'v-neck', 'sleevless', 'natural', 'cotton', None, 'lace', None, '2'], ['Casual', 'Low', 4.0, 'free', 'Summer', 'v-neck', 'sleevless', 'natural', 'cotton', 'broadcloth', 'hollowout', 'print', '1'], ['work', 'Average', 4.7, 'M', 'Spring', 'v-neck', 'sleevless', None, None, None, None, None, '2'], ['cute', 'Average', 4.6, 'free', 'Spring', 'v-neck', 'full', 'natural', 'cotton', 'chiffon', None, 'solid', '2'], ['Casual', 'Low', 5.0, 'M', 'Spring', 'o-neck', 'sleevless', 'natural', 'spandex', 'jersey', None, 'print', '1'], ['Casual', 'Average', 4.7, 'M', 'Automn', 'v-neck', 'sleevless', 'natural', None, 'chiffon', None, 'striped', '2'], ['Casual', 'low', 4.6, 'free', 'winter', 'o-neck', 'full', 'natural', 'polyster', None, 'applique', 'solid', '1'], ['Casual', 'Average', 4.5, 'L', 'Summer', 'o-neck', 'short', 'natural', 'cotton', 'jersey', 'pockets', 'solid', '1'], ['cute', 'Average', 4.6, 'M', 'Automn', 'o-neck', 'thressqatar', 'natural', 'silk', 'chiffon', 'sashes', 'print', '1'], ['Casual', 'Low', 4.6, 'free', 'Automn', 'o-neck', 'halfsleeve', 'natural', 'chiffonfabric', 'chiffon', None, 'leapord', '2'], ['Casual', 'Low', 4.7, 'L', 'Summer', None, 'sleevless', None, 'cotton', None, None, 'solid', '2'], ['Sexy', 'Low', 0.0, 'L', 'Summer', 'o-neck', 'sleevless', 'empire', 'sill', None, None, 'striped', '1'], ['bohemian', 'Average', 4.0, 'free', 'Winter', 'o-neck', 'sleevless', 'natural', 'polyster', 'chiffon', 'ruffles', 'striped', '1'], ['Casual', 'low', 4.7, 'free', 'Summer', 'o-neck', 'full', 'natural', 'cotton', None, None, 'solid', '2'], ['work', 'Average', 0.0, 'M', 'Summer', 'v-neck', 'sleevless', 'natural', 'cotton', 'worsted', None, 'solid', '2'], ['bohemian', 'Average', 4.1, 'free', 'Summer', 'o-neck', 'thressqatar', None, None, None, 'hollowout', None, '1'], ['Casual', 'Average', 0.0, 'M', 'Spring', 'o-neck', 'halfsleeve', 'natural', None, None, 'lace', None, '1'], ['Brief', 'Low', 4.6, 'M', 'Summer', 'o-neck', 'short', 'natural', 'cotton', None, None, 'animal', '1'], ['cute', 'Low', 0.0, 'free', 'Spring', 'v-neck', 'sleevless', 'empire', 'chiffonfabric', 'chiffon', None, None, '2'], ['Casual', 'Average', 5.0, 'M', 'Spring', 'o-neck', 'thressqatar', None, 'spandex', None, None, None, '1'], ['Casual', 'Low', 5.0, 'free', 'winter', 'o-neck', 'full', 'natural', 'wool', None, 'applique', 'solid', '1'], ['vintage', 'Average', 4.5, 'L', 'winter', 'o-neck', 'short', 'empire', None, None, 'sequined', 'patchwork', '2'], ['Casual', 'Average', 4.5, 'free', 'Summer', 'o-neck', 'short', 'natural', 'polyster', None, None, 'solid', '1'], ['bohemian', 'Low', 4.4, 'L', 'Summer', 'bowneck', 'short', 'natural', 'cotton', None, None, 'dot', '1'], ['Casual', 'high', 0.0, 'L', 'winter', 'v-neck', 'thressqatar', 'natural', 'polyster', None, 'ruffles', 'solid', '2'], ['Casual', 'Average', 4.8, 'free', 'winter', 'o-neck', 'sleevless', None, 'polyster', None, 'sashes', 'solid', '1'], ['Brief', 'Low', 4.7, 'M', 'Winter', 'o-neck', 'full', 'natural', 'cotton', None, None, 'patchwork', '1'], ['Casual', 'Medium', 0.0, 'free', 'Winter', 'bowneck', 'full', None, 'cashmere', 'knitted', None, 'solid', '2'], ['Casual', 'Average', 4.7, 'M', 'Winter', 'o-neck', 'short', 'empire', 'polyster', 'shiffon', None, 'animal', '1'], ['party', 'Average', 0.0, 'M', 'Summer', 'o-neck', 'full', 'natural', 'cotton', None, None, 'patchwork', '2'], ['bohemian', 'Average', 4.8, 'S', 'Summer', 'v-neck', 'short', 'natural', 'cotton', None, None, 'solid', '1'], ['Sexy', 'Average', 4.9, 'free', 'Summer', 'sqare-collor', 'sleevless', 'natural', 'polyster', None, 'sashes', 'print', '1'], ['Casual', 'Average', 3.0, 'M', 'Spring', 'turndowncollor', 'short', 'empire', 'polyster', None, 'sashes', 'patchwork', '1'], ['Casual', 'low', 4.7, 'L', 'Automn', 'o-neck', 'short', 'natural', 'polyster', 'shiffon', None, 'patchwork', '2'], ['Casual', 'Average', 4.3, 'M', 'Automn', 'o-neck', 'sleevless', 'natural', 'polyster', None, 'plain', 'solid', '1'], ['Casual', 'Average', 0.0, 'XL', 'Winter', 'v-neck', 'short', 'empire', 'polyster', 'shiffon', 'pockets', 'solid', '2'], ['Casual', 'Low', 5.0, 'free', 'Summer', 'o-neck', 'sleevless', 'natural', 'model', 'jersey', 'plain', 'solid', '2'], ['vintage', 'Average', 0.0, 'L', 'Summer', 'sqare-collor', 'short', 'empire', 'cotton', 'chiffon', None, 'dot', '2'], ['Casual', 'Low', 4.7, 'free', 'winter', 'o-neck', 'sleevless', 'natural', 'milksilk', None, None, 'animal', '1'], ['vintage', 'Average', 5.0, 'M', 'Summer', 'v-neck', 'thressqatar', 'natural', 'polyster', None, None, 'print', '1'], ['Casual', 'Low', 4.7, 'L', 'Summer', 'o-neck', 'full', 'natural', 'mix', 'worsted', 'lace', 'patchwork', '2'], ['bohemian', 'Average', 4.6, 'M', 'Spring', 'o-neck', 'sleevless', 'natural', 'shiffon', 'shiffon', 'sashes', 'solid', '1'], ['party', 'Average', 4.8, 'M', 'Summer', 'o-neck', 'full', None, 'cotton', None, None, 'solid', '2'], ['bohemian', 'Low', 4.6, 'free', 'Summer', 'v-neck', 'sleevless', 'natural', 'cotton', 'broadcloth', 'beading', 'solid', '1'], ['party', 'very-high', 4.6, 'free', 'Summer', 'o-neck', 'sleevless', 'empire', 'rayon', None, 'hollowout', 'solid', '1'], ['cute', 'Low', 4.8, 'M', 'Spring', 'o-neck', 'short', 'natural', 'shiffon', 'shiffon', 'bow', 'dot', '2'], ['vintage', 'Average', 0.0, 'M', 'Spring', 'o-neck', 'halfsleeve', 'empire', 'polyster', None, 'lace', 'animal', '1'], ['Casual', 'Medium', 4.9, 'L', 'Winter', 'o-neck', 'short', 'natural', 'cotton', 'broadcloth', 'sashes', 'solid', '1'], ['Casual', 'Average', 4.2, 'free', 'Summer', 'o-neck', 'sleevless', 'natural', 'cotton', 'worsted', None, 'striped', '2'], ['Casual', 'Average', 4.9, 'M', 'Summer', 'o-neck', 'short', 'dropped', 'cotton', None, 'ruffles', 'patchwork', '1'], ['bohemian', 'Low', 5.0, 'XL', 'Spring', 'v-neck', 'thressqatar', 'natural', None, 'shiffon', None, 'print', '2'], ['Casual', 'Average', 4.7, 'M', 'Summer', 'o-neck', 'sleevless', None, 'cotton', None, None, 'dot', '1'], ['Casual', 'Average', 0.0, 'free', 'Summer', 'bowneck', 'halfsleeve', None, 'cotton', None, None, None, '1'], ['Casual', 'Average', 0.0, 'free', 'Summer', 'o-neck', 'sleevless', 'natural', 'cotton', None, 'lace', 'floral', '1'], ['Sexy', 'Medium', 0.0, 'free', 'winter', 'o-neck', 'sleevless', 'natural', 'polyster', None, 'sequined', 'solid', '1'], ['Sexy', 'low', 4.4, 'free', 'Automn', 'v-neck', 'sleevless', 'natural', 'cotton', 'worsted', 'lace', 'solid', '1'], ['Sexy', 'Average', 0.0, 'free', 'Spring', 'v-neck', 'full', 'natural', 'cotton', 'wollen', 'lace', 'solid', '2'], ['Brief', 'Average', 4.9, 'XL', 'Spring', 'slash-neck', 'full', 'natural', None, None, 'sashes', 'solid', '1'], ['Casual', 'Average', 4.7, 'XL', 'Summer', 'v-neck', 'halfsleeve', 'natural', None, 'broadcloth', None, 'print', '2'], ['Casual', 'Average', 0.0, 'free', 'Automn', 'v-neck', 'full', 'natural', 'cotton', None, 'lace', 'solid', '1'], ['Casual', 'Average', 4.8, 'M', 'Summer', 'v-neck', 'full', 'natural', None, 'shiffon', None, None, '1'], ['Casual', 'Medium', 4.9, 'L', 'Spring', 'sqare-collor', 'sleevless', 'empire', None, None, None, 'print', '1'], ['party', 'Average', 4.7, 'M', 'Spring', 'o-neck', 'halfsleeve', 'empire', None, 'shiffon', None, 'patchwork', '1'], ['Sexy', 'low', 4.4, 'free', 'Summer', 'bowneck', 'sleevless', 'natural', 'viscos', None, 'bow', 'solid', '1'], ['bohemian', 'Low', 4.6, 'free', 'winter', 'o-neck', 'sleevless', 'empire', 'polyster', None, None, 'patchwork', '2'], ['Casual', 'Low', 4.6, 'free', 'Autumn', 'o-neck', 'full', 'natural', 'rayon', None, 'lace', 'solid', '2'], ['Sexy', 'Low', 4.5, 'free', 'Summer', 'o-neck', 'sleevless', 'empire', 'cotton', None, 'sashes', 'solid', '2'], ['Sexy', 'Low', 0.0, 'free', 'winter', 'v-neck', None, 'dropped', 'cotton', None, 'lace', None, '2'], ['Casual', 'Average', 0.0, 'XL', 'Spring', 'bowneck', 'sleevless', 'natural', 'mix', None, 'lace', 'solid', '1'], ['Sexy', 'Average', 0.0, 'free', 'Autumn', 'o-neck', 'full', 'natural', 'polyster', 'sattin', 'hollowout', 'solid', '1'], ['Sexy', 'Low', 4.8, 'free', 'Spring', 'v-neck', 'sleevless', 'natural', None, None, None, 'striped', '2'], ['Brief', 'Low', 4.7, 'free', 'Autumn', 'o-neck', 'sleevless', 'natural', None, 'shiffon', 'sequined', 'solid', '1'], ['Sexy', 'high', 5.0, 'M', 'Summer', 'v-neck', 'sleevless', 'natural', 'mix', None, None, 'striped', '1'], ['Casual', 'Average', 4.6, 'L', 'Summer', 'bowneck', 'full', 'dropped', 'cotton', None, None, 'patchwork', '1'], ['cute', 'Medium', 4.9, 'S', 'Summer', 'bowneck', 'sleevless', 'empire', None, None, 'bow', 'patchwork', '2'], ['Novelty', 'Average', 4.9, 'M', 'Autumn', 'o-neck', 'short', 'natural', 'polyster', 'chiffon', 'none', 'print', '1'], ['Casual', 'Low', 4.3, 'free', 'Spring', 'o-neck', 'full', None, None, 'chiffon', 'sashes', 'none', '2'], ['Casual', 'Low', 4.7, 'S', 'Autumn', 'o-neck', 'sleevless', 'natural', 'cotton', None, None, 'solid', '1'], ['Casual', 'Average', 4.8, 'L', 'Autumn', 'boat-neck', 'sleevless', 'natural', None, None, 'sashes', 'solid', '1'], ['cute', 'Average', 4.5, 'L', 'winter', 'v-neck', 'sleevless', 'natural', 'polyster', 'jersey', 'sashes', 'solid', '2'], ['Casual', 'Average', 4.4, 'free', 'Summer', 'o-neck', 'capsleeves', 'natural', 'cotton', None, None, 'solid', '1'], ['party', 'Average', 0.0, 'M', 'Spring', 'o-neck', 'sleevless', None, None, 'chiffon', None, 'solid', '2'], ['Sexy', 'Low', 0.0, 'free', 'Summer', 'v-neck', 'sleevless', 'dropped', None, None, None, None, '2'], ['Casual', 'Low', 4.8, 'L', 'Summer', 'v-neck', 'thressqatar', 'natural', 'cotton', None, None, 'print', '1'], ['work', 'Average', 5.0, 'M', 'Summer', 'o-neck', 'sleveless', 'natural', None, None, None, 'solid', '2'], ['Novelty', 'Average', 5.0, 'free', 'Summer', 'o-neck', 'sleeveless', 'natural', None, None, None, 'print', '1'], ['Casual', 'Low', 4.6, 'free', 'Spring', 'v-neck', 'sleevless', 'natural', 'silk', 'chiffon', 'draped', 'solid', '1'], ['Casual', 'Average', 4.5, 'M', 'Summer', 'o-neck', 'full', 'natural', 'cotton', None, 'lace', 'solid', '1'], ['Casual', 'Average', 4.5, 'L', 'Spring', 'boat-neck', 'thressqatar', 'natural', None, 'dobby', 'lace', 'animal', '2'], ['Casual', 'Average', 4.5, 'free', 'Autumn', 'o-neck', 'halfsleeve', 'natural', 'cotton', 'chiffon', 'hollowout', 'solid', '2'], ['cute', 'Low', 0.0, 'M', 'Summer', 'boat-neck', 'short', None, None, 'chiffon', 'sashes', None, '1'], ['party', 'Average', 4.9, 'M', 'winter', 'o-neck', 'halfsleeve', None, 'cotton', None, 'lace', None, '2'], ['Casual', 'Average', 4.8, 'M', 'Summer', 'o-neck', 'halfsleeve', None, None, None, None, None, '1'], ['Casual', 'Low', 4.4, 'L', 'Summer', 'o-neck', 'sleevless', 'natural', 'cotton', 'chiffon', None, 'solid', '1'], ['Casual', 'Average', 4.3, 'M', 'winter', 'slash-neck', 'sleeveless', 'natural', 'polyster', None, 'sashes', 'solid', '1'], ['cute', 'Average', 4.7, 'L', 'Summer', 'o-neck', 'sleevless', 'natural', 'polyster', 'broadcloth', 'lace', 'solid', '1'], ['Sexy', 'Average', 0.0, 'S', 'Summer', 'v-neck', 'sleevless', None, None, None, None, None, '2'], ['Casual', 'Low', 4.4, 'free', 'Summer', 'o-neck', 'sleevless', None, None, None, None, 'animal', '1'], ['cute', 'high', 4.3, 'M', 'Spring', 'boat-neck', 'full', 'natural', 'polyster', 'terry', 'lace', 'solid', '2'], ['work', 'Average', 4.8, 'M', 'winter', 'turndowncollor', 'full', 'natural', None, None, None, 'solid', '1'], ['Casual', 'Average', 4.6, 'M', 'Spring', 'o-neck', 'halfsleeve', 'natural', 'polyster', None, 'lace', 'solid', '1'], ['Sexy', 'Low', 0.0, 'free', 'Summer', 'v-neck', 'sleevless', 'empire', 'cotton', None, None, 'solid', '1'], ['Casual', 'high', 4.9, 'XL', 'winter', 'v-neck', 'full', 'empire', 'cotton', None, 'sequined', 'solid', '1'], ['Sexy', 'Low', 0.0, 'free', 'winter', 'o-neck', 'sleevless', 'natural', 'lycra', 'chiffon', 'hollowout', 'solid', '1'], ['cute', 'Average', 5.0, 'M', 'Autumn', 'v-neck', 'sleevless', 'natural', 'cotton', None, None, 'solid', '1'], ['cute', 'Low', 0.0, 'free', 'Spring', 'v-neck', 'sleevless', 'natural', 'silk', 'worsted', 'lace', 'patchwork', '2'], ['Casual', 'Low', 4.4, 'free', 'Summer', 'o-neck', 'full', 'natural', 'cotton', None, 'pockets', 'solid', '1'], ['Casual', 'Average', 0.0, 'L', 'Spring', 'o-neck', 'sleevless', 'natural', 'chiffonfabric', 'chiffon', 'sequined', 'solid', '1'], ['cute', 'Average', 4.7, 'M', 'Spring', 'o-neck', 'full', 'natural', 'rayon', 'chiffon', 'beading', 'solid', '2'], ['Casual', 'Average', 4.6, 'M', 'winter', 'v-neck', 'halfsleeve', 'natural', 'silk', 'chiffon', 'sashes', 'solid', '2'], ['Casual', 'Low', 4.4, 'free', 'Summer', 'o-neck', 'full', 'natural', 'cotton', None, None, 'solid', '2'], ['Casual', 'Low', 5.0, 'M', 'Automn', 'o-neck', 'sleevless', 'empire', None, 'chiffon', None, 'print', '2'], ['Casual', 'Average', 0.0, 'free', 'winter', 'o-neck', 'short', 'natural', 'polyster', 'chiffon', 'cascading', 'solid', '1'], ['Sexy', 'Average', 0.0, 'free', 'winter', 'slash-neck', 'sleevless', 'natural', 'cotton', 'broadcloth', 'sequined', 'solid', '2'], ['Casual', 'Low', 4.4, 'M', 'Summer', 'o-neck', 'halfsleeve', 'empire', 'chiffonfabric', 'chiffon', 'bow', 'solid', '1'], ['cute', 'Average', 0.0, 'L', 'Summer', 'o-neck', 'sleevless', 'empire', 'cotton', None, 'lace', 'solid', '2'], ['Casual', 'Low', 4.8, 'free', 'winter', 'bowneck', 'full', 'natural', 'polyster', 'chiffon', 'bow', 'solid', '1'], ['Casual', 'Average', 5.0, 'L', 'Summer', 'o-neck', 'sleevless', 'natural', 'cotton', None, None, None, '2'], ['cute', 'Average', 4.6, 'M', 'Spring', 'o-neck', 'halfsleeve', 'natural', 'acrylic', 'chiffon', None, None, '1'], ['bohemian', 'Low', 4.6, 'free', 'Summer', 'o-neck', 'sleevless', 'natural', 'cotton', 'chiffon', 'none', 'solid', '2'], ['Brief', 'Average', 4.7, 'M', 'winter', 'o-neck', 'halfsleeve', 'natural', 'acrylic', 'chiffon', None, 'striped', '1'], ['Casual', 'Low', 4.7, 'M', 'Spring', 'o-neck', 'full', 'natural', 'polyster', None, None, 'solid', '2'], ['Sexy', 'Low', 4.3, 'free', 'Summer', 'o-neck', 'full', 'empire', 'cotton', None, None, None, '1'], ['Casual', 'Average', 4.7, 'M', 'Summer', 'v-neck', 'full', 'empire', 'cotton', None, 'lace', 'solid', '2'], ['Casual', 'Average', 4.6, 'L', 'winter', 'boat-neck', 'sleevless', 'empire', 'silk', 'broadcloth', 'applique', 'print', '2'], ['Casual', 'Low', 4.4, 'free', 'Summer', 'v-neck', 'short', 'empire', 'cotton', 'Corduroy', 'lace', 'solid', '1']]\n"
     ]
    }
   ],
   "source": [
    "with open(\"data.arff\") as f:\n",
    "    dataset = arff.load(f)\n",
    "\n",
    "print(dataset[\"attributes\"])  # list of attribute names and types\n",
    "print(dataset[\"data\"])  # list of rows"
   ]
  },
  {
   "cell_type": "code",
   "execution_count": 3,
   "id": "5980da85",
   "metadata": {},
   "outputs": [
    {
     "name": "stdout",
     "output_type": "stream",
     "text": [
      "        V2       V3   V4 V5      V6      V7         V8       V9  \\\n",
      "0     Sexy      Low  4.6  M  Summer  o-neck  sleevless   empire   \n",
      "1   Casual      Low  0.0  L  Summer  o-neck      Petal  natural   \n",
      "2  vintage     High  0.0  L  Automn  o-neck       full  natural   \n",
      "3    Brief  Average  4.6  L  Spring  o-neck       full  natural   \n",
      "4     cute      Low  4.5  M  Summer  o-neck  butterfly  natural   \n",
      "\n",
      "             V10      V11         V12     V13 Class  \n",
      "0           None  chiffon     ruffles  animal     2  \n",
      "1     microfiber     None     ruffles  animal     1  \n",
      "2       polyster     None        None   print     1  \n",
      "3           silk  chiffon  embroidary   print     2  \n",
      "4  chiffonfabric  chiffon         bow     dot     1  \n"
     ]
    }
   ],
   "source": [
    "with open(\"data.arff\") as f:\n",
    "    dataset = arff.load(f)\n",
    "\n",
    "df = pd.DataFrame(dataset[\"data\"], columns=[attr[0] for attr in dataset[\"attributes\"]])\n",
    "\n",
    "print(df.head())"
   ]
  },
  {
   "cell_type": "code",
   "execution_count": 4,
   "id": "ca2be065",
   "metadata": {},
   "outputs": [
    {
     "name": "stdout",
     "output_type": "stream",
     "text": [
      "Number of rows: 500\n",
      "Number of columns: 13\n"
     ]
    }
   ],
   "source": [
    "print(f\"Number of rows: {df.shape[0]}\")\n",
    "print(f\"Number of columns: {df.shape[1]}\")"
   ]
  },
  {
   "cell_type": "code",
   "execution_count": 5,
   "id": "33b136fb",
   "metadata": {},
   "outputs": [
    {
     "name": "stdout",
     "output_type": "stream",
     "text": [
      "Train: (400, 12) (400,)\n",
      "Val:   (50, 12) (50,)\n",
      "Test:  (50, 12) (50,)\n",
      "['2' '1']\n"
     ]
    }
   ],
   "source": [
    "from sklearn.model_selection import train_test_split\n",
    "\n",
    "# Separate features and target\n",
    "X = df.drop(columns=[\"Class\"])\n",
    "y = df[\"Class\"]\n",
    "\n",
    "# First split: Train (80%) and Temp (20% for val + test)\n",
    "X_train, X_temp, y_train, y_temp = train_test_split(\n",
    "    X, y, test_size=0.2, random_state=42, stratify=y\n",
    ")\n",
    "\n",
    "# Second split: Val (10%) and Test (10%)\n",
    "X_val, X_test, y_val, y_test = train_test_split(\n",
    "    X_temp, y_temp, test_size=0.5, random_state=42, stratify=y_temp\n",
    ")\n",
    "\n",
    "# Check the sizes\n",
    "print(\"Train:\", X_train.shape, y_train.shape)\n",
    "print(\"Val:  \", X_val.shape, y_val.shape)\n",
    "print(\"Test: \", X_test.shape, y_test.shape)\n",
    "\n",
    "print(y.unique())"
   ]
  },
  {
   "cell_type": "code",
   "execution_count": 14,
   "id": "bdce4b6b",
   "metadata": {},
   "outputs": [
    {
     "name": "stderr",
     "output_type": "stream",
     "text": [
      "/tmp/ipykernel_26757/5374749.py:41: UserWarning: To copy construct from a tensor, it is recommended to use sourceTensor.clone().detach() or sourceTensor.clone().detach().requires_grad_(True), rather than torch.tensor(sourceTensor).\n",
      "  y_train_tensor = torch.tensor(y_train_tensor, dtype=torch.long).unsqueeze(0)\n"
     ]
    }
   ],
   "source": [
    "import torch\n",
    "from torch.utils.data import TensorDataset, DataLoader\n",
    "from sklearn.preprocessing import OneHotEncoder, LabelEncoder\n",
    "from sklearn.compose import ColumnTransformer\n",
    "from sklearn.pipeline import Pipeline\n",
    "\n",
    "# 1. Identify categorical and numerical columns\n",
    "cat_cols = X_train.select_dtypes(include=[\"object\", \"category\"]).columns.tolist()\n",
    "num_cols = X_train.select_dtypes(include=[\"number\"]).columns.tolist()\n",
    "\n",
    "# 2. Create a preprocessing pipeline for train/val/test\n",
    "\n",
    "# OneHotEncode categorical features, passthrough numerical features\n",
    "preprocessor = ColumnTransformer(\n",
    "    transformers=[\n",
    "        (\"cat\", OneHotEncoder(handle_unknown=\"ignore\", sparse_output=False), cat_cols),\n",
    "        (\"num\", \"passthrough\", num_cols),\n",
    "    ]\n",
    ")\n",
    "\n",
    "# Fit on train, transform train/val/test\n",
    "X_train_processed = preprocessor.fit_transform(X_train)\n",
    "X_val_processed = preprocessor.transform(X_val)\n",
    "X_test_processed = preprocessor.transform(X_test)\n",
    "\n",
    "# Encode labels\n",
    "\n",
    "le = LabelEncoder()\n",
    "y_train_encoded = le.fit_transform(y_train)\n",
    "y_val_encoded = le.transform(y_val)\n",
    "y_test_encoded = le.transform(y_test)\n",
    "\n",
    "# 3. Convert to torch tensors\n",
    "X_train_tensor = torch.tensor(X_train_processed, dtype=torch.float32)\n",
    "y_train_tensor = torch.tensor(y_train_encoded, dtype=torch.long)\n",
    "\n",
    "# Shape becomes (B=1, T = train_rows + val_rows, H = features)\n",
    "X_train_tensor = X_train_tensor.unsqueeze(0)  # Add batch dim\n",
    "\n",
    "# 6. y_train only for the first part (train set)\n",
    "y_train_tensor = torch.tensor(y_train_tensor, dtype=torch.long).unsqueeze(0)\n",
    "\n",
    "X_val_tensor = torch.tensor(X_val_processed, dtype=torch.float32)\n",
    "y_val_tensor = torch.tensor(y_val_encoded, dtype=torch.long)\n",
    "\n",
    "X_test_tensor = torch.tensor(X_test_processed, dtype=torch.float32)\n",
    "y_test_tensor = torch.tensor(y_test_encoded, dtype=torch.long)\n",
    "\n",
    "# Create TensorDatasets and DataLoaders\n",
    "train_dataset = TensorDataset(X_train_tensor, y_train_tensor)\n",
    "val_dataset = TensorDataset(X_val_tensor, y_val_tensor)\n",
    "test_dataset = TensorDataset(X_test_tensor, y_test_tensor)\n",
    "\n",
    "train_loader = DataLoader(train_dataset, batch_size=32, shuffle=True)\n",
    "val_loader = DataLoader(val_dataset, batch_size=32, shuffle=False)\n",
    "test_loader = DataLoader(test_dataset, batch_size=32, shuffle=False)\n"
   ]
  },
  {
   "cell_type": "code",
   "execution_count": 6,
   "id": "465a52e4",
   "metadata": {},
   "outputs": [],
   "source": [
    "import torch\n",
    "from torch.utils.data import TensorDataset, DataLoader\n",
    "from sklearn.preprocessing import OneHotEncoder, LabelEncoder\n",
    "from sklearn.compose import ColumnTransformer\n",
    "import numpy as np\n",
    "\n",
    "# 1. Identify categorical and numerical columns\n",
    "cat_cols = X_train.select_dtypes(include=[\"object\", \"category\"]).columns.tolist()\n",
    "num_cols = X_train.select_dtypes(include=[\"number\"]).columns.tolist()\n",
    "\n",
    "# 2. Preprocessor: OneHotEncode categorical, passthrough numerical\n",
    "preprocessor = ColumnTransformer(\n",
    "    transformers=[\n",
    "        (\"cat\", OneHotEncoder(handle_unknown=\"ignore\", sparse_output=False), cat_cols),\n",
    "        (\"num\", \"passthrough\", num_cols),\n",
    "    ]\n",
    ")\n",
    "\n",
    "# 3. Fit on train, transform train/val/test\n",
    "X_train_processed = preprocessor.fit_transform(X_train)\n",
    "X_val_processed = preprocessor.transform(X_val)\n",
    "X_test_processed = preprocessor.transform(X_test)\n",
    "\n",
    "# 4. Encode labels (only once across train/val/test)\n",
    "le = LabelEncoder()\n",
    "y_train_encoded = le.fit_transform(y_train)\n",
    "y_val_encoded = le.transform(y_val)\n",
    "y_test_encoded = le.transform(y_test)\n",
    "\n",
    "y_val_tensor = torch.tensor(y_val_encoded, dtype=torch.long)\n",
    "\n",
    "# 5. Concatenate X_train and X_val (for in-context format)\n",
    "X_trainval_processed = torch.tensor(\n",
    "    np.vstack([X_train_processed, X_val_processed]), dtype=torch.float32\n",
    ")\n",
    "\n",
    "# Shape becomes (B=1, T = train_rows + val_rows, H = features)\n",
    "X_trainval_tensor = X_trainval_processed.unsqueeze(0)  # Add batch dim\n",
    "\n",
    "# 6. y_train only for the first part (train set)\n",
    "y_train_tensor = torch.tensor(y_train_encoded, dtype=torch.long).unsqueeze(0)\n",
    "\n",
    "# 7. (Optional) Prepare test set separately (B=1, T_test, H)\n",
    "X_test_tensor = torch.tensor(X_test_processed, dtype=torch.float32).unsqueeze(0)\n",
    "y_test_tensor = torch.tensor(y_test_encoded, dtype=torch.long).unsqueeze(0)\n",
    "\n",
    "# 8. Datasets & loaders (note: for your model you likely feed B=1 full table at once)\n",
    "train_dataset = TensorDataset(X_trainval_tensor, y_train_tensor)\n",
    "train_loader = DataLoader(train_dataset, batch_size=1, shuffle=False)\n",
    "\n",
    "test_dataset = TensorDataset(X_test_tensor, y_test_tensor)\n",
    "test_loader = DataLoader(test_dataset, batch_size=1, shuffle=False)\n"
   ]
  },
  {
   "cell_type": "code",
   "execution_count": 22,
   "id": "0cf415ee",
   "metadata": {},
   "outputs": [],
   "source": [
    "import sklearn\n",
    "from sklearn.base import BaseEstimator, ClassifierMixin\n",
    "from sklearn.utils.multiclass import check_classification_targets\n",
    "from sklearn.utils.validation import check_is_fitted\n",
    "from sklearn.preprocessing import LabelEncoder\n",
    "\n",
    "from huggingface_hub import hf_hub_download\n",
    "from huggingface_hub.utils import LocalEntryNotFoundError\n",
    "\n",
    "from tabicl.sklearn.preprocessing import TransformToNumerical, EnsembleGenerator\n",
    "from tabicl import InferenceConfig"
   ]
  },
  {
   "cell_type": "code",
   "execution_count": 23,
   "id": "e4b64e0a",
   "metadata": {},
   "outputs": [],
   "source": [
    "from typing import Optional, List, Dict"
   ]
  },
  {
   "cell_type": "code",
   "execution_count": 24,
   "id": "34ac3a5b",
   "metadata": {},
   "outputs": [
    {
     "data": {
      "text/html": [
       "<style>#sk-container-id-2 {\n",
       "  /* Definition of color scheme common for light and dark mode */\n",
       "  --sklearn-color-text: black;\n",
       "  --sklearn-color-line: gray;\n",
       "  /* Definition of color scheme for unfitted estimators */\n",
       "  --sklearn-color-unfitted-level-0: #fff5e6;\n",
       "  --sklearn-color-unfitted-level-1: #f6e4d2;\n",
       "  --sklearn-color-unfitted-level-2: #ffe0b3;\n",
       "  --sklearn-color-unfitted-level-3: chocolate;\n",
       "  /* Definition of color scheme for fitted estimators */\n",
       "  --sklearn-color-fitted-level-0: #f0f8ff;\n",
       "  --sklearn-color-fitted-level-1: #d4ebff;\n",
       "  --sklearn-color-fitted-level-2: #b3dbfd;\n",
       "  --sklearn-color-fitted-level-3: cornflowerblue;\n",
       "\n",
       "  /* Specific color for light theme */\n",
       "  --sklearn-color-text-on-default-background: var(--sg-text-color, var(--theme-code-foreground, var(--jp-content-font-color1, black)));\n",
       "  --sklearn-color-background: var(--sg-background-color, var(--theme-background, var(--jp-layout-color0, white)));\n",
       "  --sklearn-color-border-box: var(--sg-text-color, var(--theme-code-foreground, var(--jp-content-font-color1, black)));\n",
       "  --sklearn-color-icon: #696969;\n",
       "\n",
       "  @media (prefers-color-scheme: dark) {\n",
       "    /* Redefinition of color scheme for dark theme */\n",
       "    --sklearn-color-text-on-default-background: var(--sg-text-color, var(--theme-code-foreground, var(--jp-content-font-color1, white)));\n",
       "    --sklearn-color-background: var(--sg-background-color, var(--theme-background, var(--jp-layout-color0, #111)));\n",
       "    --sklearn-color-border-box: var(--sg-text-color, var(--theme-code-foreground, var(--jp-content-font-color1, white)));\n",
       "    --sklearn-color-icon: #878787;\n",
       "  }\n",
       "}\n",
       "\n",
       "#sk-container-id-2 {\n",
       "  color: var(--sklearn-color-text);\n",
       "}\n",
       "\n",
       "#sk-container-id-2 pre {\n",
       "  padding: 0;\n",
       "}\n",
       "\n",
       "#sk-container-id-2 input.sk-hidden--visually {\n",
       "  border: 0;\n",
       "  clip: rect(1px 1px 1px 1px);\n",
       "  clip: rect(1px, 1px, 1px, 1px);\n",
       "  height: 1px;\n",
       "  margin: -1px;\n",
       "  overflow: hidden;\n",
       "  padding: 0;\n",
       "  position: absolute;\n",
       "  width: 1px;\n",
       "}\n",
       "\n",
       "#sk-container-id-2 div.sk-dashed-wrapped {\n",
       "  border: 1px dashed var(--sklearn-color-line);\n",
       "  margin: 0 0.4em 0.5em 0.4em;\n",
       "  box-sizing: border-box;\n",
       "  padding-bottom: 0.4em;\n",
       "  background-color: var(--sklearn-color-background);\n",
       "}\n",
       "\n",
       "#sk-container-id-2 div.sk-container {\n",
       "  /* jupyter's `normalize.less` sets `[hidden] { display: none; }`\n",
       "     but bootstrap.min.css set `[hidden] { display: none !important; }`\n",
       "     so we also need the `!important` here to be able to override the\n",
       "     default hidden behavior on the sphinx rendered scikit-learn.org.\n",
       "     See: https://github.com/scikit-learn/scikit-learn/issues/21755 */\n",
       "  display: inline-block !important;\n",
       "  position: relative;\n",
       "}\n",
       "\n",
       "#sk-container-id-2 div.sk-text-repr-fallback {\n",
       "  display: none;\n",
       "}\n",
       "\n",
       "div.sk-parallel-item,\n",
       "div.sk-serial,\n",
       "div.sk-item {\n",
       "  /* draw centered vertical line to link estimators */\n",
       "  background-image: linear-gradient(var(--sklearn-color-text-on-default-background), var(--sklearn-color-text-on-default-background));\n",
       "  background-size: 2px 100%;\n",
       "  background-repeat: no-repeat;\n",
       "  background-position: center center;\n",
       "}\n",
       "\n",
       "/* Parallel-specific style estimator block */\n",
       "\n",
       "#sk-container-id-2 div.sk-parallel-item::after {\n",
       "  content: \"\";\n",
       "  width: 100%;\n",
       "  border-bottom: 2px solid var(--sklearn-color-text-on-default-background);\n",
       "  flex-grow: 1;\n",
       "}\n",
       "\n",
       "#sk-container-id-2 div.sk-parallel {\n",
       "  display: flex;\n",
       "  align-items: stretch;\n",
       "  justify-content: center;\n",
       "  background-color: var(--sklearn-color-background);\n",
       "  position: relative;\n",
       "}\n",
       "\n",
       "#sk-container-id-2 div.sk-parallel-item {\n",
       "  display: flex;\n",
       "  flex-direction: column;\n",
       "}\n",
       "\n",
       "#sk-container-id-2 div.sk-parallel-item:first-child::after {\n",
       "  align-self: flex-end;\n",
       "  width: 50%;\n",
       "}\n",
       "\n",
       "#sk-container-id-2 div.sk-parallel-item:last-child::after {\n",
       "  align-self: flex-start;\n",
       "  width: 50%;\n",
       "}\n",
       "\n",
       "#sk-container-id-2 div.sk-parallel-item:only-child::after {\n",
       "  width: 0;\n",
       "}\n",
       "\n",
       "/* Serial-specific style estimator block */\n",
       "\n",
       "#sk-container-id-2 div.sk-serial {\n",
       "  display: flex;\n",
       "  flex-direction: column;\n",
       "  align-items: center;\n",
       "  background-color: var(--sklearn-color-background);\n",
       "  padding-right: 1em;\n",
       "  padding-left: 1em;\n",
       "}\n",
       "\n",
       "\n",
       "/* Toggleable style: style used for estimator/Pipeline/ColumnTransformer box that is\n",
       "clickable and can be expanded/collapsed.\n",
       "- Pipeline and ColumnTransformer use this feature and define the default style\n",
       "- Estimators will overwrite some part of the style using the `sk-estimator` class\n",
       "*/\n",
       "\n",
       "/* Pipeline and ColumnTransformer style (default) */\n",
       "\n",
       "#sk-container-id-2 div.sk-toggleable {\n",
       "  /* Default theme specific background. It is overwritten whether we have a\n",
       "  specific estimator or a Pipeline/ColumnTransformer */\n",
       "  background-color: var(--sklearn-color-background);\n",
       "}\n",
       "\n",
       "/* Toggleable label */\n",
       "#sk-container-id-2 label.sk-toggleable__label {\n",
       "  cursor: pointer;\n",
       "  display: block;\n",
       "  width: 100%;\n",
       "  margin-bottom: 0;\n",
       "  padding: 0.5em;\n",
       "  box-sizing: border-box;\n",
       "  text-align: center;\n",
       "}\n",
       "\n",
       "#sk-container-id-2 label.sk-toggleable__label-arrow:before {\n",
       "  /* Arrow on the left of the label */\n",
       "  content: \"▸\";\n",
       "  float: left;\n",
       "  margin-right: 0.25em;\n",
       "  color: var(--sklearn-color-icon);\n",
       "}\n",
       "\n",
       "#sk-container-id-2 label.sk-toggleable__label-arrow:hover:before {\n",
       "  color: var(--sklearn-color-text);\n",
       "}\n",
       "\n",
       "/* Toggleable content - dropdown */\n",
       "\n",
       "#sk-container-id-2 div.sk-toggleable__content {\n",
       "  max-height: 0;\n",
       "  max-width: 0;\n",
       "  overflow: hidden;\n",
       "  text-align: left;\n",
       "  /* unfitted */\n",
       "  background-color: var(--sklearn-color-unfitted-level-0);\n",
       "}\n",
       "\n",
       "#sk-container-id-2 div.sk-toggleable__content.fitted {\n",
       "  /* fitted */\n",
       "  background-color: var(--sklearn-color-fitted-level-0);\n",
       "}\n",
       "\n",
       "#sk-container-id-2 div.sk-toggleable__content pre {\n",
       "  margin: 0.2em;\n",
       "  border-radius: 0.25em;\n",
       "  color: var(--sklearn-color-text);\n",
       "  /* unfitted */\n",
       "  background-color: var(--sklearn-color-unfitted-level-0);\n",
       "}\n",
       "\n",
       "#sk-container-id-2 div.sk-toggleable__content.fitted pre {\n",
       "  /* unfitted */\n",
       "  background-color: var(--sklearn-color-fitted-level-0);\n",
       "}\n",
       "\n",
       "#sk-container-id-2 input.sk-toggleable__control:checked~div.sk-toggleable__content {\n",
       "  /* Expand drop-down */\n",
       "  max-height: 200px;\n",
       "  max-width: 100%;\n",
       "  overflow: auto;\n",
       "}\n",
       "\n",
       "#sk-container-id-2 input.sk-toggleable__control:checked~label.sk-toggleable__label-arrow:before {\n",
       "  content: \"▾\";\n",
       "}\n",
       "\n",
       "/* Pipeline/ColumnTransformer-specific style */\n",
       "\n",
       "#sk-container-id-2 div.sk-label input.sk-toggleable__control:checked~label.sk-toggleable__label {\n",
       "  color: var(--sklearn-color-text);\n",
       "  background-color: var(--sklearn-color-unfitted-level-2);\n",
       "}\n",
       "\n",
       "#sk-container-id-2 div.sk-label.fitted input.sk-toggleable__control:checked~label.sk-toggleable__label {\n",
       "  background-color: var(--sklearn-color-fitted-level-2);\n",
       "}\n",
       "\n",
       "/* Estimator-specific style */\n",
       "\n",
       "/* Colorize estimator box */\n",
       "#sk-container-id-2 div.sk-estimator input.sk-toggleable__control:checked~label.sk-toggleable__label {\n",
       "  /* unfitted */\n",
       "  background-color: var(--sklearn-color-unfitted-level-2);\n",
       "}\n",
       "\n",
       "#sk-container-id-2 div.sk-estimator.fitted input.sk-toggleable__control:checked~label.sk-toggleable__label {\n",
       "  /* fitted */\n",
       "  background-color: var(--sklearn-color-fitted-level-2);\n",
       "}\n",
       "\n",
       "#sk-container-id-2 div.sk-label label.sk-toggleable__label,\n",
       "#sk-container-id-2 div.sk-label label {\n",
       "  /* The background is the default theme color */\n",
       "  color: var(--sklearn-color-text-on-default-background);\n",
       "}\n",
       "\n",
       "/* On hover, darken the color of the background */\n",
       "#sk-container-id-2 div.sk-label:hover label.sk-toggleable__label {\n",
       "  color: var(--sklearn-color-text);\n",
       "  background-color: var(--sklearn-color-unfitted-level-2);\n",
       "}\n",
       "\n",
       "/* Label box, darken color on hover, fitted */\n",
       "#sk-container-id-2 div.sk-label.fitted:hover label.sk-toggleable__label.fitted {\n",
       "  color: var(--sklearn-color-text);\n",
       "  background-color: var(--sklearn-color-fitted-level-2);\n",
       "}\n",
       "\n",
       "/* Estimator label */\n",
       "\n",
       "#sk-container-id-2 div.sk-label label {\n",
       "  font-family: monospace;\n",
       "  font-weight: bold;\n",
       "  display: inline-block;\n",
       "  line-height: 1.2em;\n",
       "}\n",
       "\n",
       "#sk-container-id-2 div.sk-label-container {\n",
       "  text-align: center;\n",
       "}\n",
       "\n",
       "/* Estimator-specific */\n",
       "#sk-container-id-2 div.sk-estimator {\n",
       "  font-family: monospace;\n",
       "  border: 1px dotted var(--sklearn-color-border-box);\n",
       "  border-radius: 0.25em;\n",
       "  box-sizing: border-box;\n",
       "  margin-bottom: 0.5em;\n",
       "  /* unfitted */\n",
       "  background-color: var(--sklearn-color-unfitted-level-0);\n",
       "}\n",
       "\n",
       "#sk-container-id-2 div.sk-estimator.fitted {\n",
       "  /* fitted */\n",
       "  background-color: var(--sklearn-color-fitted-level-0);\n",
       "}\n",
       "\n",
       "/* on hover */\n",
       "#sk-container-id-2 div.sk-estimator:hover {\n",
       "  /* unfitted */\n",
       "  background-color: var(--sklearn-color-unfitted-level-2);\n",
       "}\n",
       "\n",
       "#sk-container-id-2 div.sk-estimator.fitted:hover {\n",
       "  /* fitted */\n",
       "  background-color: var(--sklearn-color-fitted-level-2);\n",
       "}\n",
       "\n",
       "/* Specification for estimator info (e.g. \"i\" and \"?\") */\n",
       "\n",
       "/* Common style for \"i\" and \"?\" */\n",
       "\n",
       ".sk-estimator-doc-link,\n",
       "a:link.sk-estimator-doc-link,\n",
       "a:visited.sk-estimator-doc-link {\n",
       "  float: right;\n",
       "  font-size: smaller;\n",
       "  line-height: 1em;\n",
       "  font-family: monospace;\n",
       "  background-color: var(--sklearn-color-background);\n",
       "  border-radius: 1em;\n",
       "  height: 1em;\n",
       "  width: 1em;\n",
       "  text-decoration: none !important;\n",
       "  margin-left: 1ex;\n",
       "  /* unfitted */\n",
       "  border: var(--sklearn-color-unfitted-level-1) 1pt solid;\n",
       "  color: var(--sklearn-color-unfitted-level-1);\n",
       "}\n",
       "\n",
       ".sk-estimator-doc-link.fitted,\n",
       "a:link.sk-estimator-doc-link.fitted,\n",
       "a:visited.sk-estimator-doc-link.fitted {\n",
       "  /* fitted */\n",
       "  border: var(--sklearn-color-fitted-level-1) 1pt solid;\n",
       "  color: var(--sklearn-color-fitted-level-1);\n",
       "}\n",
       "\n",
       "/* On hover */\n",
       "div.sk-estimator:hover .sk-estimator-doc-link:hover,\n",
       ".sk-estimator-doc-link:hover,\n",
       "div.sk-label-container:hover .sk-estimator-doc-link:hover,\n",
       ".sk-estimator-doc-link:hover {\n",
       "  /* unfitted */\n",
       "  background-color: var(--sklearn-color-unfitted-level-3);\n",
       "  color: var(--sklearn-color-background);\n",
       "  text-decoration: none;\n",
       "}\n",
       "\n",
       "div.sk-estimator.fitted:hover .sk-estimator-doc-link.fitted:hover,\n",
       ".sk-estimator-doc-link.fitted:hover,\n",
       "div.sk-label-container:hover .sk-estimator-doc-link.fitted:hover,\n",
       ".sk-estimator-doc-link.fitted:hover {\n",
       "  /* fitted */\n",
       "  background-color: var(--sklearn-color-fitted-level-3);\n",
       "  color: var(--sklearn-color-background);\n",
       "  text-decoration: none;\n",
       "}\n",
       "\n",
       "/* Span, style for the box shown on hovering the info icon */\n",
       ".sk-estimator-doc-link span {\n",
       "  display: none;\n",
       "  z-index: 9999;\n",
       "  position: relative;\n",
       "  font-weight: normal;\n",
       "  right: .2ex;\n",
       "  padding: .5ex;\n",
       "  margin: .5ex;\n",
       "  width: min-content;\n",
       "  min-width: 20ex;\n",
       "  max-width: 50ex;\n",
       "  color: var(--sklearn-color-text);\n",
       "  box-shadow: 2pt 2pt 4pt #999;\n",
       "  /* unfitted */\n",
       "  background: var(--sklearn-color-unfitted-level-0);\n",
       "  border: .5pt solid var(--sklearn-color-unfitted-level-3);\n",
       "}\n",
       "\n",
       ".sk-estimator-doc-link.fitted span {\n",
       "  /* fitted */\n",
       "  background: var(--sklearn-color-fitted-level-0);\n",
       "  border: var(--sklearn-color-fitted-level-3);\n",
       "}\n",
       "\n",
       ".sk-estimator-doc-link:hover span {\n",
       "  display: block;\n",
       "}\n",
       "\n",
       "/* \"?\"-specific style due to the `<a>` HTML tag */\n",
       "\n",
       "#sk-container-id-2 a.estimator_doc_link {\n",
       "  float: right;\n",
       "  font-size: 1rem;\n",
       "  line-height: 1em;\n",
       "  font-family: monospace;\n",
       "  background-color: var(--sklearn-color-background);\n",
       "  border-radius: 1rem;\n",
       "  height: 1rem;\n",
       "  width: 1rem;\n",
       "  text-decoration: none;\n",
       "  /* unfitted */\n",
       "  color: var(--sklearn-color-unfitted-level-1);\n",
       "  border: var(--sklearn-color-unfitted-level-1) 1pt solid;\n",
       "}\n",
       "\n",
       "#sk-container-id-2 a.estimator_doc_link.fitted {\n",
       "  /* fitted */\n",
       "  border: var(--sklearn-color-fitted-level-1) 1pt solid;\n",
       "  color: var(--sklearn-color-fitted-level-1);\n",
       "}\n",
       "\n",
       "/* On hover */\n",
       "#sk-container-id-2 a.estimator_doc_link:hover {\n",
       "  /* unfitted */\n",
       "  background-color: var(--sklearn-color-unfitted-level-3);\n",
       "  color: var(--sklearn-color-background);\n",
       "  text-decoration: none;\n",
       "}\n",
       "\n",
       "#sk-container-id-2 a.estimator_doc_link.fitted:hover {\n",
       "  /* fitted */\n",
       "  background-color: var(--sklearn-color-fitted-level-3);\n",
       "}\n",
       "</style><div id=\"sk-container-id-2\" class=\"sk-top-container\"><div class=\"sk-text-repr-fallback\"><pre>EnsembleGenerator(class_shift=(True,), n_estimators=32,\n",
       "                  norm_methods=[&#x27;none&#x27;, &#x27;power&#x27;], outlier_threshold=(4.0,))</pre><b>In a Jupyter environment, please rerun this cell to show the HTML representation or trust the notebook. <br />On GitHub, the HTML representation is unable to render, please try loading this page with nbviewer.org.</b></div><div class=\"sk-container\" hidden><div class=\"sk-item\"><div class=\"sk-estimator fitted sk-toggleable\"><input class=\"sk-toggleable__control sk-hidden--visually\" id=\"sk-estimator-id-2\" type=\"checkbox\" checked><label for=\"sk-estimator-id-2\" class=\"sk-toggleable__label fitted sk-toggleable__label-arrow fitted\">&nbsp;EnsembleGenerator<span class=\"sk-estimator-doc-link fitted\">i<span>Fitted</span></span></label><div class=\"sk-toggleable__content fitted\"><pre>EnsembleGenerator(class_shift=(True,), n_estimators=32,\n",
       "                  norm_methods=[&#x27;none&#x27;, &#x27;power&#x27;], outlier_threshold=(4.0,))</pre></div> </div></div></div></div>"
      ],
      "text/plain": [
       "EnsembleGenerator(class_shift=(True,), n_estimators=32,\n",
       "                  norm_methods=['none', 'power'], outlier_threshold=(4.0,))"
      ]
     },
     "execution_count": 24,
     "metadata": {},
     "output_type": "execute_result"
    }
   ],
   "source": [
    "y_encoder_ = LabelEncoder()\n",
    "y = y_encoder_.fit_transform(y)\n",
    "classes_ = y_encoder_.classes_\n",
    "n_classes_ = len(y_encoder_.classes_)\n",
    "\n",
    "\n",
    "#  Transform input features\n",
    "X_encoder_ = TransformToNumerical(verbose=False)\n",
    "X = X_encoder_.fit_transform(X)\n",
    "\n",
    "n_estimators: int = (32,)\n",
    "norm_methods: Optional[str | List[str]] = (None,)\n",
    "feat_shuffle_method: str = (\"latin\",)\n",
    "class_shift: bool = (True,)\n",
    "outlier_threshold: float = (4.0,)\n",
    "softmax_temperature: float = (0.9,)\n",
    "average_logits: bool = (True,)\n",
    "use_hierarchical: bool = True\n",
    "random_state: int | None = (42,)\n",
    "\n",
    "seed = random_state if isinstance(random_state, (int, type(None))) else None\n",
    "\n",
    "# Fit ensemble generator to create multiple dataset views\n",
    "ensemble_generator_ = EnsembleGenerator(\n",
    "    n_estimators=32,\n",
    "    norm_methods=[\"none\", \"power\"],\n",
    "    feat_shuffle_method=\"latin\",\n",
    "    class_shift=class_shift,\n",
    "    outlier_threshold=outlier_threshold,\n",
    "    random_state=seed,\n",
    ")\n",
    "ensemble_generator_.fit(X, y)\n"
   ]
  },
  {
   "cell_type": "code",
   "execution_count": 25,
   "id": "4db936b1",
   "metadata": {},
   "outputs": [],
   "source": [
    "from sklearn.model_selection import train_test_split\n",
    "\n",
    "X_train, X_test, y_train, y_test = train_test_split(\n",
    "    X, y, test_size=0.2, random_state=seed, stratify=y\n",
    ")"
   ]
  },
  {
   "cell_type": "code",
   "execution_count": 44,
   "id": "ecba6894",
   "metadata": {},
   "outputs": [],
   "source": [
    "import torch\n",
    "from torch.utils.data import TensorDataset, DataLoader\n",
    "\n",
    "X_train_tensor = torch.tensor(X_train, dtype=torch.float32)\n",
    "y_train_tensor = torch.tensor(y_train, dtype=torch.long)\n",
    "\n",
    "X_test_tensor = torch.tensor(X_test, dtype=torch.float32)\n",
    "y_test_tensor = torch.tensor(y_test, dtype=torch.long)"
   ]
  },
  {
   "cell_type": "code",
   "execution_count": null,
   "id": "bcf5ae7c",
   "metadata": {},
   "outputs": [
    {
     "data": {
      "text/plain": [
       "torch.Size([1, 450, 158])"
      ]
     },
     "metadata": {},
     "output_type": "display_data"
    }
   ],
   "source": [
    "X_trainval_tensor.shape"
   ]
  },
  {
   "cell_type": "code",
   "execution_count": 43,
   "id": "92131d18",
   "metadata": {},
   "outputs": [
    {
     "data": {
      "text/plain": [
       "50"
      ]
     },
     "execution_count": 43,
     "metadata": {},
     "output_type": "execute_result"
    }
   ],
   "source": [
    "y_val_tensor.shape[0]"
   ]
  },
  {
   "cell_type": "code",
   "execution_count": 11,
   "id": "02811f7e",
   "metadata": {},
   "outputs": [],
   "source": [
    "from tabicl.train.run import Trainer\n",
    "from tabicl.train.train_config import build_parser"
   ]
  },
  {
   "cell_type": "code",
   "execution_count": 12,
   "id": "070f1f3c",
   "metadata": {},
   "outputs": [
    {
     "name": "stdout",
     "output_type": "stream",
     "text": [
      "No DDP training\n",
      "Model has 27051658 parameters.\n",
      "PriorDataset(\n",
      "  prior_type: mix_scm\n",
      "  batch_size: 512\n",
      "  batch_size_per_gp: 4\n",
      "  features: 5 - 100\n",
      "  max classes: 10\n",
      "  seq_len: None - 1024\n",
      "  sequence length varies across groups: False\n",
      "  train_size: 0.1 - 0.9\n",
      "  device: cpu\n",
      ")\n",
      "Automatic Mixed Precision is enabled.\n",
      "Loading checkpoint from /home/D32485/exercice/tabicl-classifier-v1.1-0506.ckpt\n",
      "Only loading model weights\n"
     ]
    }
   ],
   "source": [
    "import sys\n",
    "\n",
    "sys.argv = [\"\"]\n",
    "\n",
    "parser = build_parser()\n",
    "# config = parser.parse_args([])  # empty list means: use only defaults\n",
    "config = parser.parse_args(\n",
    "    [\n",
    "        \"--checkpoint_path\",\n",
    "        \"/home/D32485/exercice/tabicl-classifier-v1.1-0506.ckpt\",\n",
    "        \"--only_load_model\",\n",
    "        \"True\",\n",
    "    ]\n",
    ")\n",
    "\n",
    "trainer = Trainer(config)"
   ]
  },
  {
   "cell_type": "code",
   "execution_count": 31,
   "id": "e94ce366",
   "metadata": {},
   "outputs": [
    {
     "data": {
      "text/plain": [
       "torch.Size([400, 12])"
      ]
     },
     "execution_count": 31,
     "metadata": {},
     "output_type": "execute_result"
    }
   ],
   "source": [
    "X_train_tensor.shape"
   ]
  },
  {
   "cell_type": "code",
   "execution_count": 27,
   "id": "4dcf6c03",
   "metadata": {},
   "outputs": [
    {
     "ename": "NameError",
     "evalue": "name 'X_trainval_tensor' is not defined",
     "output_type": "error",
     "traceback": [
      "\u001b[0;31m---------------------------------------------------------------------------\u001b[0m",
      "\u001b[0;31mNameError\u001b[0m                                 Traceback (most recent call last)",
      "Cell \u001b[0;32mIn[27], line 1\u001b[0m\n\u001b[0;32m----> 1\u001b[0m batch_size, T, H \u001b[38;5;241m=\u001b[39m \u001b[43mX_trainval_tensor\u001b[49m\u001b[38;5;241m.\u001b[39mshape\n",
      "\u001b[0;31mNameError\u001b[0m: name 'X_trainval_tensor' is not defined"
     ]
    }
   ],
   "source": [
    "batch_size, T, H = X_trainval_tensor.shape\n"
   ]
  },
  {
   "cell_type": "code",
   "execution_count": 45,
   "id": "f1ebdaa8",
   "metadata": {},
   "outputs": [],
   "source": [
    "X_train_tensor = X_train_tensor.unsqueeze(0)\n",
    "y_train_tensor = y_train_tensor.unsqueeze(0)"
   ]
  },
  {
   "cell_type": "code",
   "execution_count": 22,
   "id": "fed5e58c",
   "metadata": {},
   "outputs": [
    {
     "data": {
      "text/plain": [
       "torch.Size([1, 400, 12])"
      ]
     },
     "execution_count": 22,
     "metadata": {},
     "output_type": "execute_result"
    }
   ],
   "source": [
    "X_train_tensor.shape"
   ]
  },
  {
   "cell_type": "code",
   "execution_count": 35,
   "id": "9ca67999",
   "metadata": {},
   "outputs": [
    {
     "data": {
      "text/plain": [
       "torch.Size([1, 400])"
      ]
     },
     "execution_count": 35,
     "metadata": {},
     "output_type": "execute_result"
    }
   ],
   "source": [
    "y_train_tensor.shape"
   ]
  },
  {
   "cell_type": "code",
   "execution_count": 46,
   "id": "313c2b3c",
   "metadata": {},
   "outputs": [
    {
     "name": "stdout",
     "output_type": "stream",
     "text": [
      "Batch size:  1\n",
      "seq_len :  400\n",
      "train_size :  300\n",
      "Micro_y shape :  torch.Size([1, 400])\n",
      "seq_len:  400\n",
      "Pred shape :  torch.Size([100, 10])\n",
      "True shape:  torch.Size([100])\n"
     ]
    }
   ],
   "source": [
    "batch_size, T, H = X_train_tensor.shape\n",
    "d = torch.full((batch_size,), H, dtype=torch.long)\n",
    "seq_len = T\n",
    "train_size = 300\n",
    "\n",
    "print(\"Batch size: \", batch_size)\n",
    "print(\"seq_len : \", seq_len)\n",
    "print(\"train_size : \", train_size)\n",
    "\n",
    "seq_len_tensor = torch.full((batch_size,), seq_len, dtype=torch.long)  # or float\n",
    "train_size_tensor = torch.full((batch_size,), train_size, dtype=torch.long)\n",
    "\n",
    "batch = X_train_tensor, y_train_tensor, d, seq_len_tensor, train_size_tensor\n",
    "results = trainer.run_batch(batch)"
   ]
  },
  {
   "cell_type": "code",
   "execution_count": 47,
   "id": "012e0d7d",
   "metadata": {},
   "outputs": [],
   "source": [
    "def train(model, micro_X, y, train_len, micro_d, device, learning_rate=5e-5, epochs=40):\n",
    "    # Move model to the specified device\n",
    "    model.to(device)\n",
    "\n",
    "    # Define the loss function (CrossEntropy includes softmax)\n",
    "    criterion = torch.nn.CrossEntropyLoss()\n",
    "\n",
    "    # Define the optimizer (only updating the last layer)\n",
    "    optimizer = optim.Adam(model.parameters(), lr=learning_rate)\n",
    "\n",
    "    # Learning rate scheduler (Reduce when loss stops improving)\n",
    "    scheduler = ReduceLROnPlateau(\n",
    "        optimizer, mode=\"min\", factor=0.5, patience=5, verbose=True\n",
    "    )\n",
    "\n",
    "    # Lists to store loss and accuracy per epoch\n",
    "    train_losses = []\n",
    "    train_accuracies = []\n",
    "\n",
    "    # Training loop\n",
    "    for epoch in range(epochs):\n",
    "        model.train()  # Set the model to training mode\n",
    "\n",
    "        optimizer.zero_grad()  # Reset accumulated gradients\n",
    "\n",
    "        # Forward pass (only the last layer)\n",
    "        # outputs = model(data, labels)\n",
    "        # print(\"Labels dim : \", labels.shape)\n",
    "        # print(\"Outputs dim : \", outputs.shape)\n",
    "        # loss = criterion(outputs, labels)  # Compute the loss\n",
    "        y_train = y[:, :train_len]\n",
    "        y_test = y[:, train_len:]\n",
    "        micro_X = micro_X.to(device)\n",
    "        y_train = y_train.to(device)\n",
    "        micro_d = micro_d.to(device)\n",
    "        y_test = y_test.to(device)\n",
    "        pred = model(micro_X, y_train, micro_d)  # (B, test_size, max_classes)\n",
    "        pred = pred.flatten(end_dim=-2)\n",
    "        true = y_test.long().flatten()\n",
    "        print(\"Pred shape : \", pred.shape)\n",
    "        print(\"True shape: \", true.shape)\n",
    "        loss = criterion(pred, true)\n",
    "\n",
    "        loss.backward()  # Compute gradients\n",
    "        optimizer.step()  # Update weights\n",
    "        scheduler.step(loss)  # Step the scheduler based on validation loss\n",
    "\n",
    "        # Compute accuracy\n",
    "        _, predicted = pred.max(1)\n",
    "        # Compare predicted with labels to check how many predictions are correct\n",
    "        accuracy = (predicted == y_test).sum().item() / y_test.size(0)\n",
    "\n",
    "        # Store metrics\n",
    "        train_losses.append(loss.item())\n",
    "        train_accuracies.append(accuracy)\n",
    "\n",
    "        # Print epoch results\n",
    "        print(\n",
    "            f\"Epoch {epoch + 1}/{epochs}, Loss: {loss.item():.4f}, lr: {optimizer.param_groups[0]['lr']:.6f}, Accuracy: {accuracy:.6f}\"\n",
    "        )\n",
    "\n",
    "    return train_losses, train_accuracies"
   ]
  },
  {
   "cell_type": "code",
   "execution_count": 48,
   "id": "669762a8",
   "metadata": {},
   "outputs": [
    {
     "name": "stderr",
     "output_type": "stream",
     "text": [
      "/home/D32485/fmproject/.venv/lib/python3.12/site-packages/torch/optim/lr_scheduler.py:62: UserWarning: The verbose parameter is deprecated. Please use get_last_lr() to access the learning rate.\n",
      "  warnings.warn(\n"
     ]
    },
    {
     "name": "stdout",
     "output_type": "stream",
     "text": [
      "Pred shape :  torch.Size([100, 10])\n",
      "True shape:  torch.Size([100])\n",
      "Epoch 1/30, Loss: 0.0049, lr: 0.000050, Accuracy: 100.000000\n",
      "Pred shape :  torch.Size([100, 10])\n",
      "True shape:  torch.Size([100])\n",
      "Epoch 2/30, Loss: 0.6282, lr: 0.000050, Accuracy: 89.000000\n",
      "Pred shape :  torch.Size([100, 10])\n",
      "True shape:  torch.Size([100])\n",
      "Epoch 3/30, Loss: 0.3926, lr: 0.000050, Accuracy: 86.000000\n",
      "Pred shape :  torch.Size([100, 10])\n",
      "True shape:  torch.Size([100])\n",
      "Epoch 4/30, Loss: 0.1414, lr: 0.000050, Accuracy: 94.000000\n",
      "Pred shape :  torch.Size([100, 10])\n",
      "True shape:  torch.Size([100])\n",
      "Epoch 5/30, Loss: 0.1352, lr: 0.000050, Accuracy: 96.000000\n",
      "Pred shape :  torch.Size([100, 10])\n",
      "True shape:  torch.Size([100])\n",
      "Epoch 6/30, Loss: 0.1566, lr: 0.000050, Accuracy: 96.000000\n",
      "Pred shape :  torch.Size([100, 10])\n",
      "True shape:  torch.Size([100])\n",
      "Epoch 7/30, Loss: 0.1064, lr: 0.000025, Accuracy: 97.000000\n",
      "Pred shape :  torch.Size([100, 10])\n",
      "True shape:  torch.Size([100])\n",
      "Epoch 8/30, Loss: 0.0822, lr: 0.000025, Accuracy: 96.000000\n",
      "Pred shape :  torch.Size([100, 10])\n",
      "True shape:  torch.Size([100])\n",
      "Epoch 9/30, Loss: 0.0789, lr: 0.000025, Accuracy: 96.000000\n",
      "Pred shape :  torch.Size([100, 10])\n",
      "True shape:  torch.Size([100])\n",
      "Epoch 10/30, Loss: 0.0579, lr: 0.000025, Accuracy: 99.000000\n",
      "Pred shape :  torch.Size([100, 10])\n",
      "True shape:  torch.Size([100])\n",
      "Epoch 11/30, Loss: 0.0346, lr: 0.000025, Accuracy: 100.000000\n",
      "Pred shape :  torch.Size([100, 10])\n",
      "True shape:  torch.Size([100])\n",
      "Epoch 12/30, Loss: 0.0245, lr: 0.000025, Accuracy: 100.000000\n",
      "Pred shape :  torch.Size([100, 10])\n",
      "True shape:  torch.Size([100])\n",
      "Epoch 13/30, Loss: 0.0222, lr: 0.000013, Accuracy: 100.000000\n",
      "Pred shape :  torch.Size([100, 10])\n",
      "True shape:  torch.Size([100])\n",
      "Epoch 14/30, Loss: 0.0198, lr: 0.000013, Accuracy: 100.000000\n",
      "Pred shape :  torch.Size([100, 10])\n",
      "True shape:  torch.Size([100])\n",
      "Epoch 15/30, Loss: 0.0173, lr: 0.000013, Accuracy: 100.000000\n",
      "Pred shape :  torch.Size([100, 10])\n",
      "True shape:  torch.Size([100])\n",
      "Epoch 16/30, Loss: 0.0139, lr: 0.000013, Accuracy: 100.000000\n",
      "Pred shape :  torch.Size([100, 10])\n",
      "True shape:  torch.Size([100])\n",
      "Epoch 17/30, Loss: 0.0109, lr: 0.000013, Accuracy: 100.000000\n",
      "Pred shape :  torch.Size([100, 10])\n",
      "True shape:  torch.Size([100])\n",
      "Epoch 18/30, Loss: 0.0089, lr: 0.000013, Accuracy: 100.000000\n",
      "Pred shape :  torch.Size([100, 10])\n",
      "True shape:  torch.Size([100])\n",
      "Epoch 19/30, Loss: 0.0076, lr: 0.000006, Accuracy: 100.000000\n",
      "Pred shape :  torch.Size([100, 10])\n",
      "True shape:  torch.Size([100])\n",
      "Epoch 20/30, Loss: 0.0068, lr: 0.000006, Accuracy: 100.000000\n",
      "Pred shape :  torch.Size([100, 10])\n",
      "True shape:  torch.Size([100])\n",
      "Epoch 21/30, Loss: 0.0064, lr: 0.000006, Accuracy: 100.000000\n",
      "Pred shape :  torch.Size([100, 10])\n",
      "True shape:  torch.Size([100])\n",
      "Epoch 22/30, Loss: 0.0061, lr: 0.000006, Accuracy: 100.000000\n",
      "Pred shape :  torch.Size([100, 10])\n",
      "True shape:  torch.Size([100])\n",
      "Epoch 23/30, Loss: 0.0058, lr: 0.000006, Accuracy: 100.000000\n",
      "Pred shape :  torch.Size([100, 10])\n",
      "True shape:  torch.Size([100])\n",
      "Epoch 24/30, Loss: 0.0055, lr: 0.000006, Accuracy: 100.000000\n",
      "Pred shape :  torch.Size([100, 10])\n",
      "True shape:  torch.Size([100])\n",
      "Epoch 25/30, Loss: 0.0052, lr: 0.000003, Accuracy: 100.000000\n",
      "Pred shape :  torch.Size([100, 10])\n",
      "True shape:  torch.Size([100])\n",
      "Epoch 26/30, Loss: 0.0049, lr: 0.000003, Accuracy: 100.000000\n",
      "Pred shape :  torch.Size([100, 10])\n",
      "True shape:  torch.Size([100])\n",
      "Epoch 27/30, Loss: 0.0048, lr: 0.000003, Accuracy: 100.000000\n",
      "Pred shape :  torch.Size([100, 10])\n",
      "True shape:  torch.Size([100])\n",
      "Epoch 28/30, Loss: 0.0046, lr: 0.000003, Accuracy: 100.000000\n",
      "Pred shape :  torch.Size([100, 10])\n",
      "True shape:  torch.Size([100])\n",
      "Epoch 29/30, Loss: 0.0045, lr: 0.000003, Accuracy: 100.000000\n",
      "Pred shape :  torch.Size([100, 10])\n",
      "True shape:  torch.Size([100])\n",
      "Epoch 30/30, Loss: 0.0043, lr: 0.000003, Accuracy: 100.000000\n"
     ]
    }
   ],
   "source": [
    "train_losses, train_accuracies = train(\n",
    "    model=model,\n",
    "    micro_X=X_train_tensor,\n",
    "    y=y_train_tensor,\n",
    "    train_len=300,\n",
    "    micro_d=d,\n",
    "    device=device,\n",
    "    learning_rate=5e-5,\n",
    "    epochs=30,\n",
    ")"
   ]
  },
  {
   "cell_type": "code",
   "execution_count": 60,
   "id": "604a185e",
   "metadata": {},
   "outputs": [],
   "source": [
    "def inference(model, micro_X, y, train_len, micro_d, device):\n",
    "    model.to(device)\n",
    "    model.eval()  # set evaluation mode\n",
    "\n",
    "    # Split the labels like in training\n",
    "    y_train = y[:, :train_len].to(device)\n",
    "    y_test = y[:, train_len:].to(device)\n",
    "\n",
    "    micro_X = micro_X.to(device)\n",
    "    micro_d = micro_d.to(device)\n",
    "\n",
    "    with torch.no_grad():\n",
    "        # Forward pass\n",
    "        pred_logits = model(\n",
    "            micro_X, y_train, micro_d\n",
    "        )  # shape: (B, test_size, max_classes)\n",
    "\n",
    "        # Flatten to (B * test_size, max_classes)\n",
    "        pred_logits = pred_logits.flatten(end_dim=-2)\n",
    "\n",
    "        # Get predicted class indices\n",
    "        predicted_classes = pred_logits.argmax(dim=1)\n",
    "\n",
    "    return predicted_classes, y_test.flatten()"
   ]
  },
  {
   "cell_type": "code",
   "execution_count": 61,
   "id": "48497e8d",
   "metadata": {},
   "outputs": [
    {
     "data": {
      "text/plain": [
       "torch.Size([1, 100, 12])"
      ]
     },
     "execution_count": 61,
     "metadata": {},
     "output_type": "execute_result"
    }
   ],
   "source": [
    "X_test_tensor.shape"
   ]
  },
  {
   "cell_type": "code",
   "execution_count": 62,
   "id": "76b9b960",
   "metadata": {},
   "outputs": [
    {
     "name": "stdout",
     "output_type": "stream",
     "text": [
      "Inference accuracy: 0.5600\n"
     ]
    }
   ],
   "source": [
    "pred_classes, true_labels = inference(\n",
    "    model, X_test_tensor, y_test_tensor, 50, d, device\n",
    ")\n",
    "\n",
    "# Compute accuracy\n",
    "accuracy = (pred_classes == true_labels).float().mean().item()\n",
    "print(f\"Inference accuracy: {accuracy:.4f}\")"
   ]
  },
  {
   "cell_type": "code",
   "execution_count": 49,
   "id": "70c9f4c4",
   "metadata": {},
   "outputs": [
    {
     "data": {
      "text/plain": [
       "TabICL(\n",
       "  (col_embedder): ColEmbedding(\n",
       "    (in_linear): SkippableLinear(in_features=1, out_features=128, bias=True)\n",
       "    (tf_col): SetTransformer(\n",
       "      (blocks): ModuleList(\n",
       "        (0-2): 3 x InducedSelfAttentionBlock(\n",
       "          (multihead_attn1): MultiheadAttentionBlock(\n",
       "            (linear1): Linear(in_features=128, out_features=256, bias=True)\n",
       "            (dropout): Dropout(p=0.0, inplace=False)\n",
       "            (linear2): Linear(in_features=256, out_features=128, bias=True)\n",
       "            (norm1): LayerNorm((128,), eps=1e-05, elementwise_affine=True)\n",
       "            (norm2): LayerNorm((128,), eps=1e-05, elementwise_affine=True)\n",
       "            (dropout1): Dropout(p=0.0, inplace=False)\n",
       "            (dropout2): Dropout(p=0.0, inplace=False)\n",
       "            (attn): MultiheadAttention(\n",
       "              (out_proj): NonDynamicallyQuantizableLinear(in_features=128, out_features=128, bias=True)\n",
       "            )\n",
       "          )\n",
       "          (multihead_attn2): MultiheadAttentionBlock(\n",
       "            (linear1): Linear(in_features=128, out_features=256, bias=True)\n",
       "            (dropout): Dropout(p=0.0, inplace=False)\n",
       "            (linear2): Linear(in_features=256, out_features=128, bias=True)\n",
       "            (norm1): LayerNorm((128,), eps=1e-05, elementwise_affine=True)\n",
       "            (norm2): LayerNorm((128,), eps=1e-05, elementwise_affine=True)\n",
       "            (dropout1): Dropout(p=0.0, inplace=False)\n",
       "            (dropout2): Dropout(p=0.0, inplace=False)\n",
       "            (attn): MultiheadAttention(\n",
       "              (out_proj): NonDynamicallyQuantizableLinear(in_features=128, out_features=128, bias=True)\n",
       "            )\n",
       "          )\n",
       "        )\n",
       "      )\n",
       "    )\n",
       "    (out_w): SkippableLinear(in_features=128, out_features=128, bias=True)\n",
       "    (ln_w): LayerNorm((128,), eps=1e-05, elementwise_affine=True)\n",
       "    (out_b): SkippableLinear(in_features=128, out_features=128, bias=True)\n",
       "    (ln_b): LayerNorm((128,), eps=1e-05, elementwise_affine=True)\n",
       "  )\n",
       "  (row_interactor): RowInteraction(\n",
       "    (tf_row): Encoder(\n",
       "      (blocks): ModuleList(\n",
       "        (0-2): 3 x MultiheadAttentionBlock(\n",
       "          (linear1): Linear(in_features=128, out_features=256, bias=True)\n",
       "          (dropout): Dropout(p=0.0, inplace=False)\n",
       "          (linear2): Linear(in_features=256, out_features=128, bias=True)\n",
       "          (norm1): LayerNorm((128,), eps=1e-05, elementwise_affine=True)\n",
       "          (norm2): LayerNorm((128,), eps=1e-05, elementwise_affine=True)\n",
       "          (dropout1): Dropout(p=0.0, inplace=False)\n",
       "          (dropout2): Dropout(p=0.0, inplace=False)\n",
       "          (attn): MultiheadAttention(\n",
       "            (out_proj): NonDynamicallyQuantizableLinear(in_features=128, out_features=128, bias=True)\n",
       "          )\n",
       "        )\n",
       "      )\n",
       "      (rope): RotaryEmbedding()\n",
       "    )\n",
       "    (out_ln): LayerNorm((128,), eps=1e-05, elementwise_affine=True)\n",
       "  )\n",
       "  (icl_predictor): ICLearning(\n",
       "    (tf_icl): Encoder(\n",
       "      (blocks): ModuleList(\n",
       "        (0-11): 12 x MultiheadAttentionBlock(\n",
       "          (linear1): Linear(in_features=512, out_features=1024, bias=True)\n",
       "          (dropout): Dropout(p=0.0, inplace=False)\n",
       "          (linear2): Linear(in_features=1024, out_features=512, bias=True)\n",
       "          (norm1): LayerNorm((512,), eps=1e-05, elementwise_affine=True)\n",
       "          (norm2): LayerNorm((512,), eps=1e-05, elementwise_affine=True)\n",
       "          (dropout1): Dropout(p=0.0, inplace=False)\n",
       "          (dropout2): Dropout(p=0.0, inplace=False)\n",
       "          (attn): MultiheadAttention(\n",
       "            (out_proj): NonDynamicallyQuantizableLinear(in_features=512, out_features=512, bias=True)\n",
       "          )\n",
       "        )\n",
       "      )\n",
       "    )\n",
       "    (ln): LayerNorm((512,), eps=1e-05, elementwise_affine=True)\n",
       "    (y_encoder): OneHotAndLinear(in_features=10, out_features=512, bias=True)\n",
       "    (decoder): Sequential(\n",
       "      (0): Linear(in_features=512, out_features=1024, bias=True)\n",
       "      (1): GELU(approximate='none')\n",
       "      (2): Linear(in_features=1024, out_features=10, bias=True)\n",
       "    )\n",
       "  )\n",
       ")"
      ]
     },
     "execution_count": 49,
     "metadata": {},
     "output_type": "execute_result"
    }
   ],
   "source": [
    "model.eval()"
   ]
  },
  {
   "cell_type": "code",
   "execution_count": 50,
   "id": "36e7292b",
   "metadata": {},
   "outputs": [],
   "source": [
    "X_test_tensor.shape\n",
    "X_test_tensor = X_test_tensor.unsqueeze(0)\n",
    "y_test_tensor = y_test_tensor.unsqueeze(0)"
   ]
  },
  {
   "cell_type": "code",
   "execution_count": 43,
   "id": "11f44fd1",
   "metadata": {},
   "outputs": [
    {
     "data": {
      "text/plain": [
       "torch.Size([1, 1, 1, 400, 12])"
      ]
     },
     "execution_count": 43,
     "metadata": {},
     "output_type": "execute_result"
    }
   ],
   "source": [
    "X_val_tensor = X_val_tensor.unsqueeze(0)\n",
    "y_val_tensor = y_val_tensor.unsqueeze(0)\n",
    "X_val_tensor.shape"
   ]
  },
  {
   "cell_type": "code",
   "execution_count": 52,
   "id": "d716f8e7",
   "metadata": {},
   "outputs": [],
   "source": [
    "from tabicl.sklearn.classifier import TabICLClassifier"
   ]
  },
  {
   "cell_type": "code",
   "execution_count": 56,
   "id": "b991726d",
   "metadata": {},
   "outputs": [],
   "source": [
    "from tabicl import TabICLClassifier"
   ]
  },
  {
   "cell_type": "code",
   "execution_count": 57,
   "id": "af4bd6d3",
   "metadata": {},
   "outputs": [],
   "source": [
    "clf = TabICLClassifier()"
   ]
  },
  {
   "cell_type": "code",
   "execution_count": 58,
   "id": "74fb6d6a",
   "metadata": {},
   "outputs": [],
   "source": [
    "clf.model_ = model"
   ]
  },
  {
   "cell_type": "code",
   "execution_count": 59,
   "id": "5302a17d",
   "metadata": {},
   "outputs": [
    {
     "ename": "AttributeError",
     "evalue": "'TabICLClassifier' object has no attribute 'X_encoder_'",
     "output_type": "error",
     "traceback": [
      "\u001b[0;31m---------------------------------------------------------------------------\u001b[0m",
      "\u001b[0;31mAttributeError\u001b[0m                            Traceback (most recent call last)",
      "Cell \u001b[0;32mIn[59], line 1\u001b[0m\n\u001b[0;32m----> 1\u001b[0m \u001b[43mclf\u001b[49m\u001b[38;5;241;43m.\u001b[39;49m\u001b[43mpredict\u001b[49m\u001b[43m(\u001b[49m\u001b[43mX_test_tensor\u001b[49m\u001b[43m)\u001b[49m\n",
      "File \u001b[0;32m~/fmproject/.venv/lib/python3.12/site-packages/tabicl/sklearn/classifier.py:604\u001b[0m, in \u001b[0;36mTabICLClassifier.predict\u001b[0;34m(self, X)\u001b[0m\n\u001b[1;32m    588\u001b[0m \u001b[38;5;28;01mdef\u001b[39;00m\u001b[38;5;250m \u001b[39m\u001b[38;5;21mpredict\u001b[39m(\u001b[38;5;28mself\u001b[39m, X):\n\u001b[1;32m    589\u001b[0m \u001b[38;5;250m    \u001b[39m\u001b[38;5;124;03m\"\"\"Predict class labels for test samples.\u001b[39;00m\n\u001b[1;32m    590\u001b[0m \n\u001b[1;32m    591\u001b[0m \u001b[38;5;124;03m    Uses predict_proba to get class probabilities and returns the class with\u001b[39;00m\n\u001b[0;32m   (...)\u001b[0m\n\u001b[1;32m    602\u001b[0m \u001b[38;5;124;03m        Predicted class labels for each test sample.\u001b[39;00m\n\u001b[1;32m    603\u001b[0m \u001b[38;5;124;03m    \"\"\"\u001b[39;00m\n\u001b[0;32m--> 604\u001b[0m     proba \u001b[38;5;241m=\u001b[39m \u001b[38;5;28;43mself\u001b[39;49m\u001b[38;5;241;43m.\u001b[39;49m\u001b[43mpredict_proba\u001b[49m\u001b[43m(\u001b[49m\u001b[43mX\u001b[49m\u001b[43m)\u001b[49m\n\u001b[1;32m    605\u001b[0m     y \u001b[38;5;241m=\u001b[39m np\u001b[38;5;241m.\u001b[39margmax(proba, axis\u001b[38;5;241m=\u001b[39m\u001b[38;5;241m1\u001b[39m)\n\u001b[1;32m    607\u001b[0m     \u001b[38;5;28;01mreturn\u001b[39;00m \u001b[38;5;28mself\u001b[39m\u001b[38;5;241m.\u001b[39my_encoder_\u001b[38;5;241m.\u001b[39minverse_transform(y)\n",
      "File \u001b[0;32m~/fmproject/.venv/lib/python3.12/site-packages/tabicl/sklearn/classifier.py:545\u001b[0m, in \u001b[0;36mTabICLClassifier.predict_proba\u001b[0;34m(self, X)\u001b[0m\n\u001b[1;32m    542\u001b[0m \u001b[38;5;28;01melse\u001b[39;00m:\n\u001b[1;32m    543\u001b[0m     X \u001b[38;5;241m=\u001b[39m \u001b[38;5;28mself\u001b[39m\u001b[38;5;241m.\u001b[39m_validate_data(X, reset\u001b[38;5;241m=\u001b[39m\u001b[38;5;28;01mFalse\u001b[39;00m, dtype\u001b[38;5;241m=\u001b[39m\u001b[38;5;28;01mNone\u001b[39;00m, skip_check_array\u001b[38;5;241m=\u001b[39m\u001b[38;5;28;01mTrue\u001b[39;00m)\n\u001b[0;32m--> 545\u001b[0m X \u001b[38;5;241m=\u001b[39m \u001b[38;5;28;43mself\u001b[39;49m\u001b[38;5;241;43m.\u001b[39;49m\u001b[43mX_encoder_\u001b[49m\u001b[38;5;241m.\u001b[39mtransform(X)\n\u001b[1;32m    547\u001b[0m data \u001b[38;5;241m=\u001b[39m \u001b[38;5;28mself\u001b[39m\u001b[38;5;241m.\u001b[39mensemble_generator_\u001b[38;5;241m.\u001b[39mtransform(X)\n\u001b[1;32m    548\u001b[0m outputs \u001b[38;5;241m=\u001b[39m []\n",
      "\u001b[0;31mAttributeError\u001b[0m: 'TabICLClassifier' object has no attribute 'X_encoder_'"
     ]
    }
   ],
   "source": [
    "clf.predict(X_test_tensor)"
   ]
  },
  {
   "cell_type": "code",
   "execution_count": 51,
   "id": "ec2ce996",
   "metadata": {},
   "outputs": [
    {
     "ename": "TypeError",
     "evalue": "TabICL.forward() missing 1 required positional argument: 'y_train'",
     "output_type": "error",
     "traceback": [
      "\u001b[0;31m---------------------------------------------------------------------------\u001b[0m",
      "\u001b[0;31mTypeError\u001b[0m                                 Traceback (most recent call last)",
      "Cell \u001b[0;32mIn[51], line 1\u001b[0m\n\u001b[0;32m----> 1\u001b[0m pred \u001b[38;5;241m=\u001b[39m \u001b[43mmodel\u001b[49m\u001b[43m(\u001b[49m\u001b[43mX_test_tensor\u001b[49m\u001b[43m)\u001b[49m\n",
      "File \u001b[0;32m~/fmproject/.venv/lib/python3.12/site-packages/torch/nn/modules/module.py:1736\u001b[0m, in \u001b[0;36mModule._wrapped_call_impl\u001b[0;34m(self, *args, **kwargs)\u001b[0m\n\u001b[1;32m   1734\u001b[0m     \u001b[38;5;28;01mreturn\u001b[39;00m \u001b[38;5;28mself\u001b[39m\u001b[38;5;241m.\u001b[39m_compiled_call_impl(\u001b[38;5;241m*\u001b[39margs, \u001b[38;5;241m*\u001b[39m\u001b[38;5;241m*\u001b[39mkwargs)  \u001b[38;5;66;03m# type: ignore[misc]\u001b[39;00m\n\u001b[1;32m   1735\u001b[0m \u001b[38;5;28;01melse\u001b[39;00m:\n\u001b[0;32m-> 1736\u001b[0m     \u001b[38;5;28;01mreturn\u001b[39;00m \u001b[38;5;28;43mself\u001b[39;49m\u001b[38;5;241;43m.\u001b[39;49m\u001b[43m_call_impl\u001b[49m\u001b[43m(\u001b[49m\u001b[38;5;241;43m*\u001b[39;49m\u001b[43margs\u001b[49m\u001b[43m,\u001b[49m\u001b[43m \u001b[49m\u001b[38;5;241;43m*\u001b[39;49m\u001b[38;5;241;43m*\u001b[39;49m\u001b[43mkwargs\u001b[49m\u001b[43m)\u001b[49m\n",
      "File \u001b[0;32m~/fmproject/.venv/lib/python3.12/site-packages/torch/nn/modules/module.py:1747\u001b[0m, in \u001b[0;36mModule._call_impl\u001b[0;34m(self, *args, **kwargs)\u001b[0m\n\u001b[1;32m   1742\u001b[0m \u001b[38;5;66;03m# If we don't have any hooks, we want to skip the rest of the logic in\u001b[39;00m\n\u001b[1;32m   1743\u001b[0m \u001b[38;5;66;03m# this function, and just call forward.\u001b[39;00m\n\u001b[1;32m   1744\u001b[0m \u001b[38;5;28;01mif\u001b[39;00m \u001b[38;5;129;01mnot\u001b[39;00m (\u001b[38;5;28mself\u001b[39m\u001b[38;5;241m.\u001b[39m_backward_hooks \u001b[38;5;129;01mor\u001b[39;00m \u001b[38;5;28mself\u001b[39m\u001b[38;5;241m.\u001b[39m_backward_pre_hooks \u001b[38;5;129;01mor\u001b[39;00m \u001b[38;5;28mself\u001b[39m\u001b[38;5;241m.\u001b[39m_forward_hooks \u001b[38;5;129;01mor\u001b[39;00m \u001b[38;5;28mself\u001b[39m\u001b[38;5;241m.\u001b[39m_forward_pre_hooks\n\u001b[1;32m   1745\u001b[0m         \u001b[38;5;129;01mor\u001b[39;00m _global_backward_pre_hooks \u001b[38;5;129;01mor\u001b[39;00m _global_backward_hooks\n\u001b[1;32m   1746\u001b[0m         \u001b[38;5;129;01mor\u001b[39;00m _global_forward_hooks \u001b[38;5;129;01mor\u001b[39;00m _global_forward_pre_hooks):\n\u001b[0;32m-> 1747\u001b[0m     \u001b[38;5;28;01mreturn\u001b[39;00m \u001b[43mforward_call\u001b[49m\u001b[43m(\u001b[49m\u001b[38;5;241;43m*\u001b[39;49m\u001b[43margs\u001b[49m\u001b[43m,\u001b[49m\u001b[43m \u001b[49m\u001b[38;5;241;43m*\u001b[39;49m\u001b[38;5;241;43m*\u001b[39;49m\u001b[43mkwargs\u001b[49m\u001b[43m)\u001b[49m\n\u001b[1;32m   1749\u001b[0m result \u001b[38;5;241m=\u001b[39m \u001b[38;5;28;01mNone\u001b[39;00m\n\u001b[1;32m   1750\u001b[0m called_always_called_hooks \u001b[38;5;241m=\u001b[39m \u001b[38;5;28mset\u001b[39m()\n",
      "\u001b[0;31mTypeError\u001b[0m: TabICL.forward() missing 1 required positional argument: 'y_train'"
     ]
    }
   ],
   "source": [
    "pred = model(X_test_tensor)"
   ]
  },
  {
   "cell_type": "code",
   "execution_count": null,
   "id": "fd97eded",
   "metadata": {},
   "outputs": [],
   "source": [
    "model()"
   ]
  },
  {
   "cell_type": "code",
   "execution_count": 24,
   "id": "9c756396",
   "metadata": {},
   "outputs": [
    {
     "name": "stdout",
     "output_type": "stream",
     "text": [
      "{'ce': 0.010134246200323105, 'accuracy': 0.009999999776482582}\n"
     ]
    }
   ],
   "source": [
    "print(results)"
   ]
  },
  {
   "cell_type": "code",
   "execution_count": 15,
   "id": "2864126b",
   "metadata": {},
   "outputs": [
    {
     "name": "stdout",
     "output_type": "stream",
     "text": [
      "torch.Size([400, 12])\n",
      "torch.Size([400])\n"
     ]
    },
    {
     "name": "stderr",
     "output_type": "stream",
     "text": [
      "Step:   0%|          | 0/60000 [00:00<?, ?it/s]"
     ]
    },
    {
     "name": "stdout",
     "output_type": "stream",
     "text": [
      "Micro_y shape :  torch.Size([8])\n",
      "seq_len:  400\n"
     ]
    },
    {
     "name": "stderr",
     "output_type": "stream",
     "text": [
      "\n"
     ]
    },
    {
     "ename": "IndexError",
     "evalue": "too many indices for tensor of dimension 1",
     "output_type": "error",
     "traceback": [
      "\u001b[0;31m---------------------------------------------------------------------------\u001b[0m",
      "\u001b[0;31mIndexError\u001b[0m                                Traceback (most recent call last)",
      "Cell \u001b[0;32mIn[15], line 27\u001b[0m\n\u001b[1;32m     25\u001b[0m \u001b[38;5;66;03m# Assign to trainer and call train()\u001b[39;00m\n\u001b[1;32m     26\u001b[0m trainer\u001b[38;5;241m.\u001b[39mdataloader \u001b[38;5;241m=\u001b[39m train_loader\n\u001b[0;32m---> 27\u001b[0m \u001b[43mtrainer\u001b[49m\u001b[38;5;241;43m.\u001b[39;49m\u001b[43mtrain\u001b[49m\u001b[43m(\u001b[49m\u001b[43m)\u001b[49m\n",
      "File \u001b[0;32m~/fmproject/.venv/lib/python3.12/site-packages/tabicl/train/run.py:57\u001b[0m, in \u001b[0;36mddp_cleanup.<locals>.wrapper\u001b[0;34m(self, *args, **kwargs)\u001b[0m\n\u001b[1;32m     54\u001b[0m \u001b[38;5;129m@functools\u001b[39m\u001b[38;5;241m.\u001b[39mwraps(func)\n\u001b[1;32m     55\u001b[0m \u001b[38;5;28;01mdef\u001b[39;00m\u001b[38;5;250m \u001b[39m\u001b[38;5;21mwrapper\u001b[39m(\u001b[38;5;28mself\u001b[39m, \u001b[38;5;241m*\u001b[39margs, \u001b[38;5;241m*\u001b[39m\u001b[38;5;241m*\u001b[39mkwargs):\n\u001b[1;32m     56\u001b[0m     \u001b[38;5;28;01mtry\u001b[39;00m:\n\u001b[0;32m---> 57\u001b[0m         \u001b[38;5;28;01mreturn\u001b[39;00m \u001b[43mfunc\u001b[49m\u001b[43m(\u001b[49m\u001b[38;5;28;43mself\u001b[39;49m\u001b[43m,\u001b[49m\u001b[43m \u001b[49m\u001b[38;5;241;43m*\u001b[39;49m\u001b[43margs\u001b[49m\u001b[43m,\u001b[49m\u001b[43m \u001b[49m\u001b[38;5;241;43m*\u001b[39;49m\u001b[38;5;241;43m*\u001b[39;49m\u001b[43mkwargs\u001b[49m\u001b[43m)\u001b[49m\n\u001b[1;32m     58\u001b[0m     \u001b[38;5;28;01mfinally\u001b[39;00m:\n\u001b[1;32m     59\u001b[0m         \u001b[38;5;28;01mif\u001b[39;00m \u001b[38;5;28mself\u001b[39m\u001b[38;5;241m.\u001b[39mddp:\n",
      "File \u001b[0;32m~/fmproject/.venv/lib/python3.12/site-packages/tabicl/train/run.py:434\u001b[0m, in \u001b[0;36mTrainer.train\u001b[0;34m(self)\u001b[0m\n\u001b[1;32m    432\u001b[0m \u001b[38;5;66;03m# Train the model on the batch\u001b[39;00m\n\u001b[1;32m    433\u001b[0m \u001b[38;5;28;01mwith\u001b[39;00m Timer() \u001b[38;5;28;01mas\u001b[39;00m train_timer:\n\u001b[0;32m--> 434\u001b[0m     results \u001b[38;5;241m=\u001b[39m \u001b[38;5;28;43mself\u001b[39;49m\u001b[38;5;241;43m.\u001b[39;49m\u001b[43mrun_batch\u001b[49m\u001b[43m(\u001b[49m\u001b[43mbatch\u001b[49m\u001b[43m)\u001b[49m\n\u001b[1;32m    435\u001b[0m train_time \u001b[38;5;241m=\u001b[39m train_timer\u001b[38;5;241m.\u001b[39melapsed\n\u001b[1;32m    437\u001b[0m \u001b[38;5;66;03m# Clear CUDA cache to free memory\u001b[39;00m\n",
      "File \u001b[0;32m~/fmproject/.venv/lib/python3.12/site-packages/tabicl/train/run.py:641\u001b[0m, in \u001b[0;36mTrainer.run_batch\u001b[0;34m(self, batch)\u001b[0m\n\u001b[1;32m    639\u001b[0m \u001b[38;5;28;01mfor\u001b[39;00m idx, micro_batch \u001b[38;5;129;01min\u001b[39;00m \u001b[38;5;28menumerate\u001b[39m(micro_batches):\n\u001b[1;32m    640\u001b[0m     \u001b[38;5;28;01mtry\u001b[39;00m:\n\u001b[0;32m--> 641\u001b[0m         micro_results \u001b[38;5;241m=\u001b[39m \u001b[38;5;28;43mself\u001b[39;49m\u001b[38;5;241;43m.\u001b[39;49m\u001b[43mrun_micro_batch\u001b[49m\u001b[43m(\u001b[49m\u001b[43mmicro_batch\u001b[49m\u001b[43m,\u001b[49m\u001b[43m \u001b[49m\u001b[43midx\u001b[49m\u001b[43m,\u001b[49m\u001b[43m \u001b[49m\u001b[43mnum_micro_batches\u001b[49m\u001b[43m)\u001b[49m\n\u001b[1;32m    642\u001b[0m         \u001b[38;5;28;01mfor\u001b[39;00m k, v \u001b[38;5;129;01min\u001b[39;00m micro_results\u001b[38;5;241m.\u001b[39mitems():\n\u001b[1;32m    643\u001b[0m             results[k] \u001b[38;5;241m+\u001b[39m\u001b[38;5;241m=\u001b[39m v\n",
      "File \u001b[0;32m~/fmproject/.venv/lib/python3.12/site-packages/tabicl/train/run.py:575\u001b[0m, in \u001b[0;36mTrainer.run_micro_batch\u001b[0;34m(self, micro_batch, micro_batch_idx, num_micro_batches)\u001b[0m\n\u001b[1;32m    572\u001b[0m micro_y \u001b[38;5;241m=\u001b[39m micro_y\u001b[38;5;241m.\u001b[39mto(\u001b[38;5;28mself\u001b[39m\u001b[38;5;241m.\u001b[39mconfig\u001b[38;5;241m.\u001b[39mdevice)\n\u001b[1;32m    573\u001b[0m micro_d \u001b[38;5;241m=\u001b[39m micro_d\u001b[38;5;241m.\u001b[39mto(\u001b[38;5;28mself\u001b[39m\u001b[38;5;241m.\u001b[39mconfig\u001b[38;5;241m.\u001b[39mdevice)\n\u001b[0;32m--> 575\u001b[0m y_train \u001b[38;5;241m=\u001b[39m \u001b[43mmicro_y\u001b[49m\u001b[43m[\u001b[49m\u001b[43m:\u001b[49m\u001b[43m,\u001b[49m\u001b[43m \u001b[49m\u001b[43m:\u001b[49m\u001b[43mtrain_size\u001b[49m\u001b[43m]\u001b[49m\n\u001b[1;32m    576\u001b[0m y_test \u001b[38;5;241m=\u001b[39m micro_y[:, train_size:]\n\u001b[1;32m    578\u001b[0m \u001b[38;5;66;03m# Set DDP gradient sync for last micro batch only\u001b[39;00m\n",
      "\u001b[0;31mIndexError\u001b[0m: too many indices for tensor of dimension 1"
     ]
    }
   ],
   "source": [
    "X_train_tensor = torch.tensor(X_train, dtype=torch.float32)\n",
    "y_train_tensor = torch.tensor(y_train, dtype=torch.long)\n",
    "batch_size = 64\n",
    "\n",
    "T, H = X_train_tensor.shape\n",
    "d = torch.full((len(X_train_tensor),), H, dtype=torch.long)\n",
    "seq_len_tensor = torch.full((len(X_train_tensor),), T, dtype=torch.long)\n",
    "train_size_tensor = torch.full(\n",
    "    (len(X_train_tensor),), 300, dtype=torch.long\n",
    ")  # fixed here\n",
    "\n",
    "print(X_train_tensor.shape)\n",
    "print(y_train_tensor.shape)\n",
    "\n",
    "# Create dataset\n",
    "train_dataset = torch.utils.data.TensorDataset(\n",
    "    X_train_tensor, y_train_tensor, d, seq_len_tensor, train_size_tensor\n",
    ")\n",
    "\n",
    "# Create DataLoader\n",
    "train_loader = torch.utils.data.DataLoader(\n",
    "    train_dataset, batch_size=batch_size, shuffle=True\n",
    ")\n",
    "\n",
    "# Assign to trainer and call train()\n",
    "trainer.dataloader = train_loader\n",
    "trainer.train()"
   ]
  },
  {
   "cell_type": "code",
   "execution_count": 22,
   "id": "e4ca18f6",
   "metadata": {},
   "outputs": [
    {
     "data": {
      "text/plain": [
       "torch.Size([1, 450, 158])"
      ]
     },
     "execution_count": 22,
     "metadata": {},
     "output_type": "execute_result"
    }
   ],
   "source": [
    "X_trainval_tensor.shape"
   ]
  },
  {
   "cell_type": "code",
   "execution_count": 14,
   "id": "48e6009a",
   "metadata": {},
   "outputs": [],
   "source": [
    "X_trainval_tensor = X_trainval_tensor.to(device)"
   ]
  },
  {
   "cell_type": "code",
   "execution_count": 15,
   "id": "a8133036",
   "metadata": {},
   "outputs": [],
   "source": [
    "y_val_tensor = y_val_tensor.to(device)"
   ]
  },
  {
   "cell_type": "code",
   "execution_count": 30,
   "id": "03b58087",
   "metadata": {},
   "outputs": [
    {
     "data": {
      "text/plain": [
       "torch.Size([50])"
      ]
     },
     "execution_count": 30,
     "metadata": {},
     "output_type": "execute_result"
    }
   ],
   "source": [
    "y_val_tensor.shape"
   ]
  },
  {
   "cell_type": "code",
   "execution_count": 19,
   "id": "87193ade",
   "metadata": {},
   "outputs": [
    {
     "data": {
      "text/plain": [
       "torch.Size([400, 158])"
      ]
     },
     "execution_count": 19,
     "metadata": {},
     "output_type": "execute_result"
    }
   ],
   "source": [
    "X_train_tensor.shape"
   ]
  },
  {
   "cell_type": "code",
   "execution_count": 13,
   "id": "e1414d52",
   "metadata": {},
   "outputs": [],
   "source": [
    "X_train_tensor = X_train_tensor.unsqueeze(0)"
   ]
  },
  {
   "cell_type": "code",
   "execution_count": 27,
   "id": "78ddbb65",
   "metadata": {},
   "outputs": [
    {
     "data": {
      "text/plain": [
       "torch.Size([1, 400, 158])"
      ]
     },
     "execution_count": 27,
     "metadata": {},
     "output_type": "execute_result"
    }
   ],
   "source": [
    "X_train_tensor.shape"
   ]
  },
  {
   "cell_type": "code",
   "execution_count": 14,
   "id": "5fbe0f62",
   "metadata": {},
   "outputs": [],
   "source": [
    "y_train_tensor.shape\n",
    "y_train_tensor = y_train_tensor.unsqueeze(0)"
   ]
  },
  {
   "cell_type": "code",
   "execution_count": null,
   "id": "c3d6b973",
   "metadata": {},
   "outputs": [],
   "source": []
  },
  {
   "cell_type": "code",
   "execution_count": 29,
   "id": "2af2c087",
   "metadata": {},
   "outputs": [
    {
     "data": {
      "text/plain": [
       "torch.Size([1, 400])"
      ]
     },
     "execution_count": 29,
     "metadata": {},
     "output_type": "execute_result"
    }
   ],
   "source": [
    "y_train_tensor.shape"
   ]
  },
  {
   "cell_type": "code",
   "execution_count": 15,
   "id": "24ef2b48",
   "metadata": {},
   "outputs": [],
   "source": [
    "X_train_tensor = X_train_tensor.to(device)"
   ]
  },
  {
   "cell_type": "code",
   "execution_count": 32,
   "id": "ec86d88f",
   "metadata": {},
   "outputs": [],
   "source": [
    "y_train_tensor = y_train_tensor.to(device)"
   ]
  },
  {
   "cell_type": "code",
   "execution_count": null,
   "id": "758e3020",
   "metadata": {},
   "outputs": [],
   "source": [
    "def train_last_layer(\n",
    "    model, train_dataloader, device, learning_rate=5e-5, epochs=30, batch_size=16\n",
    "):\n",
    "    model.to(device)\n",
    "    optimizer = torch.optim.Adam(model.parameters(), lr=learning_rate)\n",
    "    criterion = torch.nn.CrossEntropyLoss()\n",
    "\n",
    "    for epoch in range(epochs):\n",
    "        model.train()\n",
    "        total_loss, correct = 0, 0\n",
    "\n",
    "        for data, label in train_dataloader:\n",
    "            optimizer.zero_grad()\n",
    "            outputs = model(data, label)  # model's forward\n",
    "\n",
    "            loss = criterion(outputs.squeeze(0), label.squeeze(0))\n",
    "            loss.backward()\n",
    "            optimizer.step()\n",
    "\n",
    "            total_loss += loss.item()\n",
    "            correct += (outputs.argmax(dim=-1) == batch_labels).sum().item()\n",
    "\n",
    "        print(\n",
    "            f\"Epoch {epoch + 1} | Loss: {total_loss:.4f} | Acc: {correct / n_samples:.4f}\"\n",
    "        )\n"
   ]
  },
  {
   "cell_type": "code",
   "execution_count": 26,
   "id": "140bc42c",
   "metadata": {},
   "outputs": [
    {
     "name": "stdout",
     "output_type": "stream",
     "text": [
      "Data shape :  torch.Size([1, 450, 158])\n"
     ]
    },
    {
     "ename": "RuntimeError",
     "evalue": "CUDA error: device-side assert triggered\nCUDA kernel errors might be asynchronously reported at some other API call, so the stacktrace below might be incorrect.\nFor debugging consider passing CUDA_LAUNCH_BLOCKING=1\nCompile with `TORCH_USE_CUDA_DSA` to enable device-side assertions.\n",
     "output_type": "error",
     "traceback": [
      "\u001b[0;31m---------------------------------------------------------------------------\u001b[0m",
      "\u001b[0;31mRuntimeError\u001b[0m                              Traceback (most recent call last)",
      "Cell \u001b[0;32mIn[26], line 1\u001b[0m\n\u001b[0;32m----> 1\u001b[0m train_losses, train_accuracies \u001b[38;5;241m=\u001b[39m \u001b[43mtrain_last_layer\u001b[49m\u001b[43m(\u001b[49m\n\u001b[1;32m      2\u001b[0m \u001b[43m    \u001b[49m\u001b[43mmodel\u001b[49m\u001b[38;5;241;43m=\u001b[39;49m\u001b[43mmodel\u001b[49m\u001b[43m,\u001b[49m\n\u001b[1;32m      3\u001b[0m \u001b[43m    \u001b[49m\u001b[43mdata\u001b[49m\u001b[38;5;241;43m=\u001b[39;49m\u001b[43mX_trainval_tensor\u001b[49m\u001b[43m,\u001b[49m\n\u001b[1;32m      4\u001b[0m \u001b[43m    \u001b[49m\u001b[43mlabels\u001b[49m\u001b[38;5;241;43m=\u001b[39;49m\u001b[43my_train_tensor\u001b[49m\u001b[43m,\u001b[49m\n\u001b[1;32m      5\u001b[0m \u001b[43m    \u001b[49m\u001b[43mdevice\u001b[49m\u001b[38;5;241;43m=\u001b[39;49m\u001b[43mdevice\u001b[49m\u001b[43m,\u001b[49m\n\u001b[1;32m      6\u001b[0m \u001b[43m    \u001b[49m\u001b[43mlearning_rate\u001b[49m\u001b[38;5;241;43m=\u001b[39;49m\u001b[38;5;241;43m5e-5\u001b[39;49m\u001b[43m,\u001b[49m\n\u001b[1;32m      7\u001b[0m \u001b[43m    \u001b[49m\u001b[43mepochs\u001b[49m\u001b[38;5;241;43m=\u001b[39;49m\u001b[38;5;241;43m30\u001b[39;49m\u001b[43m,\u001b[49m\n\u001b[1;32m      8\u001b[0m \u001b[43m)\u001b[49m\n",
      "Cell \u001b[0;32mIn[25], line 24\u001b[0m, in \u001b[0;36mtrain_last_layer\u001b[0;34m(model, data, labels, device, learning_rate, epochs, batch_size)\u001b[0m\n\u001b[1;32m     21\u001b[0m batch_idx \u001b[38;5;241m=\u001b[39m indices[i:i\u001b[38;5;241m+\u001b[39mbatch_size]\n\u001b[1;32m     23\u001b[0m \u001b[38;5;66;03m# Keep B dimension fixed, slice T dimension\u001b[39;00m\n\u001b[0;32m---> 24\u001b[0m batch_data \u001b[38;5;241m=\u001b[39m \u001b[43mdata\u001b[49m\u001b[43m[\u001b[49m\u001b[43m:\u001b[49m\u001b[43m,\u001b[49m\u001b[43m \u001b[49m\u001b[43mbatch_idx\u001b[49m\u001b[43m,\u001b[49m\u001b[43m \u001b[49m\u001b[43m:\u001b[49m\u001b[43m]\u001b[49m   \u001b[38;5;66;03m# shape (B, batch_size, H)\u001b[39;00m\n\u001b[1;32m     25\u001b[0m batch_labels \u001b[38;5;241m=\u001b[39m labels[:, batch_idx]  \u001b[38;5;66;03m# shape (B, batch_size)\u001b[39;00m\n\u001b[1;32m     27\u001b[0m optimizer\u001b[38;5;241m.\u001b[39mzero_grad()\n",
      "\u001b[0;31mRuntimeError\u001b[0m: CUDA error: device-side assert triggered\nCUDA kernel errors might be asynchronously reported at some other API call, so the stacktrace below might be incorrect.\nFor debugging consider passing CUDA_LAUNCH_BLOCKING=1\nCompile with `TORCH_USE_CUDA_DSA` to enable device-side assertions.\n"
     ]
    }
   ],
   "source": [
    "train_losses, train_accuracies = train_last_layer(\n",
    "    model=model,\n",
    "    data=X_trainval_tensor,\n",
    "    labels=y_train_tensor,\n",
    "    device=device,\n",
    "    learning_rate=5e-5,\n",
    "    epochs=30,\n",
    ")"
   ]
  },
  {
   "cell_type": "code",
   "execution_count": 4,
   "id": "a445c211",
   "metadata": {},
   "outputs": [],
   "source": [
    "clf = TabICLClassifier()"
   ]
  },
  {
   "cell_type": "code",
   "execution_count": null,
   "id": "ea1e77d8",
   "metadata": {},
   "outputs": [],
   "source": [
    "clf = TabICLClassifier(\n",
    "    n_estimators=32,  # number of ensemble members\n",
    "    norm_methods=[\"none\", \"power\"],  # normalization methods to try\n",
    "    feat_shuffle_method=\"latin\",  # feature permutation strategy\n",
    "    class_shift=True,  # whether to apply cyclic shifts to class labels\n",
    "    outlier_threshold=4.0,  # z-score threshold for outlier detection and clipping\n",
    "    softmax_temperature=0.9,  # controls prediction confidence\n",
    "    average_logits=True,  # whether ensemble averaging is done on logits or probabilities\n",
    "    use_hierarchical=True,  # enable hierarchical classification for datasets with many classe\n",
    "    batch_size=8,  # process this many ensemble members together (reduce RAM usage)\n",
    "    use_amp=True,  # use automatic mixed precision for faster inference\n",
    "    model_path=None,  # where the model checkpoint is stored\n",
    "    allow_auto_download=True,  # whether automatic download to the specified path is allowed\n",
    "    checkpoint_version=\"tabicl-classifier-v1.1-0506.ckpt\",  # the version of pretrained checkpoint to use\n",
    "    device=None,  # specify device for inference\n",
    "    random_state=42,  # random seed for reproducibility\n",
    "    n_jobs=None,  # number of threads to use for PyTorch\n",
    "    verbose=False,  # print detailed information during inference\n",
    "    inference_config=None,  # inference configuration for fine-grained control\n",
    ")"
   ]
  },
  {
   "cell_type": "code",
   "execution_count": 13,
   "id": "3c69830e",
   "metadata": {},
   "outputs": [
    {
     "name": "stdout",
     "output_type": "stream",
     "text": [
      "INFO: You are downloading 'tabicl-classifier-v1.1-0506.ckpt', the latest best-performing version of TabICL.\n",
      "To reproduce results from the original paper, please use 'tabicl-classifier-v1-0208.ckpt'.\n",
      "\n",
      "Checkpoint 'tabicl-classifier-v1.1-0506.ckpt' not cached.\n",
      " Downloading from Hugging Face Hub (jingang/TabICL-clf).\n",
      "\n"
     ]
    },
    {
     "ename": "LocalEntryNotFoundError",
     "evalue": "An error happened while trying to locate the file on the Hub and we cannot find the requested files in the local cache. Please check your connection and try again or make sure your Internet connection is on.",
     "output_type": "error",
     "traceback": [
      "\u001b[0;31m---------------------------------------------------------------------------\u001b[0m",
      "\u001b[0;31mLocalEntryNotFoundError\u001b[0m                   Traceback (most recent call last)",
      "File \u001b[0;32m~/fmproject/.venv/lib/python3.12/site-packages/tabicl/sklearn/classifier.py:283\u001b[0m, in \u001b[0;36mTabICLClassifier._load_model\u001b[0;34m(self)\u001b[0m\n\u001b[1;32m    282\u001b[0m \u001b[38;5;28;01mtry\u001b[39;00m:\n\u001b[0;32m--> 283\u001b[0m     model_path_ \u001b[38;5;241m=\u001b[39m Path(\u001b[43mhf_hub_download\u001b[49m\u001b[43m(\u001b[49m\u001b[43mrepo_id\u001b[49m\u001b[38;5;241;43m=\u001b[39;49m\u001b[43mrepo_id\u001b[49m\u001b[43m,\u001b[49m\u001b[43m \u001b[49m\u001b[43mfilename\u001b[49m\u001b[38;5;241;43m=\u001b[39;49m\u001b[43mfilename\u001b[49m\u001b[43m,\u001b[49m\u001b[43m \u001b[49m\u001b[43mlocal_files_only\u001b[49m\u001b[38;5;241;43m=\u001b[39;49m\u001b[38;5;28;43;01mTrue\u001b[39;49;00m\u001b[43m)\u001b[49m)\n\u001b[1;32m    284\u001b[0m \u001b[38;5;28;01mexcept\u001b[39;00m LocalEntryNotFoundError:\n",
      "File \u001b[0;32m~/fmproject/.venv/lib/python3.12/site-packages/huggingface_hub/utils/_validators.py:114\u001b[0m, in \u001b[0;36mvalidate_hf_hub_args.<locals>._inner_fn\u001b[0;34m(*args, **kwargs)\u001b[0m\n\u001b[1;32m    112\u001b[0m     kwargs \u001b[38;5;241m=\u001b[39m smoothly_deprecate_use_auth_token(fn_name\u001b[38;5;241m=\u001b[39mfn\u001b[38;5;241m.\u001b[39m\u001b[38;5;18m__name__\u001b[39m, has_token\u001b[38;5;241m=\u001b[39mhas_token, kwargs\u001b[38;5;241m=\u001b[39mkwargs)\n\u001b[0;32m--> 114\u001b[0m \u001b[38;5;28;01mreturn\u001b[39;00m \u001b[43mfn\u001b[49m\u001b[43m(\u001b[49m\u001b[38;5;241;43m*\u001b[39;49m\u001b[43margs\u001b[49m\u001b[43m,\u001b[49m\u001b[43m \u001b[49m\u001b[38;5;241;43m*\u001b[39;49m\u001b[38;5;241;43m*\u001b[39;49m\u001b[43mkwargs\u001b[49m\u001b[43m)\u001b[49m\n",
      "File \u001b[0;32m~/fmproject/.venv/lib/python3.12/site-packages/huggingface_hub/file_download.py:1010\u001b[0m, in \u001b[0;36mhf_hub_download\u001b[0;34m(repo_id, filename, subfolder, repo_type, revision, library_name, library_version, cache_dir, local_dir, user_agent, force_download, proxies, etag_timeout, token, local_files_only, headers, endpoint, resume_download, force_filename, local_dir_use_symlinks)\u001b[0m\n\u001b[1;32m   1009\u001b[0m \u001b[38;5;28;01melse\u001b[39;00m:\n\u001b[0;32m-> 1010\u001b[0m     \u001b[38;5;28;01mreturn\u001b[39;00m \u001b[43m_hf_hub_download_to_cache_dir\u001b[49m\u001b[43m(\u001b[49m\n\u001b[1;32m   1011\u001b[0m \u001b[43m        \u001b[49m\u001b[38;5;66;43;03m# Destination\u001b[39;49;00m\n\u001b[1;32m   1012\u001b[0m \u001b[43m        \u001b[49m\u001b[43mcache_dir\u001b[49m\u001b[38;5;241;43m=\u001b[39;49m\u001b[43mcache_dir\u001b[49m\u001b[43m,\u001b[49m\n\u001b[1;32m   1013\u001b[0m \u001b[43m        \u001b[49m\u001b[38;5;66;43;03m# File info\u001b[39;49;00m\n\u001b[1;32m   1014\u001b[0m \u001b[43m        \u001b[49m\u001b[43mrepo_id\u001b[49m\u001b[38;5;241;43m=\u001b[39;49m\u001b[43mrepo_id\u001b[49m\u001b[43m,\u001b[49m\n\u001b[1;32m   1015\u001b[0m \u001b[43m        \u001b[49m\u001b[43mfilename\u001b[49m\u001b[38;5;241;43m=\u001b[39;49m\u001b[43mfilename\u001b[49m\u001b[43m,\u001b[49m\n\u001b[1;32m   1016\u001b[0m \u001b[43m        \u001b[49m\u001b[43mrepo_type\u001b[49m\u001b[38;5;241;43m=\u001b[39;49m\u001b[43mrepo_type\u001b[49m\u001b[43m,\u001b[49m\n\u001b[1;32m   1017\u001b[0m \u001b[43m        \u001b[49m\u001b[43mrevision\u001b[49m\u001b[38;5;241;43m=\u001b[39;49m\u001b[43mrevision\u001b[49m\u001b[43m,\u001b[49m\n\u001b[1;32m   1018\u001b[0m \u001b[43m        \u001b[49m\u001b[38;5;66;43;03m# HTTP info\u001b[39;49;00m\n\u001b[1;32m   1019\u001b[0m \u001b[43m        \u001b[49m\u001b[43mendpoint\u001b[49m\u001b[38;5;241;43m=\u001b[39;49m\u001b[43mendpoint\u001b[49m\u001b[43m,\u001b[49m\n\u001b[1;32m   1020\u001b[0m \u001b[43m        \u001b[49m\u001b[43metag_timeout\u001b[49m\u001b[38;5;241;43m=\u001b[39;49m\u001b[43metag_timeout\u001b[49m\u001b[43m,\u001b[49m\n\u001b[1;32m   1021\u001b[0m \u001b[43m        \u001b[49m\u001b[43mheaders\u001b[49m\u001b[38;5;241;43m=\u001b[39;49m\u001b[43mhf_headers\u001b[49m\u001b[43m,\u001b[49m\n\u001b[1;32m   1022\u001b[0m \u001b[43m        \u001b[49m\u001b[43mproxies\u001b[49m\u001b[38;5;241;43m=\u001b[39;49m\u001b[43mproxies\u001b[49m\u001b[43m,\u001b[49m\n\u001b[1;32m   1023\u001b[0m \u001b[43m        \u001b[49m\u001b[43mtoken\u001b[49m\u001b[38;5;241;43m=\u001b[39;49m\u001b[43mtoken\u001b[49m\u001b[43m,\u001b[49m\n\u001b[1;32m   1024\u001b[0m \u001b[43m        \u001b[49m\u001b[38;5;66;43;03m# Additional options\u001b[39;49;00m\n\u001b[1;32m   1025\u001b[0m \u001b[43m        \u001b[49m\u001b[43mlocal_files_only\u001b[49m\u001b[38;5;241;43m=\u001b[39;49m\u001b[43mlocal_files_only\u001b[49m\u001b[43m,\u001b[49m\n\u001b[1;32m   1026\u001b[0m \u001b[43m        \u001b[49m\u001b[43mforce_download\u001b[49m\u001b[38;5;241;43m=\u001b[39;49m\u001b[43mforce_download\u001b[49m\u001b[43m,\u001b[49m\n\u001b[1;32m   1027\u001b[0m \u001b[43m    \u001b[49m\u001b[43m)\u001b[49m\n",
      "File \u001b[0;32m~/fmproject/.venv/lib/python3.12/site-packages/huggingface_hub/file_download.py:1117\u001b[0m, in \u001b[0;36m_hf_hub_download_to_cache_dir\u001b[0;34m(cache_dir, repo_id, filename, repo_type, revision, endpoint, etag_timeout, headers, proxies, token, local_files_only, force_download)\u001b[0m\n\u001b[1;32m   1116\u001b[0m     \u001b[38;5;66;03m# Otherwise, raise appropriate error\u001b[39;00m\n\u001b[0;32m-> 1117\u001b[0m     \u001b[43m_raise_on_head_call_error\u001b[49m\u001b[43m(\u001b[49m\u001b[43mhead_call_error\u001b[49m\u001b[43m,\u001b[49m\u001b[43m \u001b[49m\u001b[43mforce_download\u001b[49m\u001b[43m,\u001b[49m\u001b[43m \u001b[49m\u001b[43mlocal_files_only\u001b[49m\u001b[43m)\u001b[49m\n\u001b[1;32m   1119\u001b[0m \u001b[38;5;66;03m# From now on, etag, commit_hash, url and size are not None.\u001b[39;00m\n",
      "File \u001b[0;32m~/fmproject/.venv/lib/python3.12/site-packages/huggingface_hub/file_download.py:1649\u001b[0m, in \u001b[0;36m_raise_on_head_call_error\u001b[0;34m(head_call_error, force_download, local_files_only)\u001b[0m\n\u001b[1;32m   1648\u001b[0m \u001b[38;5;28;01mif\u001b[39;00m local_files_only:\n\u001b[0;32m-> 1649\u001b[0m     \u001b[38;5;28;01mraise\u001b[39;00m LocalEntryNotFoundError(\n\u001b[1;32m   1650\u001b[0m         \u001b[38;5;124m\"\u001b[39m\u001b[38;5;124mCannot find the requested files in the disk cache and outgoing traffic has been disabled. To enable\u001b[39m\u001b[38;5;124m\"\u001b[39m\n\u001b[1;32m   1651\u001b[0m         \u001b[38;5;124m\"\u001b[39m\u001b[38;5;124m hf.co look-ups and downloads online, set \u001b[39m\u001b[38;5;124m'\u001b[39m\u001b[38;5;124mlocal_files_only\u001b[39m\u001b[38;5;124m'\u001b[39m\u001b[38;5;124m to False.\u001b[39m\u001b[38;5;124m\"\u001b[39m\n\u001b[1;32m   1652\u001b[0m     )\n\u001b[1;32m   1653\u001b[0m \u001b[38;5;28;01melif\u001b[39;00m \u001b[38;5;28misinstance\u001b[39m(head_call_error, (RepositoryNotFoundError, GatedRepoError)) \u001b[38;5;129;01mor\u001b[39;00m (\n\u001b[1;32m   1654\u001b[0m     \u001b[38;5;28misinstance\u001b[39m(head_call_error, HfHubHTTPError) \u001b[38;5;129;01mand\u001b[39;00m head_call_error\u001b[38;5;241m.\u001b[39mresponse\u001b[38;5;241m.\u001b[39mstatus_code \u001b[38;5;241m==\u001b[39m \u001b[38;5;241m401\u001b[39m\n\u001b[1;32m   1655\u001b[0m ):\n\u001b[1;32m   1656\u001b[0m     \u001b[38;5;66;03m# Repo not found or gated => let's raise the actual error\u001b[39;00m\n\u001b[1;32m   1657\u001b[0m     \u001b[38;5;66;03m# Unauthorized => likely a token issue => let's raise the actual error\u001b[39;00m\n",
      "\u001b[0;31mLocalEntryNotFoundError\u001b[0m: Cannot find the requested files in the disk cache and outgoing traffic has been disabled. To enable hf.co look-ups and downloads online, set 'local_files_only' to False.",
      "\nDuring handling of the above exception, another exception occurred:\n",
      "\u001b[0;31mTimeoutError\u001b[0m                              Traceback (most recent call last)",
      "File \u001b[0;32m~/fmproject/.venv/lib/python3.12/site-packages/urllib3/connection.py:198\u001b[0m, in \u001b[0;36mHTTPConnection._new_conn\u001b[0;34m(self)\u001b[0m\n\u001b[1;32m    197\u001b[0m \u001b[38;5;28;01mtry\u001b[39;00m:\n\u001b[0;32m--> 198\u001b[0m     sock \u001b[38;5;241m=\u001b[39m \u001b[43mconnection\u001b[49m\u001b[38;5;241;43m.\u001b[39;49m\u001b[43mcreate_connection\u001b[49m\u001b[43m(\u001b[49m\n\u001b[1;32m    199\u001b[0m \u001b[43m        \u001b[49m\u001b[43m(\u001b[49m\u001b[38;5;28;43mself\u001b[39;49m\u001b[38;5;241;43m.\u001b[39;49m\u001b[43m_dns_host\u001b[49m\u001b[43m,\u001b[49m\u001b[43m \u001b[49m\u001b[38;5;28;43mself\u001b[39;49m\u001b[38;5;241;43m.\u001b[39;49m\u001b[43mport\u001b[49m\u001b[43m)\u001b[49m\u001b[43m,\u001b[49m\n\u001b[1;32m    200\u001b[0m \u001b[43m        \u001b[49m\u001b[38;5;28;43mself\u001b[39;49m\u001b[38;5;241;43m.\u001b[39;49m\u001b[43mtimeout\u001b[49m\u001b[43m,\u001b[49m\n\u001b[1;32m    201\u001b[0m \u001b[43m        \u001b[49m\u001b[43msource_address\u001b[49m\u001b[38;5;241;43m=\u001b[39;49m\u001b[38;5;28;43mself\u001b[39;49m\u001b[38;5;241;43m.\u001b[39;49m\u001b[43msource_address\u001b[49m\u001b[43m,\u001b[49m\n\u001b[1;32m    202\u001b[0m \u001b[43m        \u001b[49m\u001b[43msocket_options\u001b[49m\u001b[38;5;241;43m=\u001b[39;49m\u001b[38;5;28;43mself\u001b[39;49m\u001b[38;5;241;43m.\u001b[39;49m\u001b[43msocket_options\u001b[49m\u001b[43m,\u001b[49m\n\u001b[1;32m    203\u001b[0m \u001b[43m    \u001b[49m\u001b[43m)\u001b[49m\n\u001b[1;32m    204\u001b[0m \u001b[38;5;28;01mexcept\u001b[39;00m socket\u001b[38;5;241m.\u001b[39mgaierror \u001b[38;5;28;01mas\u001b[39;00m e:\n",
      "File \u001b[0;32m~/fmproject/.venv/lib/python3.12/site-packages/urllib3/util/connection.py:85\u001b[0m, in \u001b[0;36mcreate_connection\u001b[0;34m(address, timeout, source_address, socket_options)\u001b[0m\n\u001b[1;32m     84\u001b[0m \u001b[38;5;28;01mtry\u001b[39;00m:\n\u001b[0;32m---> 85\u001b[0m     \u001b[38;5;28;01mraise\u001b[39;00m err\n\u001b[1;32m     86\u001b[0m \u001b[38;5;28;01mfinally\u001b[39;00m:\n\u001b[1;32m     87\u001b[0m     \u001b[38;5;66;03m# Break explicitly a reference cycle\u001b[39;00m\n",
      "File \u001b[0;32m~/fmproject/.venv/lib/python3.12/site-packages/urllib3/util/connection.py:73\u001b[0m, in \u001b[0;36mcreate_connection\u001b[0;34m(address, timeout, source_address, socket_options)\u001b[0m\n\u001b[1;32m     72\u001b[0m     sock\u001b[38;5;241m.\u001b[39mbind(source_address)\n\u001b[0;32m---> 73\u001b[0m \u001b[43msock\u001b[49m\u001b[38;5;241;43m.\u001b[39;49m\u001b[43mconnect\u001b[49m\u001b[43m(\u001b[49m\u001b[43msa\u001b[49m\u001b[43m)\u001b[49m\n\u001b[1;32m     74\u001b[0m \u001b[38;5;66;03m# Break explicitly a reference cycle\u001b[39;00m\n",
      "\u001b[0;31mTimeoutError\u001b[0m: timed out",
      "\nThe above exception was the direct cause of the following exception:\n",
      "\u001b[0;31mConnectTimeoutError\u001b[0m                       Traceback (most recent call last)",
      "File \u001b[0;32m~/fmproject/.venv/lib/python3.12/site-packages/urllib3/connectionpool.py:787\u001b[0m, in \u001b[0;36mHTTPConnectionPool.urlopen\u001b[0;34m(self, method, url, body, headers, retries, redirect, assert_same_host, timeout, pool_timeout, release_conn, chunked, body_pos, preload_content, decode_content, **response_kw)\u001b[0m\n\u001b[1;32m    786\u001b[0m \u001b[38;5;66;03m# Make the request on the HTTPConnection object\u001b[39;00m\n\u001b[0;32m--> 787\u001b[0m response \u001b[38;5;241m=\u001b[39m \u001b[38;5;28;43mself\u001b[39;49m\u001b[38;5;241;43m.\u001b[39;49m\u001b[43m_make_request\u001b[49m\u001b[43m(\u001b[49m\n\u001b[1;32m    788\u001b[0m \u001b[43m    \u001b[49m\u001b[43mconn\u001b[49m\u001b[43m,\u001b[49m\n\u001b[1;32m    789\u001b[0m \u001b[43m    \u001b[49m\u001b[43mmethod\u001b[49m\u001b[43m,\u001b[49m\n\u001b[1;32m    790\u001b[0m \u001b[43m    \u001b[49m\u001b[43murl\u001b[49m\u001b[43m,\u001b[49m\n\u001b[1;32m    791\u001b[0m \u001b[43m    \u001b[49m\u001b[43mtimeout\u001b[49m\u001b[38;5;241;43m=\u001b[39;49m\u001b[43mtimeout_obj\u001b[49m\u001b[43m,\u001b[49m\n\u001b[1;32m    792\u001b[0m \u001b[43m    \u001b[49m\u001b[43mbody\u001b[49m\u001b[38;5;241;43m=\u001b[39;49m\u001b[43mbody\u001b[49m\u001b[43m,\u001b[49m\n\u001b[1;32m    793\u001b[0m \u001b[43m    \u001b[49m\u001b[43mheaders\u001b[49m\u001b[38;5;241;43m=\u001b[39;49m\u001b[43mheaders\u001b[49m\u001b[43m,\u001b[49m\n\u001b[1;32m    794\u001b[0m \u001b[43m    \u001b[49m\u001b[43mchunked\u001b[49m\u001b[38;5;241;43m=\u001b[39;49m\u001b[43mchunked\u001b[49m\u001b[43m,\u001b[49m\n\u001b[1;32m    795\u001b[0m \u001b[43m    \u001b[49m\u001b[43mretries\u001b[49m\u001b[38;5;241;43m=\u001b[39;49m\u001b[43mretries\u001b[49m\u001b[43m,\u001b[49m\n\u001b[1;32m    796\u001b[0m \u001b[43m    \u001b[49m\u001b[43mresponse_conn\u001b[49m\u001b[38;5;241;43m=\u001b[39;49m\u001b[43mresponse_conn\u001b[49m\u001b[43m,\u001b[49m\n\u001b[1;32m    797\u001b[0m \u001b[43m    \u001b[49m\u001b[43mpreload_content\u001b[49m\u001b[38;5;241;43m=\u001b[39;49m\u001b[43mpreload_content\u001b[49m\u001b[43m,\u001b[49m\n\u001b[1;32m    798\u001b[0m \u001b[43m    \u001b[49m\u001b[43mdecode_content\u001b[49m\u001b[38;5;241;43m=\u001b[39;49m\u001b[43mdecode_content\u001b[49m\u001b[43m,\u001b[49m\n\u001b[1;32m    799\u001b[0m \u001b[43m    \u001b[49m\u001b[38;5;241;43m*\u001b[39;49m\u001b[38;5;241;43m*\u001b[39;49m\u001b[43mresponse_kw\u001b[49m\u001b[43m,\u001b[49m\n\u001b[1;32m    800\u001b[0m \u001b[43m\u001b[49m\u001b[43m)\u001b[49m\n\u001b[1;32m    802\u001b[0m \u001b[38;5;66;03m# Everything went great!\u001b[39;00m\n",
      "File \u001b[0;32m~/fmproject/.venv/lib/python3.12/site-packages/urllib3/connectionpool.py:488\u001b[0m, in \u001b[0;36mHTTPConnectionPool._make_request\u001b[0;34m(self, conn, method, url, body, headers, retries, timeout, chunked, response_conn, preload_content, decode_content, enforce_content_length)\u001b[0m\n\u001b[1;32m    487\u001b[0m         new_e \u001b[38;5;241m=\u001b[39m _wrap_proxy_error(new_e, conn\u001b[38;5;241m.\u001b[39mproxy\u001b[38;5;241m.\u001b[39mscheme)\n\u001b[0;32m--> 488\u001b[0m     \u001b[38;5;28;01mraise\u001b[39;00m new_e\n\u001b[1;32m    490\u001b[0m \u001b[38;5;66;03m# conn.request() calls http.client.*.request, not the method in\u001b[39;00m\n\u001b[1;32m    491\u001b[0m \u001b[38;5;66;03m# urllib3.request. It also calls makefile (recv) on the socket.\u001b[39;00m\n",
      "File \u001b[0;32m~/fmproject/.venv/lib/python3.12/site-packages/urllib3/connectionpool.py:464\u001b[0m, in \u001b[0;36mHTTPConnectionPool._make_request\u001b[0;34m(self, conn, method, url, body, headers, retries, timeout, chunked, response_conn, preload_content, decode_content, enforce_content_length)\u001b[0m\n\u001b[1;32m    463\u001b[0m \u001b[38;5;28;01mtry\u001b[39;00m:\n\u001b[0;32m--> 464\u001b[0m     \u001b[38;5;28;43mself\u001b[39;49m\u001b[38;5;241;43m.\u001b[39;49m\u001b[43m_validate_conn\u001b[49m\u001b[43m(\u001b[49m\u001b[43mconn\u001b[49m\u001b[43m)\u001b[49m\n\u001b[1;32m    465\u001b[0m \u001b[38;5;28;01mexcept\u001b[39;00m (SocketTimeout, BaseSSLError) \u001b[38;5;28;01mas\u001b[39;00m e:\n",
      "File \u001b[0;32m~/fmproject/.venv/lib/python3.12/site-packages/urllib3/connectionpool.py:1093\u001b[0m, in \u001b[0;36mHTTPSConnectionPool._validate_conn\u001b[0;34m(self, conn)\u001b[0m\n\u001b[1;32m   1092\u001b[0m \u001b[38;5;28;01mif\u001b[39;00m conn\u001b[38;5;241m.\u001b[39mis_closed:\n\u001b[0;32m-> 1093\u001b[0m     \u001b[43mconn\u001b[49m\u001b[38;5;241;43m.\u001b[39;49m\u001b[43mconnect\u001b[49m\u001b[43m(\u001b[49m\u001b[43m)\u001b[49m\n\u001b[1;32m   1095\u001b[0m \u001b[38;5;66;03m# TODO revise this, see https://github.com/urllib3/urllib3/issues/2791\u001b[39;00m\n",
      "File \u001b[0;32m~/fmproject/.venv/lib/python3.12/site-packages/urllib3/connection.py:753\u001b[0m, in \u001b[0;36mHTTPSConnection.connect\u001b[0;34m(self)\u001b[0m\n\u001b[1;32m    752\u001b[0m sock: socket\u001b[38;5;241m.\u001b[39msocket \u001b[38;5;241m|\u001b[39m ssl\u001b[38;5;241m.\u001b[39mSSLSocket\n\u001b[0;32m--> 753\u001b[0m \u001b[38;5;28mself\u001b[39m\u001b[38;5;241m.\u001b[39msock \u001b[38;5;241m=\u001b[39m sock \u001b[38;5;241m=\u001b[39m \u001b[38;5;28;43mself\u001b[39;49m\u001b[38;5;241;43m.\u001b[39;49m\u001b[43m_new_conn\u001b[49m\u001b[43m(\u001b[49m\u001b[43m)\u001b[49m\n\u001b[1;32m    754\u001b[0m server_hostname: \u001b[38;5;28mstr\u001b[39m \u001b[38;5;241m=\u001b[39m \u001b[38;5;28mself\u001b[39m\u001b[38;5;241m.\u001b[39mhost\n",
      "File \u001b[0;32m~/fmproject/.venv/lib/python3.12/site-packages/urllib3/connection.py:207\u001b[0m, in \u001b[0;36mHTTPConnection._new_conn\u001b[0;34m(self)\u001b[0m\n\u001b[1;32m    206\u001b[0m \u001b[38;5;28;01mexcept\u001b[39;00m SocketTimeout \u001b[38;5;28;01mas\u001b[39;00m e:\n\u001b[0;32m--> 207\u001b[0m     \u001b[38;5;28;01mraise\u001b[39;00m ConnectTimeoutError(\n\u001b[1;32m    208\u001b[0m         \u001b[38;5;28mself\u001b[39m,\n\u001b[1;32m    209\u001b[0m         \u001b[38;5;124mf\u001b[39m\u001b[38;5;124m\"\u001b[39m\u001b[38;5;124mConnection to \u001b[39m\u001b[38;5;132;01m{\u001b[39;00m\u001b[38;5;28mself\u001b[39m\u001b[38;5;241m.\u001b[39mhost\u001b[38;5;132;01m}\u001b[39;00m\u001b[38;5;124m timed out. (connect timeout=\u001b[39m\u001b[38;5;132;01m{\u001b[39;00m\u001b[38;5;28mself\u001b[39m\u001b[38;5;241m.\u001b[39mtimeout\u001b[38;5;132;01m}\u001b[39;00m\u001b[38;5;124m)\u001b[39m\u001b[38;5;124m\"\u001b[39m,\n\u001b[1;32m    210\u001b[0m     ) \u001b[38;5;28;01mfrom\u001b[39;00m\u001b[38;5;250m \u001b[39m\u001b[38;5;21;01me\u001b[39;00m\n\u001b[1;32m    212\u001b[0m \u001b[38;5;28;01mexcept\u001b[39;00m \u001b[38;5;167;01mOSError\u001b[39;00m \u001b[38;5;28;01mas\u001b[39;00m e:\n",
      "\u001b[0;31mConnectTimeoutError\u001b[0m: (<urllib3.connection.HTTPSConnection object at 0x7faee791d430>, 'Connection to huggingface.co timed out. (connect timeout=10)')",
      "\nThe above exception was the direct cause of the following exception:\n",
      "\u001b[0;31mMaxRetryError\u001b[0m                             Traceback (most recent call last)",
      "File \u001b[0;32m~/fmproject/.venv/lib/python3.12/site-packages/requests/adapters.py:667\u001b[0m, in \u001b[0;36mHTTPAdapter.send\u001b[0;34m(self, request, stream, timeout, verify, cert, proxies)\u001b[0m\n\u001b[1;32m    666\u001b[0m \u001b[38;5;28;01mtry\u001b[39;00m:\n\u001b[0;32m--> 667\u001b[0m     resp \u001b[38;5;241m=\u001b[39m \u001b[43mconn\u001b[49m\u001b[38;5;241;43m.\u001b[39;49m\u001b[43murlopen\u001b[49m\u001b[43m(\u001b[49m\n\u001b[1;32m    668\u001b[0m \u001b[43m        \u001b[49m\u001b[43mmethod\u001b[49m\u001b[38;5;241;43m=\u001b[39;49m\u001b[43mrequest\u001b[49m\u001b[38;5;241;43m.\u001b[39;49m\u001b[43mmethod\u001b[49m\u001b[43m,\u001b[49m\n\u001b[1;32m    669\u001b[0m \u001b[43m        \u001b[49m\u001b[43murl\u001b[49m\u001b[38;5;241;43m=\u001b[39;49m\u001b[43murl\u001b[49m\u001b[43m,\u001b[49m\n\u001b[1;32m    670\u001b[0m \u001b[43m        \u001b[49m\u001b[43mbody\u001b[49m\u001b[38;5;241;43m=\u001b[39;49m\u001b[43mrequest\u001b[49m\u001b[38;5;241;43m.\u001b[39;49m\u001b[43mbody\u001b[49m\u001b[43m,\u001b[49m\n\u001b[1;32m    671\u001b[0m \u001b[43m        \u001b[49m\u001b[43mheaders\u001b[49m\u001b[38;5;241;43m=\u001b[39;49m\u001b[43mrequest\u001b[49m\u001b[38;5;241;43m.\u001b[39;49m\u001b[43mheaders\u001b[49m\u001b[43m,\u001b[49m\n\u001b[1;32m    672\u001b[0m \u001b[43m        \u001b[49m\u001b[43mredirect\u001b[49m\u001b[38;5;241;43m=\u001b[39;49m\u001b[38;5;28;43;01mFalse\u001b[39;49;00m\u001b[43m,\u001b[49m\n\u001b[1;32m    673\u001b[0m \u001b[43m        \u001b[49m\u001b[43massert_same_host\u001b[49m\u001b[38;5;241;43m=\u001b[39;49m\u001b[38;5;28;43;01mFalse\u001b[39;49;00m\u001b[43m,\u001b[49m\n\u001b[1;32m    674\u001b[0m \u001b[43m        \u001b[49m\u001b[43mpreload_content\u001b[49m\u001b[38;5;241;43m=\u001b[39;49m\u001b[38;5;28;43;01mFalse\u001b[39;49;00m\u001b[43m,\u001b[49m\n\u001b[1;32m    675\u001b[0m \u001b[43m        \u001b[49m\u001b[43mdecode_content\u001b[49m\u001b[38;5;241;43m=\u001b[39;49m\u001b[38;5;28;43;01mFalse\u001b[39;49;00m\u001b[43m,\u001b[49m\n\u001b[1;32m    676\u001b[0m \u001b[43m        \u001b[49m\u001b[43mretries\u001b[49m\u001b[38;5;241;43m=\u001b[39;49m\u001b[38;5;28;43mself\u001b[39;49m\u001b[38;5;241;43m.\u001b[39;49m\u001b[43mmax_retries\u001b[49m\u001b[43m,\u001b[49m\n\u001b[1;32m    677\u001b[0m \u001b[43m        \u001b[49m\u001b[43mtimeout\u001b[49m\u001b[38;5;241;43m=\u001b[39;49m\u001b[43mtimeout\u001b[49m\u001b[43m,\u001b[49m\n\u001b[1;32m    678\u001b[0m \u001b[43m        \u001b[49m\u001b[43mchunked\u001b[49m\u001b[38;5;241;43m=\u001b[39;49m\u001b[43mchunked\u001b[49m\u001b[43m,\u001b[49m\n\u001b[1;32m    679\u001b[0m \u001b[43m    \u001b[49m\u001b[43m)\u001b[49m\n\u001b[1;32m    681\u001b[0m \u001b[38;5;28;01mexcept\u001b[39;00m (ProtocolError, \u001b[38;5;167;01mOSError\u001b[39;00m) \u001b[38;5;28;01mas\u001b[39;00m err:\n",
      "File \u001b[0;32m~/fmproject/.venv/lib/python3.12/site-packages/urllib3/connectionpool.py:841\u001b[0m, in \u001b[0;36mHTTPConnectionPool.urlopen\u001b[0;34m(self, method, url, body, headers, retries, redirect, assert_same_host, timeout, pool_timeout, release_conn, chunked, body_pos, preload_content, decode_content, **response_kw)\u001b[0m\n\u001b[1;32m    839\u001b[0m     new_e \u001b[38;5;241m=\u001b[39m ProtocolError(\u001b[38;5;124m\"\u001b[39m\u001b[38;5;124mConnection aborted.\u001b[39m\u001b[38;5;124m\"\u001b[39m, new_e)\n\u001b[0;32m--> 841\u001b[0m retries \u001b[38;5;241m=\u001b[39m \u001b[43mretries\u001b[49m\u001b[38;5;241;43m.\u001b[39;49m\u001b[43mincrement\u001b[49m\u001b[43m(\u001b[49m\n\u001b[1;32m    842\u001b[0m \u001b[43m    \u001b[49m\u001b[43mmethod\u001b[49m\u001b[43m,\u001b[49m\u001b[43m \u001b[49m\u001b[43murl\u001b[49m\u001b[43m,\u001b[49m\u001b[43m \u001b[49m\u001b[43merror\u001b[49m\u001b[38;5;241;43m=\u001b[39;49m\u001b[43mnew_e\u001b[49m\u001b[43m,\u001b[49m\u001b[43m \u001b[49m\u001b[43m_pool\u001b[49m\u001b[38;5;241;43m=\u001b[39;49m\u001b[38;5;28;43mself\u001b[39;49m\u001b[43m,\u001b[49m\u001b[43m \u001b[49m\u001b[43m_stacktrace\u001b[49m\u001b[38;5;241;43m=\u001b[39;49m\u001b[43msys\u001b[49m\u001b[38;5;241;43m.\u001b[39;49m\u001b[43mexc_info\u001b[49m\u001b[43m(\u001b[49m\u001b[43m)\u001b[49m\u001b[43m[\u001b[49m\u001b[38;5;241;43m2\u001b[39;49m\u001b[43m]\u001b[49m\n\u001b[1;32m    843\u001b[0m \u001b[43m\u001b[49m\u001b[43m)\u001b[49m\n\u001b[1;32m    844\u001b[0m retries\u001b[38;5;241m.\u001b[39msleep()\n",
      "File \u001b[0;32m~/fmproject/.venv/lib/python3.12/site-packages/urllib3/util/retry.py:519\u001b[0m, in \u001b[0;36mRetry.increment\u001b[0;34m(self, method, url, response, error, _pool, _stacktrace)\u001b[0m\n\u001b[1;32m    518\u001b[0m     reason \u001b[38;5;241m=\u001b[39m error \u001b[38;5;129;01mor\u001b[39;00m ResponseError(cause)\n\u001b[0;32m--> 519\u001b[0m     \u001b[38;5;28;01mraise\u001b[39;00m MaxRetryError(_pool, url, reason) \u001b[38;5;28;01mfrom\u001b[39;00m\u001b[38;5;250m \u001b[39m\u001b[38;5;21;01mreason\u001b[39;00m  \u001b[38;5;66;03m# type: ignore[arg-type]\u001b[39;00m\n\u001b[1;32m    521\u001b[0m log\u001b[38;5;241m.\u001b[39mdebug(\u001b[38;5;124m\"\u001b[39m\u001b[38;5;124mIncremented Retry for (url=\u001b[39m\u001b[38;5;124m'\u001b[39m\u001b[38;5;132;01m%s\u001b[39;00m\u001b[38;5;124m'\u001b[39m\u001b[38;5;124m): \u001b[39m\u001b[38;5;132;01m%r\u001b[39;00m\u001b[38;5;124m\"\u001b[39m, url, new_retry)\n",
      "\u001b[0;31mMaxRetryError\u001b[0m: HTTPSConnectionPool(host='huggingface.co', port=443): Max retries exceeded with url: /jingang/TabICL-clf/resolve/main/tabicl-classifier-v1.1-0506.ckpt (Caused by ConnectTimeoutError(<urllib3.connection.HTTPSConnection object at 0x7faee791d430>, 'Connection to huggingface.co timed out. (connect timeout=10)'))",
      "\nDuring handling of the above exception, another exception occurred:\n",
      "\u001b[0;31mConnectTimeout\u001b[0m                            Traceback (most recent call last)",
      "File \u001b[0;32m~/fmproject/.venv/lib/python3.12/site-packages/huggingface_hub/file_download.py:1546\u001b[0m, in \u001b[0;36m_get_metadata_or_catch_error\u001b[0;34m(repo_id, filename, repo_type, revision, endpoint, proxies, etag_timeout, headers, token, local_files_only, relative_filename, storage_folder)\u001b[0m\n\u001b[1;32m   1545\u001b[0m \u001b[38;5;28;01mtry\u001b[39;00m:\n\u001b[0;32m-> 1546\u001b[0m     metadata \u001b[38;5;241m=\u001b[39m \u001b[43mget_hf_file_metadata\u001b[49m\u001b[43m(\u001b[49m\n\u001b[1;32m   1547\u001b[0m \u001b[43m        \u001b[49m\u001b[43murl\u001b[49m\u001b[38;5;241;43m=\u001b[39;49m\u001b[43murl\u001b[49m\u001b[43m,\u001b[49m\u001b[43m \u001b[49m\u001b[43mproxies\u001b[49m\u001b[38;5;241;43m=\u001b[39;49m\u001b[43mproxies\u001b[49m\u001b[43m,\u001b[49m\u001b[43m \u001b[49m\u001b[43mtimeout\u001b[49m\u001b[38;5;241;43m=\u001b[39;49m\u001b[43metag_timeout\u001b[49m\u001b[43m,\u001b[49m\u001b[43m \u001b[49m\u001b[43mheaders\u001b[49m\u001b[38;5;241;43m=\u001b[39;49m\u001b[43mheaders\u001b[49m\u001b[43m,\u001b[49m\u001b[43m \u001b[49m\u001b[43mtoken\u001b[49m\u001b[38;5;241;43m=\u001b[39;49m\u001b[43mtoken\u001b[49m\u001b[43m,\u001b[49m\u001b[43m \u001b[49m\u001b[43mendpoint\u001b[49m\u001b[38;5;241;43m=\u001b[39;49m\u001b[43mendpoint\u001b[49m\n\u001b[1;32m   1548\u001b[0m \u001b[43m    \u001b[49m\u001b[43m)\u001b[49m\n\u001b[1;32m   1549\u001b[0m \u001b[38;5;28;01mexcept\u001b[39;00m EntryNotFoundError \u001b[38;5;28;01mas\u001b[39;00m http_error:\n",
      "File \u001b[0;32m~/fmproject/.venv/lib/python3.12/site-packages/huggingface_hub/utils/_validators.py:114\u001b[0m, in \u001b[0;36mvalidate_hf_hub_args.<locals>._inner_fn\u001b[0;34m(*args, **kwargs)\u001b[0m\n\u001b[1;32m    112\u001b[0m     kwargs \u001b[38;5;241m=\u001b[39m smoothly_deprecate_use_auth_token(fn_name\u001b[38;5;241m=\u001b[39mfn\u001b[38;5;241m.\u001b[39m\u001b[38;5;18m__name__\u001b[39m, has_token\u001b[38;5;241m=\u001b[39mhas_token, kwargs\u001b[38;5;241m=\u001b[39mkwargs)\n\u001b[0;32m--> 114\u001b[0m \u001b[38;5;28;01mreturn\u001b[39;00m \u001b[43mfn\u001b[49m\u001b[43m(\u001b[49m\u001b[38;5;241;43m*\u001b[39;49m\u001b[43margs\u001b[49m\u001b[43m,\u001b[49m\u001b[43m \u001b[49m\u001b[38;5;241;43m*\u001b[39;49m\u001b[38;5;241;43m*\u001b[39;49m\u001b[43mkwargs\u001b[49m\u001b[43m)\u001b[49m\n",
      "File \u001b[0;32m~/fmproject/.venv/lib/python3.12/site-packages/huggingface_hub/file_download.py:1463\u001b[0m, in \u001b[0;36mget_hf_file_metadata\u001b[0;34m(url, token, proxies, timeout, library_name, library_version, user_agent, headers, endpoint)\u001b[0m\n\u001b[1;32m   1462\u001b[0m \u001b[38;5;66;03m# Retrieve metadata\u001b[39;00m\n\u001b[0;32m-> 1463\u001b[0m r \u001b[38;5;241m=\u001b[39m \u001b[43m_request_wrapper\u001b[49m\u001b[43m(\u001b[49m\n\u001b[1;32m   1464\u001b[0m \u001b[43m    \u001b[49m\u001b[43mmethod\u001b[49m\u001b[38;5;241;43m=\u001b[39;49m\u001b[38;5;124;43m\"\u001b[39;49m\u001b[38;5;124;43mHEAD\u001b[39;49m\u001b[38;5;124;43m\"\u001b[39;49m\u001b[43m,\u001b[49m\n\u001b[1;32m   1465\u001b[0m \u001b[43m    \u001b[49m\u001b[43murl\u001b[49m\u001b[38;5;241;43m=\u001b[39;49m\u001b[43murl\u001b[49m\u001b[43m,\u001b[49m\n\u001b[1;32m   1466\u001b[0m \u001b[43m    \u001b[49m\u001b[43mheaders\u001b[49m\u001b[38;5;241;43m=\u001b[39;49m\u001b[43mhf_headers\u001b[49m\u001b[43m,\u001b[49m\n\u001b[1;32m   1467\u001b[0m \u001b[43m    \u001b[49m\u001b[43mallow_redirects\u001b[49m\u001b[38;5;241;43m=\u001b[39;49m\u001b[38;5;28;43;01mFalse\u001b[39;49;00m\u001b[43m,\u001b[49m\n\u001b[1;32m   1468\u001b[0m \u001b[43m    \u001b[49m\u001b[43mfollow_relative_redirects\u001b[49m\u001b[38;5;241;43m=\u001b[39;49m\u001b[38;5;28;43;01mTrue\u001b[39;49;00m\u001b[43m,\u001b[49m\n\u001b[1;32m   1469\u001b[0m \u001b[43m    \u001b[49m\u001b[43mproxies\u001b[49m\u001b[38;5;241;43m=\u001b[39;49m\u001b[43mproxies\u001b[49m\u001b[43m,\u001b[49m\n\u001b[1;32m   1470\u001b[0m \u001b[43m    \u001b[49m\u001b[43mtimeout\u001b[49m\u001b[38;5;241;43m=\u001b[39;49m\u001b[43mtimeout\u001b[49m\u001b[43m,\u001b[49m\n\u001b[1;32m   1471\u001b[0m \u001b[43m\u001b[49m\u001b[43m)\u001b[49m\n\u001b[1;32m   1472\u001b[0m hf_raise_for_status(r)\n",
      "File \u001b[0;32m~/fmproject/.venv/lib/python3.12/site-packages/huggingface_hub/file_download.py:286\u001b[0m, in \u001b[0;36m_request_wrapper\u001b[0;34m(method, url, follow_relative_redirects, **params)\u001b[0m\n\u001b[1;32m    285\u001b[0m \u001b[38;5;28;01mif\u001b[39;00m follow_relative_redirects:\n\u001b[0;32m--> 286\u001b[0m     response \u001b[38;5;241m=\u001b[39m \u001b[43m_request_wrapper\u001b[49m\u001b[43m(\u001b[49m\n\u001b[1;32m    287\u001b[0m \u001b[43m        \u001b[49m\u001b[43mmethod\u001b[49m\u001b[38;5;241;43m=\u001b[39;49m\u001b[43mmethod\u001b[49m\u001b[43m,\u001b[49m\n\u001b[1;32m    288\u001b[0m \u001b[43m        \u001b[49m\u001b[43murl\u001b[49m\u001b[38;5;241;43m=\u001b[39;49m\u001b[43murl\u001b[49m\u001b[43m,\u001b[49m\n\u001b[1;32m    289\u001b[0m \u001b[43m        \u001b[49m\u001b[43mfollow_relative_redirects\u001b[49m\u001b[38;5;241;43m=\u001b[39;49m\u001b[38;5;28;43;01mFalse\u001b[39;49;00m\u001b[43m,\u001b[49m\n\u001b[1;32m    290\u001b[0m \u001b[43m        \u001b[49m\u001b[38;5;241;43m*\u001b[39;49m\u001b[38;5;241;43m*\u001b[39;49m\u001b[43mparams\u001b[49m\u001b[43m,\u001b[49m\n\u001b[1;32m    291\u001b[0m \u001b[43m    \u001b[49m\u001b[43m)\u001b[49m\n\u001b[1;32m    293\u001b[0m     \u001b[38;5;66;03m# If redirection, we redirect only relative paths.\u001b[39;00m\n\u001b[1;32m    294\u001b[0m     \u001b[38;5;66;03m# This is useful in case of a renamed repository.\u001b[39;00m\n",
      "File \u001b[0;32m~/fmproject/.venv/lib/python3.12/site-packages/huggingface_hub/file_download.py:309\u001b[0m, in \u001b[0;36m_request_wrapper\u001b[0;34m(method, url, follow_relative_redirects, **params)\u001b[0m\n\u001b[1;32m    308\u001b[0m \u001b[38;5;66;03m# Perform request and return if status_code is not in the retry list.\u001b[39;00m\n\u001b[0;32m--> 309\u001b[0m response \u001b[38;5;241m=\u001b[39m \u001b[43mhttp_backoff\u001b[49m\u001b[43m(\u001b[49m\u001b[43mmethod\u001b[49m\u001b[38;5;241;43m=\u001b[39;49m\u001b[43mmethod\u001b[49m\u001b[43m,\u001b[49m\u001b[43m \u001b[49m\u001b[43murl\u001b[49m\u001b[38;5;241;43m=\u001b[39;49m\u001b[43murl\u001b[49m\u001b[43m,\u001b[49m\u001b[43m \u001b[49m\u001b[38;5;241;43m*\u001b[39;49m\u001b[38;5;241;43m*\u001b[39;49m\u001b[43mparams\u001b[49m\u001b[43m,\u001b[49m\u001b[43m \u001b[49m\u001b[43mretry_on_exceptions\u001b[49m\u001b[38;5;241;43m=\u001b[39;49m\u001b[43m(\u001b[49m\u001b[43m)\u001b[49m\u001b[43m,\u001b[49m\u001b[43m \u001b[49m\u001b[43mretry_on_status_codes\u001b[49m\u001b[38;5;241;43m=\u001b[39;49m\u001b[43m(\u001b[49m\u001b[38;5;241;43m429\u001b[39;49m\u001b[43m,\u001b[49m\u001b[43m)\u001b[49m\u001b[43m)\u001b[49m\n\u001b[1;32m    310\u001b[0m hf_raise_for_status(response)\n",
      "File \u001b[0;32m~/fmproject/.venv/lib/python3.12/site-packages/huggingface_hub/utils/_http.py:310\u001b[0m, in \u001b[0;36mhttp_backoff\u001b[0;34m(method, url, max_retries, base_wait_time, max_wait_time, retry_on_exceptions, retry_on_status_codes, **kwargs)\u001b[0m\n\u001b[1;32m    309\u001b[0m \u001b[38;5;66;03m# Perform request and return if status_code is not in the retry list.\u001b[39;00m\n\u001b[0;32m--> 310\u001b[0m response \u001b[38;5;241m=\u001b[39m \u001b[43msession\u001b[49m\u001b[38;5;241;43m.\u001b[39;49m\u001b[43mrequest\u001b[49m\u001b[43m(\u001b[49m\u001b[43mmethod\u001b[49m\u001b[38;5;241;43m=\u001b[39;49m\u001b[43mmethod\u001b[49m\u001b[43m,\u001b[49m\u001b[43m \u001b[49m\u001b[43murl\u001b[49m\u001b[38;5;241;43m=\u001b[39;49m\u001b[43murl\u001b[49m\u001b[43m,\u001b[49m\u001b[43m \u001b[49m\u001b[38;5;241;43m*\u001b[39;49m\u001b[38;5;241;43m*\u001b[39;49m\u001b[43mkwargs\u001b[49m\u001b[43m)\u001b[49m\n\u001b[1;32m    311\u001b[0m \u001b[38;5;28;01mif\u001b[39;00m response\u001b[38;5;241m.\u001b[39mstatus_code \u001b[38;5;129;01mnot\u001b[39;00m \u001b[38;5;129;01min\u001b[39;00m retry_on_status_codes:\n",
      "File \u001b[0;32m~/fmproject/.venv/lib/python3.12/site-packages/requests/sessions.py:589\u001b[0m, in \u001b[0;36mSession.request\u001b[0;34m(self, method, url, params, data, headers, cookies, files, auth, timeout, allow_redirects, proxies, hooks, stream, verify, cert, json)\u001b[0m\n\u001b[1;32m    588\u001b[0m send_kwargs\u001b[38;5;241m.\u001b[39mupdate(settings)\n\u001b[0;32m--> 589\u001b[0m resp \u001b[38;5;241m=\u001b[39m \u001b[38;5;28;43mself\u001b[39;49m\u001b[38;5;241;43m.\u001b[39;49m\u001b[43msend\u001b[49m\u001b[43m(\u001b[49m\u001b[43mprep\u001b[49m\u001b[43m,\u001b[49m\u001b[43m \u001b[49m\u001b[38;5;241;43m*\u001b[39;49m\u001b[38;5;241;43m*\u001b[39;49m\u001b[43msend_kwargs\u001b[49m\u001b[43m)\u001b[49m\n\u001b[1;32m    591\u001b[0m \u001b[38;5;28;01mreturn\u001b[39;00m resp\n",
      "File \u001b[0;32m~/fmproject/.venv/lib/python3.12/site-packages/requests/sessions.py:703\u001b[0m, in \u001b[0;36mSession.send\u001b[0;34m(self, request, **kwargs)\u001b[0m\n\u001b[1;32m    702\u001b[0m \u001b[38;5;66;03m# Send the request\u001b[39;00m\n\u001b[0;32m--> 703\u001b[0m r \u001b[38;5;241m=\u001b[39m \u001b[43madapter\u001b[49m\u001b[38;5;241;43m.\u001b[39;49m\u001b[43msend\u001b[49m\u001b[43m(\u001b[49m\u001b[43mrequest\u001b[49m\u001b[43m,\u001b[49m\u001b[43m \u001b[49m\u001b[38;5;241;43m*\u001b[39;49m\u001b[38;5;241;43m*\u001b[39;49m\u001b[43mkwargs\u001b[49m\u001b[43m)\u001b[49m\n\u001b[1;32m    705\u001b[0m \u001b[38;5;66;03m# Total elapsed time of the request (approximately)\u001b[39;00m\n",
      "File \u001b[0;32m~/fmproject/.venv/lib/python3.12/site-packages/huggingface_hub/utils/_http.py:96\u001b[0m, in \u001b[0;36mUniqueRequestIdAdapter.send\u001b[0;34m(self, request, *args, **kwargs)\u001b[0m\n\u001b[1;32m     95\u001b[0m \u001b[38;5;28;01mtry\u001b[39;00m:\n\u001b[0;32m---> 96\u001b[0m     \u001b[38;5;28;01mreturn\u001b[39;00m \u001b[38;5;28;43msuper\u001b[39;49m\u001b[43m(\u001b[49m\u001b[43m)\u001b[49m\u001b[38;5;241;43m.\u001b[39;49m\u001b[43msend\u001b[49m\u001b[43m(\u001b[49m\u001b[43mrequest\u001b[49m\u001b[43m,\u001b[49m\u001b[43m \u001b[49m\u001b[38;5;241;43m*\u001b[39;49m\u001b[43margs\u001b[49m\u001b[43m,\u001b[49m\u001b[43m \u001b[49m\u001b[38;5;241;43m*\u001b[39;49m\u001b[38;5;241;43m*\u001b[39;49m\u001b[43mkwargs\u001b[49m\u001b[43m)\u001b[49m\n\u001b[1;32m     97\u001b[0m \u001b[38;5;28;01mexcept\u001b[39;00m requests\u001b[38;5;241m.\u001b[39mRequestException \u001b[38;5;28;01mas\u001b[39;00m e:\n",
      "File \u001b[0;32m~/fmproject/.venv/lib/python3.12/site-packages/requests/adapters.py:688\u001b[0m, in \u001b[0;36mHTTPAdapter.send\u001b[0;34m(self, request, stream, timeout, verify, cert, proxies)\u001b[0m\n\u001b[1;32m    687\u001b[0m     \u001b[38;5;28;01mif\u001b[39;00m \u001b[38;5;129;01mnot\u001b[39;00m \u001b[38;5;28misinstance\u001b[39m(e\u001b[38;5;241m.\u001b[39mreason, NewConnectionError):\n\u001b[0;32m--> 688\u001b[0m         \u001b[38;5;28;01mraise\u001b[39;00m ConnectTimeout(e, request\u001b[38;5;241m=\u001b[39mrequest)\n\u001b[1;32m    690\u001b[0m \u001b[38;5;28;01mif\u001b[39;00m \u001b[38;5;28misinstance\u001b[39m(e\u001b[38;5;241m.\u001b[39mreason, ResponseError):\n",
      "\u001b[0;31mConnectTimeout\u001b[0m: (MaxRetryError(\"HTTPSConnectionPool(host='huggingface.co', port=443): Max retries exceeded with url: /jingang/TabICL-clf/resolve/main/tabicl-classifier-v1.1-0506.ckpt (Caused by ConnectTimeoutError(<urllib3.connection.HTTPSConnection object at 0x7faee791d430>, 'Connection to huggingface.co timed out. (connect timeout=10)'))\"), '(Request ID: de2c243c-021a-4311-bef3-df1ce0c0b2f4)')",
      "\nThe above exception was the direct cause of the following exception:\n",
      "\u001b[0;31mLocalEntryNotFoundError\u001b[0m                   Traceback (most recent call last)",
      "Cell \u001b[0;32mIn[13], line 1\u001b[0m\n\u001b[0;32m----> 1\u001b[0m \u001b[43mclf\u001b[49m\u001b[38;5;241;43m.\u001b[39;49m\u001b[43mfit\u001b[49m\u001b[43m(\u001b[49m\u001b[43mX_train\u001b[49m\u001b[43m,\u001b[49m\u001b[43m \u001b[49m\u001b[43my_train\u001b[49m\u001b[43m)\u001b[49m  \u001b[38;5;66;03m# this is cheap\u001b[39;00m\n",
      "File \u001b[0;32m~/fmproject/.venv/lib/python3.12/site-packages/tabicl/sklearn/classifier.py:377\u001b[0m, in \u001b[0;36mTabICLClassifier.fit\u001b[0;34m(self, X, y)\u001b[0m\n\u001b[1;32m    374\u001b[0m     \u001b[38;5;28mself\u001b[39m\u001b[38;5;241m.\u001b[39mdevice_ \u001b[38;5;241m=\u001b[39m \u001b[38;5;28mself\u001b[39m\u001b[38;5;241m.\u001b[39mdevice\n\u001b[1;32m    376\u001b[0m \u001b[38;5;66;03m# Load the pre-trained TabICL model\u001b[39;00m\n\u001b[0;32m--> 377\u001b[0m \u001b[38;5;28;43mself\u001b[39;49m\u001b[38;5;241;43m.\u001b[39;49m\u001b[43m_load_model\u001b[49m\u001b[43m(\u001b[49m\u001b[43m)\u001b[49m\n\u001b[1;32m    378\u001b[0m \u001b[38;5;28mself\u001b[39m\u001b[38;5;241m.\u001b[39mmodel_\u001b[38;5;241m.\u001b[39mto(\u001b[38;5;28mself\u001b[39m\u001b[38;5;241m.\u001b[39mdevice_)\n\u001b[1;32m    380\u001b[0m \u001b[38;5;66;03m# Inference configuration\u001b[39;00m\n",
      "File \u001b[0;32m~/fmproject/.venv/lib/python3.12/site-packages/tabicl/sklearn/classifier.py:288\u001b[0m, in \u001b[0;36mTabICLClassifier._load_model\u001b[0;34m(self)\u001b[0m\n\u001b[1;32m    286\u001b[0m     \u001b[38;5;28mprint\u001b[39m(info_message)\n\u001b[1;32m    287\u001b[0m     \u001b[38;5;28mprint\u001b[39m(\u001b[38;5;124mf\u001b[39m\u001b[38;5;124m\"\u001b[39m\u001b[38;5;124mCheckpoint \u001b[39m\u001b[38;5;124m'\u001b[39m\u001b[38;5;132;01m{\u001b[39;00mfilename\u001b[38;5;132;01m}\u001b[39;00m\u001b[38;5;124m'\u001b[39m\u001b[38;5;124m not cached.\u001b[39m\u001b[38;5;130;01m\\n\u001b[39;00m\u001b[38;5;124m Downloading from Hugging Face Hub (\u001b[39m\u001b[38;5;132;01m{\u001b[39;00mrepo_id\u001b[38;5;132;01m}\u001b[39;00m\u001b[38;5;124m).\u001b[39m\u001b[38;5;130;01m\\n\u001b[39;00m\u001b[38;5;124m\"\u001b[39m)\n\u001b[0;32m--> 288\u001b[0m     model_path_ \u001b[38;5;241m=\u001b[39m Path(\u001b[43mhf_hub_download\u001b[49m\u001b[43m(\u001b[49m\u001b[43mrepo_id\u001b[49m\u001b[38;5;241;43m=\u001b[39;49m\u001b[43mrepo_id\u001b[49m\u001b[43m,\u001b[49m\u001b[43m \u001b[49m\u001b[43mfilename\u001b[49m\u001b[38;5;241;43m=\u001b[39;49m\u001b[43mfilename\u001b[49m\u001b[43m)\u001b[49m)\n\u001b[1;32m    289\u001b[0m \u001b[38;5;28;01melse\u001b[39;00m:\n\u001b[1;32m    290\u001b[0m     \u001b[38;5;28;01mraise\u001b[39;00m \u001b[38;5;167;01mValueError\u001b[39;00m(\n\u001b[1;32m    291\u001b[0m         \u001b[38;5;124mf\u001b[39m\u001b[38;5;124m\"\u001b[39m\u001b[38;5;124mCheckpoint \u001b[39m\u001b[38;5;124m'\u001b[39m\u001b[38;5;132;01m{\u001b[39;00mfilename\u001b[38;5;132;01m}\u001b[39;00m\u001b[38;5;124m'\u001b[39m\u001b[38;5;124m not cached and automatic download is disabled.\u001b[39m\u001b[38;5;130;01m\\n\u001b[39;00m\u001b[38;5;124m\"\u001b[39m\n\u001b[1;32m    292\u001b[0m         \u001b[38;5;124mf\u001b[39m\u001b[38;5;124m\"\u001b[39m\u001b[38;5;124mSet allow_auto_download=True to download the checkpoint from Hugging Face Hub (\u001b[39m\u001b[38;5;132;01m{\u001b[39;00mrepo_id\u001b[38;5;132;01m}\u001b[39;00m\u001b[38;5;124m).\u001b[39m\u001b[38;5;124m\"\u001b[39m\n\u001b[1;32m    293\u001b[0m     )\n",
      "File \u001b[0;32m~/fmproject/.venv/lib/python3.12/site-packages/huggingface_hub/utils/_validators.py:114\u001b[0m, in \u001b[0;36mvalidate_hf_hub_args.<locals>._inner_fn\u001b[0;34m(*args, **kwargs)\u001b[0m\n\u001b[1;32m    111\u001b[0m \u001b[38;5;28;01mif\u001b[39;00m check_use_auth_token:\n\u001b[1;32m    112\u001b[0m     kwargs \u001b[38;5;241m=\u001b[39m smoothly_deprecate_use_auth_token(fn_name\u001b[38;5;241m=\u001b[39mfn\u001b[38;5;241m.\u001b[39m\u001b[38;5;18m__name__\u001b[39m, has_token\u001b[38;5;241m=\u001b[39mhas_token, kwargs\u001b[38;5;241m=\u001b[39mkwargs)\n\u001b[0;32m--> 114\u001b[0m \u001b[38;5;28;01mreturn\u001b[39;00m \u001b[43mfn\u001b[49m\u001b[43m(\u001b[49m\u001b[38;5;241;43m*\u001b[39;49m\u001b[43margs\u001b[49m\u001b[43m,\u001b[49m\u001b[43m \u001b[49m\u001b[38;5;241;43m*\u001b[39;49m\u001b[38;5;241;43m*\u001b[39;49m\u001b[43mkwargs\u001b[49m\u001b[43m)\u001b[49m\n",
      "File \u001b[0;32m~/fmproject/.venv/lib/python3.12/site-packages/huggingface_hub/file_download.py:1010\u001b[0m, in \u001b[0;36mhf_hub_download\u001b[0;34m(repo_id, filename, subfolder, repo_type, revision, library_name, library_version, cache_dir, local_dir, user_agent, force_download, proxies, etag_timeout, token, local_files_only, headers, endpoint, resume_download, force_filename, local_dir_use_symlinks)\u001b[0m\n\u001b[1;32m    990\u001b[0m     \u001b[38;5;28;01mreturn\u001b[39;00m _hf_hub_download_to_local_dir(\n\u001b[1;32m    991\u001b[0m         \u001b[38;5;66;03m# Destination\u001b[39;00m\n\u001b[1;32m    992\u001b[0m         local_dir\u001b[38;5;241m=\u001b[39mlocal_dir,\n\u001b[0;32m   (...)\u001b[0m\n\u001b[1;32m   1007\u001b[0m         local_files_only\u001b[38;5;241m=\u001b[39mlocal_files_only,\n\u001b[1;32m   1008\u001b[0m     )\n\u001b[1;32m   1009\u001b[0m \u001b[38;5;28;01melse\u001b[39;00m:\n\u001b[0;32m-> 1010\u001b[0m     \u001b[38;5;28;01mreturn\u001b[39;00m \u001b[43m_hf_hub_download_to_cache_dir\u001b[49m\u001b[43m(\u001b[49m\n\u001b[1;32m   1011\u001b[0m \u001b[43m        \u001b[49m\u001b[38;5;66;43;03m# Destination\u001b[39;49;00m\n\u001b[1;32m   1012\u001b[0m \u001b[43m        \u001b[49m\u001b[43mcache_dir\u001b[49m\u001b[38;5;241;43m=\u001b[39;49m\u001b[43mcache_dir\u001b[49m\u001b[43m,\u001b[49m\n\u001b[1;32m   1013\u001b[0m \u001b[43m        \u001b[49m\u001b[38;5;66;43;03m# File info\u001b[39;49;00m\n\u001b[1;32m   1014\u001b[0m \u001b[43m        \u001b[49m\u001b[43mrepo_id\u001b[49m\u001b[38;5;241;43m=\u001b[39;49m\u001b[43mrepo_id\u001b[49m\u001b[43m,\u001b[49m\n\u001b[1;32m   1015\u001b[0m \u001b[43m        \u001b[49m\u001b[43mfilename\u001b[49m\u001b[38;5;241;43m=\u001b[39;49m\u001b[43mfilename\u001b[49m\u001b[43m,\u001b[49m\n\u001b[1;32m   1016\u001b[0m \u001b[43m        \u001b[49m\u001b[43mrepo_type\u001b[49m\u001b[38;5;241;43m=\u001b[39;49m\u001b[43mrepo_type\u001b[49m\u001b[43m,\u001b[49m\n\u001b[1;32m   1017\u001b[0m \u001b[43m        \u001b[49m\u001b[43mrevision\u001b[49m\u001b[38;5;241;43m=\u001b[39;49m\u001b[43mrevision\u001b[49m\u001b[43m,\u001b[49m\n\u001b[1;32m   1018\u001b[0m \u001b[43m        \u001b[49m\u001b[38;5;66;43;03m# HTTP info\u001b[39;49;00m\n\u001b[1;32m   1019\u001b[0m \u001b[43m        \u001b[49m\u001b[43mendpoint\u001b[49m\u001b[38;5;241;43m=\u001b[39;49m\u001b[43mendpoint\u001b[49m\u001b[43m,\u001b[49m\n\u001b[1;32m   1020\u001b[0m \u001b[43m        \u001b[49m\u001b[43metag_timeout\u001b[49m\u001b[38;5;241;43m=\u001b[39;49m\u001b[43metag_timeout\u001b[49m\u001b[43m,\u001b[49m\n\u001b[1;32m   1021\u001b[0m \u001b[43m        \u001b[49m\u001b[43mheaders\u001b[49m\u001b[38;5;241;43m=\u001b[39;49m\u001b[43mhf_headers\u001b[49m\u001b[43m,\u001b[49m\n\u001b[1;32m   1022\u001b[0m \u001b[43m        \u001b[49m\u001b[43mproxies\u001b[49m\u001b[38;5;241;43m=\u001b[39;49m\u001b[43mproxies\u001b[49m\u001b[43m,\u001b[49m\n\u001b[1;32m   1023\u001b[0m \u001b[43m        \u001b[49m\u001b[43mtoken\u001b[49m\u001b[38;5;241;43m=\u001b[39;49m\u001b[43mtoken\u001b[49m\u001b[43m,\u001b[49m\n\u001b[1;32m   1024\u001b[0m \u001b[43m        \u001b[49m\u001b[38;5;66;43;03m# Additional options\u001b[39;49;00m\n\u001b[1;32m   1025\u001b[0m \u001b[43m        \u001b[49m\u001b[43mlocal_files_only\u001b[49m\u001b[38;5;241;43m=\u001b[39;49m\u001b[43mlocal_files_only\u001b[49m\u001b[43m,\u001b[49m\n\u001b[1;32m   1026\u001b[0m \u001b[43m        \u001b[49m\u001b[43mforce_download\u001b[49m\u001b[38;5;241;43m=\u001b[39;49m\u001b[43mforce_download\u001b[49m\u001b[43m,\u001b[49m\n\u001b[1;32m   1027\u001b[0m \u001b[43m    \u001b[49m\u001b[43m)\u001b[49m\n",
      "File \u001b[0;32m~/fmproject/.venv/lib/python3.12/site-packages/huggingface_hub/file_download.py:1117\u001b[0m, in \u001b[0;36m_hf_hub_download_to_cache_dir\u001b[0;34m(cache_dir, repo_id, filename, repo_type, revision, endpoint, etag_timeout, headers, proxies, token, local_files_only, force_download)\u001b[0m\n\u001b[1;32m   1114\u001b[0m                 \u001b[38;5;28;01mreturn\u001b[39;00m pointer_path\n\u001b[1;32m   1116\u001b[0m     \u001b[38;5;66;03m# Otherwise, raise appropriate error\u001b[39;00m\n\u001b[0;32m-> 1117\u001b[0m     \u001b[43m_raise_on_head_call_error\u001b[49m\u001b[43m(\u001b[49m\u001b[43mhead_call_error\u001b[49m\u001b[43m,\u001b[49m\u001b[43m \u001b[49m\u001b[43mforce_download\u001b[49m\u001b[43m,\u001b[49m\u001b[43m \u001b[49m\u001b[43mlocal_files_only\u001b[49m\u001b[43m)\u001b[49m\n\u001b[1;32m   1119\u001b[0m \u001b[38;5;66;03m# From now on, etag, commit_hash, url and size are not None.\u001b[39;00m\n\u001b[1;32m   1120\u001b[0m \u001b[38;5;28;01massert\u001b[39;00m etag \u001b[38;5;129;01mis\u001b[39;00m \u001b[38;5;129;01mnot\u001b[39;00m \u001b[38;5;28;01mNone\u001b[39;00m, \u001b[38;5;124m\"\u001b[39m\u001b[38;5;124metag must have been retrieved from server\u001b[39m\u001b[38;5;124m\"\u001b[39m\n",
      "File \u001b[0;32m~/fmproject/.venv/lib/python3.12/site-packages/huggingface_hub/file_download.py:1661\u001b[0m, in \u001b[0;36m_raise_on_head_call_error\u001b[0;34m(head_call_error, force_download, local_files_only)\u001b[0m\n\u001b[1;32m   1658\u001b[0m     \u001b[38;5;28;01mraise\u001b[39;00m head_call_error\n\u001b[1;32m   1659\u001b[0m \u001b[38;5;28;01melse\u001b[39;00m:\n\u001b[1;32m   1660\u001b[0m     \u001b[38;5;66;03m# Otherwise: most likely a connection issue or Hub downtime => let's warn the user\u001b[39;00m\n\u001b[0;32m-> 1661\u001b[0m     \u001b[38;5;28;01mraise\u001b[39;00m LocalEntryNotFoundError(\n\u001b[1;32m   1662\u001b[0m         \u001b[38;5;124m\"\u001b[39m\u001b[38;5;124mAn error happened while trying to locate the file on the Hub and we cannot find the requested files\u001b[39m\u001b[38;5;124m\"\u001b[39m\n\u001b[1;32m   1663\u001b[0m         \u001b[38;5;124m\"\u001b[39m\u001b[38;5;124m in the local cache. Please check your connection and try again or make sure your Internet connection\u001b[39m\u001b[38;5;124m\"\u001b[39m\n\u001b[1;32m   1664\u001b[0m         \u001b[38;5;124m\"\u001b[39m\u001b[38;5;124m is on.\u001b[39m\u001b[38;5;124m\"\u001b[39m\n\u001b[1;32m   1665\u001b[0m     ) \u001b[38;5;28;01mfrom\u001b[39;00m\u001b[38;5;250m \u001b[39m\u001b[38;5;21;01mhead_call_error\u001b[39;00m\n",
      "\u001b[0;31mLocalEntryNotFoundError\u001b[0m: An error happened while trying to locate the file on the Hub and we cannot find the requested files in the local cache. Please check your connection and try again or make sure your Internet connection is on."
     ]
    }
   ],
   "source": [
    "clf.fit(X_train, y_train)  # this is cheap"
   ]
  },
  {
   "cell_type": "code",
   "execution_count": 9,
   "id": "1cbe6ebd",
   "metadata": {},
   "outputs": [
    {
     "name": "stdout",
     "output_type": "stream",
     "text": [
      "INFO: You are downloading 'tabicl-classifier-v1.1-0506.ckpt', the latest best-performing version of TabICL.\n",
      "To reproduce results from the original paper, please use 'tabicl-classifier-v1-0208.ckpt'.\n",
      "\n",
      "Checkpoint 'tabicl-classifier-v1.1-0506.ckpt' not cached.\n",
      " Downloading from Hugging Face Hub (jingang/TabICL-clf).\n",
      "\n"
     ]
    },
    {
     "ename": "LocalEntryNotFoundError",
     "evalue": "An error happened while trying to locate the file on the Hub and we cannot find the requested files in the local cache. Please check your connection and try again or make sure your Internet connection is on.",
     "output_type": "error",
     "traceback": [
      "\u001b[0;31m---------------------------------------------------------------------------\u001b[0m",
      "\u001b[0;31mLocalEntryNotFoundError\u001b[0m                   Traceback (most recent call last)",
      "File \u001b[0;32m~/fmproject/.venv/lib/python3.12/site-packages/tabicl/sklearn/classifier.py:283\u001b[0m, in \u001b[0;36mTabICLClassifier._load_model\u001b[0;34m(self)\u001b[0m\n\u001b[1;32m    282\u001b[0m \u001b[38;5;28;01mtry\u001b[39;00m:\n\u001b[0;32m--> 283\u001b[0m     model_path_ \u001b[38;5;241m=\u001b[39m Path(\u001b[43mhf_hub_download\u001b[49m\u001b[43m(\u001b[49m\u001b[43mrepo_id\u001b[49m\u001b[38;5;241;43m=\u001b[39;49m\u001b[43mrepo_id\u001b[49m\u001b[43m,\u001b[49m\u001b[43m \u001b[49m\u001b[43mfilename\u001b[49m\u001b[38;5;241;43m=\u001b[39;49m\u001b[43mfilename\u001b[49m\u001b[43m,\u001b[49m\u001b[43m \u001b[49m\u001b[43mlocal_files_only\u001b[49m\u001b[38;5;241;43m=\u001b[39;49m\u001b[38;5;28;43;01mTrue\u001b[39;49;00m\u001b[43m)\u001b[49m)\n\u001b[1;32m    284\u001b[0m \u001b[38;5;28;01mexcept\u001b[39;00m LocalEntryNotFoundError:\n",
      "File \u001b[0;32m~/fmproject/.venv/lib/python3.12/site-packages/huggingface_hub/utils/_validators.py:114\u001b[0m, in \u001b[0;36mvalidate_hf_hub_args.<locals>._inner_fn\u001b[0;34m(*args, **kwargs)\u001b[0m\n\u001b[1;32m    112\u001b[0m     kwargs \u001b[38;5;241m=\u001b[39m smoothly_deprecate_use_auth_token(fn_name\u001b[38;5;241m=\u001b[39mfn\u001b[38;5;241m.\u001b[39m\u001b[38;5;18m__name__\u001b[39m, has_token\u001b[38;5;241m=\u001b[39mhas_token, kwargs\u001b[38;5;241m=\u001b[39mkwargs)\n\u001b[0;32m--> 114\u001b[0m \u001b[38;5;28;01mreturn\u001b[39;00m \u001b[43mfn\u001b[49m\u001b[43m(\u001b[49m\u001b[38;5;241;43m*\u001b[39;49m\u001b[43margs\u001b[49m\u001b[43m,\u001b[49m\u001b[43m \u001b[49m\u001b[38;5;241;43m*\u001b[39;49m\u001b[38;5;241;43m*\u001b[39;49m\u001b[43mkwargs\u001b[49m\u001b[43m)\u001b[49m\n",
      "File \u001b[0;32m~/fmproject/.venv/lib/python3.12/site-packages/huggingface_hub/file_download.py:1010\u001b[0m, in \u001b[0;36mhf_hub_download\u001b[0;34m(repo_id, filename, subfolder, repo_type, revision, library_name, library_version, cache_dir, local_dir, user_agent, force_download, proxies, etag_timeout, token, local_files_only, headers, endpoint, resume_download, force_filename, local_dir_use_symlinks)\u001b[0m\n\u001b[1;32m   1009\u001b[0m \u001b[38;5;28;01melse\u001b[39;00m:\n\u001b[0;32m-> 1010\u001b[0m     \u001b[38;5;28;01mreturn\u001b[39;00m \u001b[43m_hf_hub_download_to_cache_dir\u001b[49m\u001b[43m(\u001b[49m\n\u001b[1;32m   1011\u001b[0m \u001b[43m        \u001b[49m\u001b[38;5;66;43;03m# Destination\u001b[39;49;00m\n\u001b[1;32m   1012\u001b[0m \u001b[43m        \u001b[49m\u001b[43mcache_dir\u001b[49m\u001b[38;5;241;43m=\u001b[39;49m\u001b[43mcache_dir\u001b[49m\u001b[43m,\u001b[49m\n\u001b[1;32m   1013\u001b[0m \u001b[43m        \u001b[49m\u001b[38;5;66;43;03m# File info\u001b[39;49;00m\n\u001b[1;32m   1014\u001b[0m \u001b[43m        \u001b[49m\u001b[43mrepo_id\u001b[49m\u001b[38;5;241;43m=\u001b[39;49m\u001b[43mrepo_id\u001b[49m\u001b[43m,\u001b[49m\n\u001b[1;32m   1015\u001b[0m \u001b[43m        \u001b[49m\u001b[43mfilename\u001b[49m\u001b[38;5;241;43m=\u001b[39;49m\u001b[43mfilename\u001b[49m\u001b[43m,\u001b[49m\n\u001b[1;32m   1016\u001b[0m \u001b[43m        \u001b[49m\u001b[43mrepo_type\u001b[49m\u001b[38;5;241;43m=\u001b[39;49m\u001b[43mrepo_type\u001b[49m\u001b[43m,\u001b[49m\n\u001b[1;32m   1017\u001b[0m \u001b[43m        \u001b[49m\u001b[43mrevision\u001b[49m\u001b[38;5;241;43m=\u001b[39;49m\u001b[43mrevision\u001b[49m\u001b[43m,\u001b[49m\n\u001b[1;32m   1018\u001b[0m \u001b[43m        \u001b[49m\u001b[38;5;66;43;03m# HTTP info\u001b[39;49;00m\n\u001b[1;32m   1019\u001b[0m \u001b[43m        \u001b[49m\u001b[43mendpoint\u001b[49m\u001b[38;5;241;43m=\u001b[39;49m\u001b[43mendpoint\u001b[49m\u001b[43m,\u001b[49m\n\u001b[1;32m   1020\u001b[0m \u001b[43m        \u001b[49m\u001b[43metag_timeout\u001b[49m\u001b[38;5;241;43m=\u001b[39;49m\u001b[43metag_timeout\u001b[49m\u001b[43m,\u001b[49m\n\u001b[1;32m   1021\u001b[0m \u001b[43m        \u001b[49m\u001b[43mheaders\u001b[49m\u001b[38;5;241;43m=\u001b[39;49m\u001b[43mhf_headers\u001b[49m\u001b[43m,\u001b[49m\n\u001b[1;32m   1022\u001b[0m \u001b[43m        \u001b[49m\u001b[43mproxies\u001b[49m\u001b[38;5;241;43m=\u001b[39;49m\u001b[43mproxies\u001b[49m\u001b[43m,\u001b[49m\n\u001b[1;32m   1023\u001b[0m \u001b[43m        \u001b[49m\u001b[43mtoken\u001b[49m\u001b[38;5;241;43m=\u001b[39;49m\u001b[43mtoken\u001b[49m\u001b[43m,\u001b[49m\n\u001b[1;32m   1024\u001b[0m \u001b[43m        \u001b[49m\u001b[38;5;66;43;03m# Additional options\u001b[39;49;00m\n\u001b[1;32m   1025\u001b[0m \u001b[43m        \u001b[49m\u001b[43mlocal_files_only\u001b[49m\u001b[38;5;241;43m=\u001b[39;49m\u001b[43mlocal_files_only\u001b[49m\u001b[43m,\u001b[49m\n\u001b[1;32m   1026\u001b[0m \u001b[43m        \u001b[49m\u001b[43mforce_download\u001b[49m\u001b[38;5;241;43m=\u001b[39;49m\u001b[43mforce_download\u001b[49m\u001b[43m,\u001b[49m\n\u001b[1;32m   1027\u001b[0m \u001b[43m    \u001b[49m\u001b[43m)\u001b[49m\n",
      "File \u001b[0;32m~/fmproject/.venv/lib/python3.12/site-packages/huggingface_hub/file_download.py:1117\u001b[0m, in \u001b[0;36m_hf_hub_download_to_cache_dir\u001b[0;34m(cache_dir, repo_id, filename, repo_type, revision, endpoint, etag_timeout, headers, proxies, token, local_files_only, force_download)\u001b[0m\n\u001b[1;32m   1116\u001b[0m     \u001b[38;5;66;03m# Otherwise, raise appropriate error\u001b[39;00m\n\u001b[0;32m-> 1117\u001b[0m     \u001b[43m_raise_on_head_call_error\u001b[49m\u001b[43m(\u001b[49m\u001b[43mhead_call_error\u001b[49m\u001b[43m,\u001b[49m\u001b[43m \u001b[49m\u001b[43mforce_download\u001b[49m\u001b[43m,\u001b[49m\u001b[43m \u001b[49m\u001b[43mlocal_files_only\u001b[49m\u001b[43m)\u001b[49m\n\u001b[1;32m   1119\u001b[0m \u001b[38;5;66;03m# From now on, etag, commit_hash, url and size are not None.\u001b[39;00m\n",
      "File \u001b[0;32m~/fmproject/.venv/lib/python3.12/site-packages/huggingface_hub/file_download.py:1649\u001b[0m, in \u001b[0;36m_raise_on_head_call_error\u001b[0;34m(head_call_error, force_download, local_files_only)\u001b[0m\n\u001b[1;32m   1648\u001b[0m \u001b[38;5;28;01mif\u001b[39;00m local_files_only:\n\u001b[0;32m-> 1649\u001b[0m     \u001b[38;5;28;01mraise\u001b[39;00m LocalEntryNotFoundError(\n\u001b[1;32m   1650\u001b[0m         \u001b[38;5;124m\"\u001b[39m\u001b[38;5;124mCannot find the requested files in the disk cache and outgoing traffic has been disabled. To enable\u001b[39m\u001b[38;5;124m\"\u001b[39m\n\u001b[1;32m   1651\u001b[0m         \u001b[38;5;124m\"\u001b[39m\u001b[38;5;124m hf.co look-ups and downloads online, set \u001b[39m\u001b[38;5;124m'\u001b[39m\u001b[38;5;124mlocal_files_only\u001b[39m\u001b[38;5;124m'\u001b[39m\u001b[38;5;124m to False.\u001b[39m\u001b[38;5;124m\"\u001b[39m\n\u001b[1;32m   1652\u001b[0m     )\n\u001b[1;32m   1653\u001b[0m \u001b[38;5;28;01melif\u001b[39;00m \u001b[38;5;28misinstance\u001b[39m(head_call_error, (RepositoryNotFoundError, GatedRepoError)) \u001b[38;5;129;01mor\u001b[39;00m (\n\u001b[1;32m   1654\u001b[0m     \u001b[38;5;28misinstance\u001b[39m(head_call_error, HfHubHTTPError) \u001b[38;5;129;01mand\u001b[39;00m head_call_error\u001b[38;5;241m.\u001b[39mresponse\u001b[38;5;241m.\u001b[39mstatus_code \u001b[38;5;241m==\u001b[39m \u001b[38;5;241m401\u001b[39m\n\u001b[1;32m   1655\u001b[0m ):\n\u001b[1;32m   1656\u001b[0m     \u001b[38;5;66;03m# Repo not found or gated => let's raise the actual error\u001b[39;00m\n\u001b[1;32m   1657\u001b[0m     \u001b[38;5;66;03m# Unauthorized => likely a token issue => let's raise the actual error\u001b[39;00m\n",
      "\u001b[0;31mLocalEntryNotFoundError\u001b[0m: Cannot find the requested files in the disk cache and outgoing traffic has been disabled. To enable hf.co look-ups and downloads online, set 'local_files_only' to False.",
      "\nDuring handling of the above exception, another exception occurred:\n",
      "\u001b[0;31mTimeoutError\u001b[0m                              Traceback (most recent call last)",
      "File \u001b[0;32m~/fmproject/.venv/lib/python3.12/site-packages/urllib3/connection.py:198\u001b[0m, in \u001b[0;36mHTTPConnection._new_conn\u001b[0;34m(self)\u001b[0m\n\u001b[1;32m    197\u001b[0m \u001b[38;5;28;01mtry\u001b[39;00m:\n\u001b[0;32m--> 198\u001b[0m     sock \u001b[38;5;241m=\u001b[39m \u001b[43mconnection\u001b[49m\u001b[38;5;241;43m.\u001b[39;49m\u001b[43mcreate_connection\u001b[49m\u001b[43m(\u001b[49m\n\u001b[1;32m    199\u001b[0m \u001b[43m        \u001b[49m\u001b[43m(\u001b[49m\u001b[38;5;28;43mself\u001b[39;49m\u001b[38;5;241;43m.\u001b[39;49m\u001b[43m_dns_host\u001b[49m\u001b[43m,\u001b[49m\u001b[43m \u001b[49m\u001b[38;5;28;43mself\u001b[39;49m\u001b[38;5;241;43m.\u001b[39;49m\u001b[43mport\u001b[49m\u001b[43m)\u001b[49m\u001b[43m,\u001b[49m\n\u001b[1;32m    200\u001b[0m \u001b[43m        \u001b[49m\u001b[38;5;28;43mself\u001b[39;49m\u001b[38;5;241;43m.\u001b[39;49m\u001b[43mtimeout\u001b[49m\u001b[43m,\u001b[49m\n\u001b[1;32m    201\u001b[0m \u001b[43m        \u001b[49m\u001b[43msource_address\u001b[49m\u001b[38;5;241;43m=\u001b[39;49m\u001b[38;5;28;43mself\u001b[39;49m\u001b[38;5;241;43m.\u001b[39;49m\u001b[43msource_address\u001b[49m\u001b[43m,\u001b[49m\n\u001b[1;32m    202\u001b[0m \u001b[43m        \u001b[49m\u001b[43msocket_options\u001b[49m\u001b[38;5;241;43m=\u001b[39;49m\u001b[38;5;28;43mself\u001b[39;49m\u001b[38;5;241;43m.\u001b[39;49m\u001b[43msocket_options\u001b[49m\u001b[43m,\u001b[49m\n\u001b[1;32m    203\u001b[0m \u001b[43m    \u001b[49m\u001b[43m)\u001b[49m\n\u001b[1;32m    204\u001b[0m \u001b[38;5;28;01mexcept\u001b[39;00m socket\u001b[38;5;241m.\u001b[39mgaierror \u001b[38;5;28;01mas\u001b[39;00m e:\n",
      "File \u001b[0;32m~/fmproject/.venv/lib/python3.12/site-packages/urllib3/util/connection.py:85\u001b[0m, in \u001b[0;36mcreate_connection\u001b[0;34m(address, timeout, source_address, socket_options)\u001b[0m\n\u001b[1;32m     84\u001b[0m \u001b[38;5;28;01mtry\u001b[39;00m:\n\u001b[0;32m---> 85\u001b[0m     \u001b[38;5;28;01mraise\u001b[39;00m err\n\u001b[1;32m     86\u001b[0m \u001b[38;5;28;01mfinally\u001b[39;00m:\n\u001b[1;32m     87\u001b[0m     \u001b[38;5;66;03m# Break explicitly a reference cycle\u001b[39;00m\n",
      "File \u001b[0;32m~/fmproject/.venv/lib/python3.12/site-packages/urllib3/util/connection.py:73\u001b[0m, in \u001b[0;36mcreate_connection\u001b[0;34m(address, timeout, source_address, socket_options)\u001b[0m\n\u001b[1;32m     72\u001b[0m     sock\u001b[38;5;241m.\u001b[39mbind(source_address)\n\u001b[0;32m---> 73\u001b[0m \u001b[43msock\u001b[49m\u001b[38;5;241;43m.\u001b[39;49m\u001b[43mconnect\u001b[49m\u001b[43m(\u001b[49m\u001b[43msa\u001b[49m\u001b[43m)\u001b[49m\n\u001b[1;32m     74\u001b[0m \u001b[38;5;66;03m# Break explicitly a reference cycle\u001b[39;00m\n",
      "\u001b[0;31mTimeoutError\u001b[0m: timed out",
      "\nThe above exception was the direct cause of the following exception:\n",
      "\u001b[0;31mConnectTimeoutError\u001b[0m                       Traceback (most recent call last)",
      "File \u001b[0;32m~/fmproject/.venv/lib/python3.12/site-packages/urllib3/connectionpool.py:787\u001b[0m, in \u001b[0;36mHTTPConnectionPool.urlopen\u001b[0;34m(self, method, url, body, headers, retries, redirect, assert_same_host, timeout, pool_timeout, release_conn, chunked, body_pos, preload_content, decode_content, **response_kw)\u001b[0m\n\u001b[1;32m    786\u001b[0m \u001b[38;5;66;03m# Make the request on the HTTPConnection object\u001b[39;00m\n\u001b[0;32m--> 787\u001b[0m response \u001b[38;5;241m=\u001b[39m \u001b[38;5;28;43mself\u001b[39;49m\u001b[38;5;241;43m.\u001b[39;49m\u001b[43m_make_request\u001b[49m\u001b[43m(\u001b[49m\n\u001b[1;32m    788\u001b[0m \u001b[43m    \u001b[49m\u001b[43mconn\u001b[49m\u001b[43m,\u001b[49m\n\u001b[1;32m    789\u001b[0m \u001b[43m    \u001b[49m\u001b[43mmethod\u001b[49m\u001b[43m,\u001b[49m\n\u001b[1;32m    790\u001b[0m \u001b[43m    \u001b[49m\u001b[43murl\u001b[49m\u001b[43m,\u001b[49m\n\u001b[1;32m    791\u001b[0m \u001b[43m    \u001b[49m\u001b[43mtimeout\u001b[49m\u001b[38;5;241;43m=\u001b[39;49m\u001b[43mtimeout_obj\u001b[49m\u001b[43m,\u001b[49m\n\u001b[1;32m    792\u001b[0m \u001b[43m    \u001b[49m\u001b[43mbody\u001b[49m\u001b[38;5;241;43m=\u001b[39;49m\u001b[43mbody\u001b[49m\u001b[43m,\u001b[49m\n\u001b[1;32m    793\u001b[0m \u001b[43m    \u001b[49m\u001b[43mheaders\u001b[49m\u001b[38;5;241;43m=\u001b[39;49m\u001b[43mheaders\u001b[49m\u001b[43m,\u001b[49m\n\u001b[1;32m    794\u001b[0m \u001b[43m    \u001b[49m\u001b[43mchunked\u001b[49m\u001b[38;5;241;43m=\u001b[39;49m\u001b[43mchunked\u001b[49m\u001b[43m,\u001b[49m\n\u001b[1;32m    795\u001b[0m \u001b[43m    \u001b[49m\u001b[43mretries\u001b[49m\u001b[38;5;241;43m=\u001b[39;49m\u001b[43mretries\u001b[49m\u001b[43m,\u001b[49m\n\u001b[1;32m    796\u001b[0m \u001b[43m    \u001b[49m\u001b[43mresponse_conn\u001b[49m\u001b[38;5;241;43m=\u001b[39;49m\u001b[43mresponse_conn\u001b[49m\u001b[43m,\u001b[49m\n\u001b[1;32m    797\u001b[0m \u001b[43m    \u001b[49m\u001b[43mpreload_content\u001b[49m\u001b[38;5;241;43m=\u001b[39;49m\u001b[43mpreload_content\u001b[49m\u001b[43m,\u001b[49m\n\u001b[1;32m    798\u001b[0m \u001b[43m    \u001b[49m\u001b[43mdecode_content\u001b[49m\u001b[38;5;241;43m=\u001b[39;49m\u001b[43mdecode_content\u001b[49m\u001b[43m,\u001b[49m\n\u001b[1;32m    799\u001b[0m \u001b[43m    \u001b[49m\u001b[38;5;241;43m*\u001b[39;49m\u001b[38;5;241;43m*\u001b[39;49m\u001b[43mresponse_kw\u001b[49m\u001b[43m,\u001b[49m\n\u001b[1;32m    800\u001b[0m \u001b[43m\u001b[49m\u001b[43m)\u001b[49m\n\u001b[1;32m    802\u001b[0m \u001b[38;5;66;03m# Everything went great!\u001b[39;00m\n",
      "File \u001b[0;32m~/fmproject/.venv/lib/python3.12/site-packages/urllib3/connectionpool.py:488\u001b[0m, in \u001b[0;36mHTTPConnectionPool._make_request\u001b[0;34m(self, conn, method, url, body, headers, retries, timeout, chunked, response_conn, preload_content, decode_content, enforce_content_length)\u001b[0m\n\u001b[1;32m    487\u001b[0m         new_e \u001b[38;5;241m=\u001b[39m _wrap_proxy_error(new_e, conn\u001b[38;5;241m.\u001b[39mproxy\u001b[38;5;241m.\u001b[39mscheme)\n\u001b[0;32m--> 488\u001b[0m     \u001b[38;5;28;01mraise\u001b[39;00m new_e\n\u001b[1;32m    490\u001b[0m \u001b[38;5;66;03m# conn.request() calls http.client.*.request, not the method in\u001b[39;00m\n\u001b[1;32m    491\u001b[0m \u001b[38;5;66;03m# urllib3.request. It also calls makefile (recv) on the socket.\u001b[39;00m\n",
      "File \u001b[0;32m~/fmproject/.venv/lib/python3.12/site-packages/urllib3/connectionpool.py:464\u001b[0m, in \u001b[0;36mHTTPConnectionPool._make_request\u001b[0;34m(self, conn, method, url, body, headers, retries, timeout, chunked, response_conn, preload_content, decode_content, enforce_content_length)\u001b[0m\n\u001b[1;32m    463\u001b[0m \u001b[38;5;28;01mtry\u001b[39;00m:\n\u001b[0;32m--> 464\u001b[0m     \u001b[38;5;28;43mself\u001b[39;49m\u001b[38;5;241;43m.\u001b[39;49m\u001b[43m_validate_conn\u001b[49m\u001b[43m(\u001b[49m\u001b[43mconn\u001b[49m\u001b[43m)\u001b[49m\n\u001b[1;32m    465\u001b[0m \u001b[38;5;28;01mexcept\u001b[39;00m (SocketTimeout, BaseSSLError) \u001b[38;5;28;01mas\u001b[39;00m e:\n",
      "File \u001b[0;32m~/fmproject/.venv/lib/python3.12/site-packages/urllib3/connectionpool.py:1093\u001b[0m, in \u001b[0;36mHTTPSConnectionPool._validate_conn\u001b[0;34m(self, conn)\u001b[0m\n\u001b[1;32m   1092\u001b[0m \u001b[38;5;28;01mif\u001b[39;00m conn\u001b[38;5;241m.\u001b[39mis_closed:\n\u001b[0;32m-> 1093\u001b[0m     \u001b[43mconn\u001b[49m\u001b[38;5;241;43m.\u001b[39;49m\u001b[43mconnect\u001b[49m\u001b[43m(\u001b[49m\u001b[43m)\u001b[49m\n\u001b[1;32m   1095\u001b[0m \u001b[38;5;66;03m# TODO revise this, see https://github.com/urllib3/urllib3/issues/2791\u001b[39;00m\n",
      "File \u001b[0;32m~/fmproject/.venv/lib/python3.12/site-packages/urllib3/connection.py:753\u001b[0m, in \u001b[0;36mHTTPSConnection.connect\u001b[0;34m(self)\u001b[0m\n\u001b[1;32m    752\u001b[0m sock: socket\u001b[38;5;241m.\u001b[39msocket \u001b[38;5;241m|\u001b[39m ssl\u001b[38;5;241m.\u001b[39mSSLSocket\n\u001b[0;32m--> 753\u001b[0m \u001b[38;5;28mself\u001b[39m\u001b[38;5;241m.\u001b[39msock \u001b[38;5;241m=\u001b[39m sock \u001b[38;5;241m=\u001b[39m \u001b[38;5;28;43mself\u001b[39;49m\u001b[38;5;241;43m.\u001b[39;49m\u001b[43m_new_conn\u001b[49m\u001b[43m(\u001b[49m\u001b[43m)\u001b[49m\n\u001b[1;32m    754\u001b[0m server_hostname: \u001b[38;5;28mstr\u001b[39m \u001b[38;5;241m=\u001b[39m \u001b[38;5;28mself\u001b[39m\u001b[38;5;241m.\u001b[39mhost\n",
      "File \u001b[0;32m~/fmproject/.venv/lib/python3.12/site-packages/urllib3/connection.py:207\u001b[0m, in \u001b[0;36mHTTPConnection._new_conn\u001b[0;34m(self)\u001b[0m\n\u001b[1;32m    206\u001b[0m \u001b[38;5;28;01mexcept\u001b[39;00m SocketTimeout \u001b[38;5;28;01mas\u001b[39;00m e:\n\u001b[0;32m--> 207\u001b[0m     \u001b[38;5;28;01mraise\u001b[39;00m ConnectTimeoutError(\n\u001b[1;32m    208\u001b[0m         \u001b[38;5;28mself\u001b[39m,\n\u001b[1;32m    209\u001b[0m         \u001b[38;5;124mf\u001b[39m\u001b[38;5;124m\"\u001b[39m\u001b[38;5;124mConnection to \u001b[39m\u001b[38;5;132;01m{\u001b[39;00m\u001b[38;5;28mself\u001b[39m\u001b[38;5;241m.\u001b[39mhost\u001b[38;5;132;01m}\u001b[39;00m\u001b[38;5;124m timed out. (connect timeout=\u001b[39m\u001b[38;5;132;01m{\u001b[39;00m\u001b[38;5;28mself\u001b[39m\u001b[38;5;241m.\u001b[39mtimeout\u001b[38;5;132;01m}\u001b[39;00m\u001b[38;5;124m)\u001b[39m\u001b[38;5;124m\"\u001b[39m,\n\u001b[1;32m    210\u001b[0m     ) \u001b[38;5;28;01mfrom\u001b[39;00m\u001b[38;5;250m \u001b[39m\u001b[38;5;21;01me\u001b[39;00m\n\u001b[1;32m    212\u001b[0m \u001b[38;5;28;01mexcept\u001b[39;00m \u001b[38;5;167;01mOSError\u001b[39;00m \u001b[38;5;28;01mas\u001b[39;00m e:\n",
      "\u001b[0;31mConnectTimeoutError\u001b[0m: (<urllib3.connection.HTTPSConnection object at 0x7f5de742bd40>, 'Connection to huggingface.co timed out. (connect timeout=10)')",
      "\nThe above exception was the direct cause of the following exception:\n",
      "\u001b[0;31mMaxRetryError\u001b[0m                             Traceback (most recent call last)",
      "File \u001b[0;32m~/fmproject/.venv/lib/python3.12/site-packages/requests/adapters.py:667\u001b[0m, in \u001b[0;36mHTTPAdapter.send\u001b[0;34m(self, request, stream, timeout, verify, cert, proxies)\u001b[0m\n\u001b[1;32m    666\u001b[0m \u001b[38;5;28;01mtry\u001b[39;00m:\n\u001b[0;32m--> 667\u001b[0m     resp \u001b[38;5;241m=\u001b[39m \u001b[43mconn\u001b[49m\u001b[38;5;241;43m.\u001b[39;49m\u001b[43murlopen\u001b[49m\u001b[43m(\u001b[49m\n\u001b[1;32m    668\u001b[0m \u001b[43m        \u001b[49m\u001b[43mmethod\u001b[49m\u001b[38;5;241;43m=\u001b[39;49m\u001b[43mrequest\u001b[49m\u001b[38;5;241;43m.\u001b[39;49m\u001b[43mmethod\u001b[49m\u001b[43m,\u001b[49m\n\u001b[1;32m    669\u001b[0m \u001b[43m        \u001b[49m\u001b[43murl\u001b[49m\u001b[38;5;241;43m=\u001b[39;49m\u001b[43murl\u001b[49m\u001b[43m,\u001b[49m\n\u001b[1;32m    670\u001b[0m \u001b[43m        \u001b[49m\u001b[43mbody\u001b[49m\u001b[38;5;241;43m=\u001b[39;49m\u001b[43mrequest\u001b[49m\u001b[38;5;241;43m.\u001b[39;49m\u001b[43mbody\u001b[49m\u001b[43m,\u001b[49m\n\u001b[1;32m    671\u001b[0m \u001b[43m        \u001b[49m\u001b[43mheaders\u001b[49m\u001b[38;5;241;43m=\u001b[39;49m\u001b[43mrequest\u001b[49m\u001b[38;5;241;43m.\u001b[39;49m\u001b[43mheaders\u001b[49m\u001b[43m,\u001b[49m\n\u001b[1;32m    672\u001b[0m \u001b[43m        \u001b[49m\u001b[43mredirect\u001b[49m\u001b[38;5;241;43m=\u001b[39;49m\u001b[38;5;28;43;01mFalse\u001b[39;49;00m\u001b[43m,\u001b[49m\n\u001b[1;32m    673\u001b[0m \u001b[43m        \u001b[49m\u001b[43massert_same_host\u001b[49m\u001b[38;5;241;43m=\u001b[39;49m\u001b[38;5;28;43;01mFalse\u001b[39;49;00m\u001b[43m,\u001b[49m\n\u001b[1;32m    674\u001b[0m \u001b[43m        \u001b[49m\u001b[43mpreload_content\u001b[49m\u001b[38;5;241;43m=\u001b[39;49m\u001b[38;5;28;43;01mFalse\u001b[39;49;00m\u001b[43m,\u001b[49m\n\u001b[1;32m    675\u001b[0m \u001b[43m        \u001b[49m\u001b[43mdecode_content\u001b[49m\u001b[38;5;241;43m=\u001b[39;49m\u001b[38;5;28;43;01mFalse\u001b[39;49;00m\u001b[43m,\u001b[49m\n\u001b[1;32m    676\u001b[0m \u001b[43m        \u001b[49m\u001b[43mretries\u001b[49m\u001b[38;5;241;43m=\u001b[39;49m\u001b[38;5;28;43mself\u001b[39;49m\u001b[38;5;241;43m.\u001b[39;49m\u001b[43mmax_retries\u001b[49m\u001b[43m,\u001b[49m\n\u001b[1;32m    677\u001b[0m \u001b[43m        \u001b[49m\u001b[43mtimeout\u001b[49m\u001b[38;5;241;43m=\u001b[39;49m\u001b[43mtimeout\u001b[49m\u001b[43m,\u001b[49m\n\u001b[1;32m    678\u001b[0m \u001b[43m        \u001b[49m\u001b[43mchunked\u001b[49m\u001b[38;5;241;43m=\u001b[39;49m\u001b[43mchunked\u001b[49m\u001b[43m,\u001b[49m\n\u001b[1;32m    679\u001b[0m \u001b[43m    \u001b[49m\u001b[43m)\u001b[49m\n\u001b[1;32m    681\u001b[0m \u001b[38;5;28;01mexcept\u001b[39;00m (ProtocolError, \u001b[38;5;167;01mOSError\u001b[39;00m) \u001b[38;5;28;01mas\u001b[39;00m err:\n",
      "File \u001b[0;32m~/fmproject/.venv/lib/python3.12/site-packages/urllib3/connectionpool.py:841\u001b[0m, in \u001b[0;36mHTTPConnectionPool.urlopen\u001b[0;34m(self, method, url, body, headers, retries, redirect, assert_same_host, timeout, pool_timeout, release_conn, chunked, body_pos, preload_content, decode_content, **response_kw)\u001b[0m\n\u001b[1;32m    839\u001b[0m     new_e \u001b[38;5;241m=\u001b[39m ProtocolError(\u001b[38;5;124m\"\u001b[39m\u001b[38;5;124mConnection aborted.\u001b[39m\u001b[38;5;124m\"\u001b[39m, new_e)\n\u001b[0;32m--> 841\u001b[0m retries \u001b[38;5;241m=\u001b[39m \u001b[43mretries\u001b[49m\u001b[38;5;241;43m.\u001b[39;49m\u001b[43mincrement\u001b[49m\u001b[43m(\u001b[49m\n\u001b[1;32m    842\u001b[0m \u001b[43m    \u001b[49m\u001b[43mmethod\u001b[49m\u001b[43m,\u001b[49m\u001b[43m \u001b[49m\u001b[43murl\u001b[49m\u001b[43m,\u001b[49m\u001b[43m \u001b[49m\u001b[43merror\u001b[49m\u001b[38;5;241;43m=\u001b[39;49m\u001b[43mnew_e\u001b[49m\u001b[43m,\u001b[49m\u001b[43m \u001b[49m\u001b[43m_pool\u001b[49m\u001b[38;5;241;43m=\u001b[39;49m\u001b[38;5;28;43mself\u001b[39;49m\u001b[43m,\u001b[49m\u001b[43m \u001b[49m\u001b[43m_stacktrace\u001b[49m\u001b[38;5;241;43m=\u001b[39;49m\u001b[43msys\u001b[49m\u001b[38;5;241;43m.\u001b[39;49m\u001b[43mexc_info\u001b[49m\u001b[43m(\u001b[49m\u001b[43m)\u001b[49m\u001b[43m[\u001b[49m\u001b[38;5;241;43m2\u001b[39;49m\u001b[43m]\u001b[49m\n\u001b[1;32m    843\u001b[0m \u001b[43m\u001b[49m\u001b[43m)\u001b[49m\n\u001b[1;32m    844\u001b[0m retries\u001b[38;5;241m.\u001b[39msleep()\n",
      "File \u001b[0;32m~/fmproject/.venv/lib/python3.12/site-packages/urllib3/util/retry.py:519\u001b[0m, in \u001b[0;36mRetry.increment\u001b[0;34m(self, method, url, response, error, _pool, _stacktrace)\u001b[0m\n\u001b[1;32m    518\u001b[0m     reason \u001b[38;5;241m=\u001b[39m error \u001b[38;5;129;01mor\u001b[39;00m ResponseError(cause)\n\u001b[0;32m--> 519\u001b[0m     \u001b[38;5;28;01mraise\u001b[39;00m MaxRetryError(_pool, url, reason) \u001b[38;5;28;01mfrom\u001b[39;00m\u001b[38;5;250m \u001b[39m\u001b[38;5;21;01mreason\u001b[39;00m  \u001b[38;5;66;03m# type: ignore[arg-type]\u001b[39;00m\n\u001b[1;32m    521\u001b[0m log\u001b[38;5;241m.\u001b[39mdebug(\u001b[38;5;124m\"\u001b[39m\u001b[38;5;124mIncremented Retry for (url=\u001b[39m\u001b[38;5;124m'\u001b[39m\u001b[38;5;132;01m%s\u001b[39;00m\u001b[38;5;124m'\u001b[39m\u001b[38;5;124m): \u001b[39m\u001b[38;5;132;01m%r\u001b[39;00m\u001b[38;5;124m\"\u001b[39m, url, new_retry)\n",
      "\u001b[0;31mMaxRetryError\u001b[0m: HTTPSConnectionPool(host='huggingface.co', port=443): Max retries exceeded with url: /jingang/TabICL-clf/resolve/main/tabicl-classifier-v1.1-0506.ckpt (Caused by ConnectTimeoutError(<urllib3.connection.HTTPSConnection object at 0x7f5de742bd40>, 'Connection to huggingface.co timed out. (connect timeout=10)'))",
      "\nDuring handling of the above exception, another exception occurred:\n",
      "\u001b[0;31mConnectTimeout\u001b[0m                            Traceback (most recent call last)",
      "File \u001b[0;32m~/fmproject/.venv/lib/python3.12/site-packages/huggingface_hub/file_download.py:1546\u001b[0m, in \u001b[0;36m_get_metadata_or_catch_error\u001b[0;34m(repo_id, filename, repo_type, revision, endpoint, proxies, etag_timeout, headers, token, local_files_only, relative_filename, storage_folder)\u001b[0m\n\u001b[1;32m   1545\u001b[0m \u001b[38;5;28;01mtry\u001b[39;00m:\n\u001b[0;32m-> 1546\u001b[0m     metadata \u001b[38;5;241m=\u001b[39m \u001b[43mget_hf_file_metadata\u001b[49m\u001b[43m(\u001b[49m\n\u001b[1;32m   1547\u001b[0m \u001b[43m        \u001b[49m\u001b[43murl\u001b[49m\u001b[38;5;241;43m=\u001b[39;49m\u001b[43murl\u001b[49m\u001b[43m,\u001b[49m\u001b[43m \u001b[49m\u001b[43mproxies\u001b[49m\u001b[38;5;241;43m=\u001b[39;49m\u001b[43mproxies\u001b[49m\u001b[43m,\u001b[49m\u001b[43m \u001b[49m\u001b[43mtimeout\u001b[49m\u001b[38;5;241;43m=\u001b[39;49m\u001b[43metag_timeout\u001b[49m\u001b[43m,\u001b[49m\u001b[43m \u001b[49m\u001b[43mheaders\u001b[49m\u001b[38;5;241;43m=\u001b[39;49m\u001b[43mheaders\u001b[49m\u001b[43m,\u001b[49m\u001b[43m \u001b[49m\u001b[43mtoken\u001b[49m\u001b[38;5;241;43m=\u001b[39;49m\u001b[43mtoken\u001b[49m\u001b[43m,\u001b[49m\u001b[43m \u001b[49m\u001b[43mendpoint\u001b[49m\u001b[38;5;241;43m=\u001b[39;49m\u001b[43mendpoint\u001b[49m\n\u001b[1;32m   1548\u001b[0m \u001b[43m    \u001b[49m\u001b[43m)\u001b[49m\n\u001b[1;32m   1549\u001b[0m \u001b[38;5;28;01mexcept\u001b[39;00m EntryNotFoundError \u001b[38;5;28;01mas\u001b[39;00m http_error:\n",
      "File \u001b[0;32m~/fmproject/.venv/lib/python3.12/site-packages/huggingface_hub/utils/_validators.py:114\u001b[0m, in \u001b[0;36mvalidate_hf_hub_args.<locals>._inner_fn\u001b[0;34m(*args, **kwargs)\u001b[0m\n\u001b[1;32m    112\u001b[0m     kwargs \u001b[38;5;241m=\u001b[39m smoothly_deprecate_use_auth_token(fn_name\u001b[38;5;241m=\u001b[39mfn\u001b[38;5;241m.\u001b[39m\u001b[38;5;18m__name__\u001b[39m, has_token\u001b[38;5;241m=\u001b[39mhas_token, kwargs\u001b[38;5;241m=\u001b[39mkwargs)\n\u001b[0;32m--> 114\u001b[0m \u001b[38;5;28;01mreturn\u001b[39;00m \u001b[43mfn\u001b[49m\u001b[43m(\u001b[49m\u001b[38;5;241;43m*\u001b[39;49m\u001b[43margs\u001b[49m\u001b[43m,\u001b[49m\u001b[43m \u001b[49m\u001b[38;5;241;43m*\u001b[39;49m\u001b[38;5;241;43m*\u001b[39;49m\u001b[43mkwargs\u001b[49m\u001b[43m)\u001b[49m\n",
      "File \u001b[0;32m~/fmproject/.venv/lib/python3.12/site-packages/huggingface_hub/file_download.py:1463\u001b[0m, in \u001b[0;36mget_hf_file_metadata\u001b[0;34m(url, token, proxies, timeout, library_name, library_version, user_agent, headers, endpoint)\u001b[0m\n\u001b[1;32m   1462\u001b[0m \u001b[38;5;66;03m# Retrieve metadata\u001b[39;00m\n\u001b[0;32m-> 1463\u001b[0m r \u001b[38;5;241m=\u001b[39m \u001b[43m_request_wrapper\u001b[49m\u001b[43m(\u001b[49m\n\u001b[1;32m   1464\u001b[0m \u001b[43m    \u001b[49m\u001b[43mmethod\u001b[49m\u001b[38;5;241;43m=\u001b[39;49m\u001b[38;5;124;43m\"\u001b[39;49m\u001b[38;5;124;43mHEAD\u001b[39;49m\u001b[38;5;124;43m\"\u001b[39;49m\u001b[43m,\u001b[49m\n\u001b[1;32m   1465\u001b[0m \u001b[43m    \u001b[49m\u001b[43murl\u001b[49m\u001b[38;5;241;43m=\u001b[39;49m\u001b[43murl\u001b[49m\u001b[43m,\u001b[49m\n\u001b[1;32m   1466\u001b[0m \u001b[43m    \u001b[49m\u001b[43mheaders\u001b[49m\u001b[38;5;241;43m=\u001b[39;49m\u001b[43mhf_headers\u001b[49m\u001b[43m,\u001b[49m\n\u001b[1;32m   1467\u001b[0m \u001b[43m    \u001b[49m\u001b[43mallow_redirects\u001b[49m\u001b[38;5;241;43m=\u001b[39;49m\u001b[38;5;28;43;01mFalse\u001b[39;49;00m\u001b[43m,\u001b[49m\n\u001b[1;32m   1468\u001b[0m \u001b[43m    \u001b[49m\u001b[43mfollow_relative_redirects\u001b[49m\u001b[38;5;241;43m=\u001b[39;49m\u001b[38;5;28;43;01mTrue\u001b[39;49;00m\u001b[43m,\u001b[49m\n\u001b[1;32m   1469\u001b[0m \u001b[43m    \u001b[49m\u001b[43mproxies\u001b[49m\u001b[38;5;241;43m=\u001b[39;49m\u001b[43mproxies\u001b[49m\u001b[43m,\u001b[49m\n\u001b[1;32m   1470\u001b[0m \u001b[43m    \u001b[49m\u001b[43mtimeout\u001b[49m\u001b[38;5;241;43m=\u001b[39;49m\u001b[43mtimeout\u001b[49m\u001b[43m,\u001b[49m\n\u001b[1;32m   1471\u001b[0m \u001b[43m\u001b[49m\u001b[43m)\u001b[49m\n\u001b[1;32m   1472\u001b[0m hf_raise_for_status(r)\n",
      "File \u001b[0;32m~/fmproject/.venv/lib/python3.12/site-packages/huggingface_hub/file_download.py:286\u001b[0m, in \u001b[0;36m_request_wrapper\u001b[0;34m(method, url, follow_relative_redirects, **params)\u001b[0m\n\u001b[1;32m    285\u001b[0m \u001b[38;5;28;01mif\u001b[39;00m follow_relative_redirects:\n\u001b[0;32m--> 286\u001b[0m     response \u001b[38;5;241m=\u001b[39m \u001b[43m_request_wrapper\u001b[49m\u001b[43m(\u001b[49m\n\u001b[1;32m    287\u001b[0m \u001b[43m        \u001b[49m\u001b[43mmethod\u001b[49m\u001b[38;5;241;43m=\u001b[39;49m\u001b[43mmethod\u001b[49m\u001b[43m,\u001b[49m\n\u001b[1;32m    288\u001b[0m \u001b[43m        \u001b[49m\u001b[43murl\u001b[49m\u001b[38;5;241;43m=\u001b[39;49m\u001b[43murl\u001b[49m\u001b[43m,\u001b[49m\n\u001b[1;32m    289\u001b[0m \u001b[43m        \u001b[49m\u001b[43mfollow_relative_redirects\u001b[49m\u001b[38;5;241;43m=\u001b[39;49m\u001b[38;5;28;43;01mFalse\u001b[39;49;00m\u001b[43m,\u001b[49m\n\u001b[1;32m    290\u001b[0m \u001b[43m        \u001b[49m\u001b[38;5;241;43m*\u001b[39;49m\u001b[38;5;241;43m*\u001b[39;49m\u001b[43mparams\u001b[49m\u001b[43m,\u001b[49m\n\u001b[1;32m    291\u001b[0m \u001b[43m    \u001b[49m\u001b[43m)\u001b[49m\n\u001b[1;32m    293\u001b[0m     \u001b[38;5;66;03m# If redirection, we redirect only relative paths.\u001b[39;00m\n\u001b[1;32m    294\u001b[0m     \u001b[38;5;66;03m# This is useful in case of a renamed repository.\u001b[39;00m\n",
      "File \u001b[0;32m~/fmproject/.venv/lib/python3.12/site-packages/huggingface_hub/file_download.py:309\u001b[0m, in \u001b[0;36m_request_wrapper\u001b[0;34m(method, url, follow_relative_redirects, **params)\u001b[0m\n\u001b[1;32m    308\u001b[0m \u001b[38;5;66;03m# Perform request and return if status_code is not in the retry list.\u001b[39;00m\n\u001b[0;32m--> 309\u001b[0m response \u001b[38;5;241m=\u001b[39m \u001b[43mhttp_backoff\u001b[49m\u001b[43m(\u001b[49m\u001b[43mmethod\u001b[49m\u001b[38;5;241;43m=\u001b[39;49m\u001b[43mmethod\u001b[49m\u001b[43m,\u001b[49m\u001b[43m \u001b[49m\u001b[43murl\u001b[49m\u001b[38;5;241;43m=\u001b[39;49m\u001b[43murl\u001b[49m\u001b[43m,\u001b[49m\u001b[43m \u001b[49m\u001b[38;5;241;43m*\u001b[39;49m\u001b[38;5;241;43m*\u001b[39;49m\u001b[43mparams\u001b[49m\u001b[43m,\u001b[49m\u001b[43m \u001b[49m\u001b[43mretry_on_exceptions\u001b[49m\u001b[38;5;241;43m=\u001b[39;49m\u001b[43m(\u001b[49m\u001b[43m)\u001b[49m\u001b[43m,\u001b[49m\u001b[43m \u001b[49m\u001b[43mretry_on_status_codes\u001b[49m\u001b[38;5;241;43m=\u001b[39;49m\u001b[43m(\u001b[49m\u001b[38;5;241;43m429\u001b[39;49m\u001b[43m,\u001b[49m\u001b[43m)\u001b[49m\u001b[43m)\u001b[49m\n\u001b[1;32m    310\u001b[0m hf_raise_for_status(response)\n",
      "File \u001b[0;32m~/fmproject/.venv/lib/python3.12/site-packages/huggingface_hub/utils/_http.py:310\u001b[0m, in \u001b[0;36mhttp_backoff\u001b[0;34m(method, url, max_retries, base_wait_time, max_wait_time, retry_on_exceptions, retry_on_status_codes, **kwargs)\u001b[0m\n\u001b[1;32m    309\u001b[0m \u001b[38;5;66;03m# Perform request and return if status_code is not in the retry list.\u001b[39;00m\n\u001b[0;32m--> 310\u001b[0m response \u001b[38;5;241m=\u001b[39m \u001b[43msession\u001b[49m\u001b[38;5;241;43m.\u001b[39;49m\u001b[43mrequest\u001b[49m\u001b[43m(\u001b[49m\u001b[43mmethod\u001b[49m\u001b[38;5;241;43m=\u001b[39;49m\u001b[43mmethod\u001b[49m\u001b[43m,\u001b[49m\u001b[43m \u001b[49m\u001b[43murl\u001b[49m\u001b[38;5;241;43m=\u001b[39;49m\u001b[43murl\u001b[49m\u001b[43m,\u001b[49m\u001b[43m \u001b[49m\u001b[38;5;241;43m*\u001b[39;49m\u001b[38;5;241;43m*\u001b[39;49m\u001b[43mkwargs\u001b[49m\u001b[43m)\u001b[49m\n\u001b[1;32m    311\u001b[0m \u001b[38;5;28;01mif\u001b[39;00m response\u001b[38;5;241m.\u001b[39mstatus_code \u001b[38;5;129;01mnot\u001b[39;00m \u001b[38;5;129;01min\u001b[39;00m retry_on_status_codes:\n",
      "File \u001b[0;32m~/fmproject/.venv/lib/python3.12/site-packages/requests/sessions.py:589\u001b[0m, in \u001b[0;36mSession.request\u001b[0;34m(self, method, url, params, data, headers, cookies, files, auth, timeout, allow_redirects, proxies, hooks, stream, verify, cert, json)\u001b[0m\n\u001b[1;32m    588\u001b[0m send_kwargs\u001b[38;5;241m.\u001b[39mupdate(settings)\n\u001b[0;32m--> 589\u001b[0m resp \u001b[38;5;241m=\u001b[39m \u001b[38;5;28;43mself\u001b[39;49m\u001b[38;5;241;43m.\u001b[39;49m\u001b[43msend\u001b[49m\u001b[43m(\u001b[49m\u001b[43mprep\u001b[49m\u001b[43m,\u001b[49m\u001b[43m \u001b[49m\u001b[38;5;241;43m*\u001b[39;49m\u001b[38;5;241;43m*\u001b[39;49m\u001b[43msend_kwargs\u001b[49m\u001b[43m)\u001b[49m\n\u001b[1;32m    591\u001b[0m \u001b[38;5;28;01mreturn\u001b[39;00m resp\n",
      "File \u001b[0;32m~/fmproject/.venv/lib/python3.12/site-packages/requests/sessions.py:703\u001b[0m, in \u001b[0;36mSession.send\u001b[0;34m(self, request, **kwargs)\u001b[0m\n\u001b[1;32m    702\u001b[0m \u001b[38;5;66;03m# Send the request\u001b[39;00m\n\u001b[0;32m--> 703\u001b[0m r \u001b[38;5;241m=\u001b[39m \u001b[43madapter\u001b[49m\u001b[38;5;241;43m.\u001b[39;49m\u001b[43msend\u001b[49m\u001b[43m(\u001b[49m\u001b[43mrequest\u001b[49m\u001b[43m,\u001b[49m\u001b[43m \u001b[49m\u001b[38;5;241;43m*\u001b[39;49m\u001b[38;5;241;43m*\u001b[39;49m\u001b[43mkwargs\u001b[49m\u001b[43m)\u001b[49m\n\u001b[1;32m    705\u001b[0m \u001b[38;5;66;03m# Total elapsed time of the request (approximately)\u001b[39;00m\n",
      "File \u001b[0;32m~/fmproject/.venv/lib/python3.12/site-packages/huggingface_hub/utils/_http.py:96\u001b[0m, in \u001b[0;36mUniqueRequestIdAdapter.send\u001b[0;34m(self, request, *args, **kwargs)\u001b[0m\n\u001b[1;32m     95\u001b[0m \u001b[38;5;28;01mtry\u001b[39;00m:\n\u001b[0;32m---> 96\u001b[0m     \u001b[38;5;28;01mreturn\u001b[39;00m \u001b[38;5;28;43msuper\u001b[39;49m\u001b[43m(\u001b[49m\u001b[43m)\u001b[49m\u001b[38;5;241;43m.\u001b[39;49m\u001b[43msend\u001b[49m\u001b[43m(\u001b[49m\u001b[43mrequest\u001b[49m\u001b[43m,\u001b[49m\u001b[43m \u001b[49m\u001b[38;5;241;43m*\u001b[39;49m\u001b[43margs\u001b[49m\u001b[43m,\u001b[49m\u001b[43m \u001b[49m\u001b[38;5;241;43m*\u001b[39;49m\u001b[38;5;241;43m*\u001b[39;49m\u001b[43mkwargs\u001b[49m\u001b[43m)\u001b[49m\n\u001b[1;32m     97\u001b[0m \u001b[38;5;28;01mexcept\u001b[39;00m requests\u001b[38;5;241m.\u001b[39mRequestException \u001b[38;5;28;01mas\u001b[39;00m e:\n",
      "File \u001b[0;32m~/fmproject/.venv/lib/python3.12/site-packages/requests/adapters.py:688\u001b[0m, in \u001b[0;36mHTTPAdapter.send\u001b[0;34m(self, request, stream, timeout, verify, cert, proxies)\u001b[0m\n\u001b[1;32m    687\u001b[0m     \u001b[38;5;28;01mif\u001b[39;00m \u001b[38;5;129;01mnot\u001b[39;00m \u001b[38;5;28misinstance\u001b[39m(e\u001b[38;5;241m.\u001b[39mreason, NewConnectionError):\n\u001b[0;32m--> 688\u001b[0m         \u001b[38;5;28;01mraise\u001b[39;00m ConnectTimeout(e, request\u001b[38;5;241m=\u001b[39mrequest)\n\u001b[1;32m    690\u001b[0m \u001b[38;5;28;01mif\u001b[39;00m \u001b[38;5;28misinstance\u001b[39m(e\u001b[38;5;241m.\u001b[39mreason, ResponseError):\n",
      "\u001b[0;31mConnectTimeout\u001b[0m: (MaxRetryError(\"HTTPSConnectionPool(host='huggingface.co', port=443): Max retries exceeded with url: /jingang/TabICL-clf/resolve/main/tabicl-classifier-v1.1-0506.ckpt (Caused by ConnectTimeoutError(<urllib3.connection.HTTPSConnection object at 0x7f5de742bd40>, 'Connection to huggingface.co timed out. (connect timeout=10)'))\"), '(Request ID: 0d02a347-84c8-4683-849e-b7f8a6896203)')",
      "\nThe above exception was the direct cause of the following exception:\n",
      "\u001b[0;31mLocalEntryNotFoundError\u001b[0m                   Traceback (most recent call last)",
      "Cell \u001b[0;32mIn[9], line 2\u001b[0m\n\u001b[1;32m      1\u001b[0m clf \u001b[38;5;241m=\u001b[39m TabICLClassifier()\n\u001b[0;32m----> 2\u001b[0m \u001b[43mclf\u001b[49m\u001b[38;5;241;43m.\u001b[39;49m\u001b[43mfit\u001b[49m\u001b[43m(\u001b[49m\u001b[43mX_train\u001b[49m\u001b[43m,\u001b[49m\u001b[43m \u001b[49m\u001b[43my_train\u001b[49m\u001b[43m)\u001b[49m  \u001b[38;5;66;03m# this is cheap\u001b[39;00m\n\u001b[1;32m      3\u001b[0m clf\u001b[38;5;241m.\u001b[39mpredict(X_test)  \u001b[38;5;66;03m# in-context learning happens here\u001b[39;00m\n",
      "File \u001b[0;32m~/fmproject/.venv/lib/python3.12/site-packages/tabicl/sklearn/classifier.py:377\u001b[0m, in \u001b[0;36mTabICLClassifier.fit\u001b[0;34m(self, X, y)\u001b[0m\n\u001b[1;32m    374\u001b[0m     \u001b[38;5;28mself\u001b[39m\u001b[38;5;241m.\u001b[39mdevice_ \u001b[38;5;241m=\u001b[39m \u001b[38;5;28mself\u001b[39m\u001b[38;5;241m.\u001b[39mdevice\n\u001b[1;32m    376\u001b[0m \u001b[38;5;66;03m# Load the pre-trained TabICL model\u001b[39;00m\n\u001b[0;32m--> 377\u001b[0m \u001b[38;5;28;43mself\u001b[39;49m\u001b[38;5;241;43m.\u001b[39;49m\u001b[43m_load_model\u001b[49m\u001b[43m(\u001b[49m\u001b[43m)\u001b[49m\n\u001b[1;32m    378\u001b[0m \u001b[38;5;28mself\u001b[39m\u001b[38;5;241m.\u001b[39mmodel_\u001b[38;5;241m.\u001b[39mto(\u001b[38;5;28mself\u001b[39m\u001b[38;5;241m.\u001b[39mdevice_)\n\u001b[1;32m    380\u001b[0m \u001b[38;5;66;03m# Inference configuration\u001b[39;00m\n",
      "File \u001b[0;32m~/fmproject/.venv/lib/python3.12/site-packages/tabicl/sklearn/classifier.py:288\u001b[0m, in \u001b[0;36mTabICLClassifier._load_model\u001b[0;34m(self)\u001b[0m\n\u001b[1;32m    286\u001b[0m     \u001b[38;5;28mprint\u001b[39m(info_message)\n\u001b[1;32m    287\u001b[0m     \u001b[38;5;28mprint\u001b[39m(\u001b[38;5;124mf\u001b[39m\u001b[38;5;124m\"\u001b[39m\u001b[38;5;124mCheckpoint \u001b[39m\u001b[38;5;124m'\u001b[39m\u001b[38;5;132;01m{\u001b[39;00mfilename\u001b[38;5;132;01m}\u001b[39;00m\u001b[38;5;124m'\u001b[39m\u001b[38;5;124m not cached.\u001b[39m\u001b[38;5;130;01m\\n\u001b[39;00m\u001b[38;5;124m Downloading from Hugging Face Hub (\u001b[39m\u001b[38;5;132;01m{\u001b[39;00mrepo_id\u001b[38;5;132;01m}\u001b[39;00m\u001b[38;5;124m).\u001b[39m\u001b[38;5;130;01m\\n\u001b[39;00m\u001b[38;5;124m\"\u001b[39m)\n\u001b[0;32m--> 288\u001b[0m     model_path_ \u001b[38;5;241m=\u001b[39m Path(\u001b[43mhf_hub_download\u001b[49m\u001b[43m(\u001b[49m\u001b[43mrepo_id\u001b[49m\u001b[38;5;241;43m=\u001b[39;49m\u001b[43mrepo_id\u001b[49m\u001b[43m,\u001b[49m\u001b[43m \u001b[49m\u001b[43mfilename\u001b[49m\u001b[38;5;241;43m=\u001b[39;49m\u001b[43mfilename\u001b[49m\u001b[43m)\u001b[49m)\n\u001b[1;32m    289\u001b[0m \u001b[38;5;28;01melse\u001b[39;00m:\n\u001b[1;32m    290\u001b[0m     \u001b[38;5;28;01mraise\u001b[39;00m \u001b[38;5;167;01mValueError\u001b[39;00m(\n\u001b[1;32m    291\u001b[0m         \u001b[38;5;124mf\u001b[39m\u001b[38;5;124m\"\u001b[39m\u001b[38;5;124mCheckpoint \u001b[39m\u001b[38;5;124m'\u001b[39m\u001b[38;5;132;01m{\u001b[39;00mfilename\u001b[38;5;132;01m}\u001b[39;00m\u001b[38;5;124m'\u001b[39m\u001b[38;5;124m not cached and automatic download is disabled.\u001b[39m\u001b[38;5;130;01m\\n\u001b[39;00m\u001b[38;5;124m\"\u001b[39m\n\u001b[1;32m    292\u001b[0m         \u001b[38;5;124mf\u001b[39m\u001b[38;5;124m\"\u001b[39m\u001b[38;5;124mSet allow_auto_download=True to download the checkpoint from Hugging Face Hub (\u001b[39m\u001b[38;5;132;01m{\u001b[39;00mrepo_id\u001b[38;5;132;01m}\u001b[39;00m\u001b[38;5;124m).\u001b[39m\u001b[38;5;124m\"\u001b[39m\n\u001b[1;32m    293\u001b[0m     )\n",
      "File \u001b[0;32m~/fmproject/.venv/lib/python3.12/site-packages/huggingface_hub/utils/_validators.py:114\u001b[0m, in \u001b[0;36mvalidate_hf_hub_args.<locals>._inner_fn\u001b[0;34m(*args, **kwargs)\u001b[0m\n\u001b[1;32m    111\u001b[0m \u001b[38;5;28;01mif\u001b[39;00m check_use_auth_token:\n\u001b[1;32m    112\u001b[0m     kwargs \u001b[38;5;241m=\u001b[39m smoothly_deprecate_use_auth_token(fn_name\u001b[38;5;241m=\u001b[39mfn\u001b[38;5;241m.\u001b[39m\u001b[38;5;18m__name__\u001b[39m, has_token\u001b[38;5;241m=\u001b[39mhas_token, kwargs\u001b[38;5;241m=\u001b[39mkwargs)\n\u001b[0;32m--> 114\u001b[0m \u001b[38;5;28;01mreturn\u001b[39;00m \u001b[43mfn\u001b[49m\u001b[43m(\u001b[49m\u001b[38;5;241;43m*\u001b[39;49m\u001b[43margs\u001b[49m\u001b[43m,\u001b[49m\u001b[43m \u001b[49m\u001b[38;5;241;43m*\u001b[39;49m\u001b[38;5;241;43m*\u001b[39;49m\u001b[43mkwargs\u001b[49m\u001b[43m)\u001b[49m\n",
      "File \u001b[0;32m~/fmproject/.venv/lib/python3.12/site-packages/huggingface_hub/file_download.py:1010\u001b[0m, in \u001b[0;36mhf_hub_download\u001b[0;34m(repo_id, filename, subfolder, repo_type, revision, library_name, library_version, cache_dir, local_dir, user_agent, force_download, proxies, etag_timeout, token, local_files_only, headers, endpoint, resume_download, force_filename, local_dir_use_symlinks)\u001b[0m\n\u001b[1;32m    990\u001b[0m     \u001b[38;5;28;01mreturn\u001b[39;00m _hf_hub_download_to_local_dir(\n\u001b[1;32m    991\u001b[0m         \u001b[38;5;66;03m# Destination\u001b[39;00m\n\u001b[1;32m    992\u001b[0m         local_dir\u001b[38;5;241m=\u001b[39mlocal_dir,\n\u001b[0;32m   (...)\u001b[0m\n\u001b[1;32m   1007\u001b[0m         local_files_only\u001b[38;5;241m=\u001b[39mlocal_files_only,\n\u001b[1;32m   1008\u001b[0m     )\n\u001b[1;32m   1009\u001b[0m \u001b[38;5;28;01melse\u001b[39;00m:\n\u001b[0;32m-> 1010\u001b[0m     \u001b[38;5;28;01mreturn\u001b[39;00m \u001b[43m_hf_hub_download_to_cache_dir\u001b[49m\u001b[43m(\u001b[49m\n\u001b[1;32m   1011\u001b[0m \u001b[43m        \u001b[49m\u001b[38;5;66;43;03m# Destination\u001b[39;49;00m\n\u001b[1;32m   1012\u001b[0m \u001b[43m        \u001b[49m\u001b[43mcache_dir\u001b[49m\u001b[38;5;241;43m=\u001b[39;49m\u001b[43mcache_dir\u001b[49m\u001b[43m,\u001b[49m\n\u001b[1;32m   1013\u001b[0m \u001b[43m        \u001b[49m\u001b[38;5;66;43;03m# File info\u001b[39;49;00m\n\u001b[1;32m   1014\u001b[0m \u001b[43m        \u001b[49m\u001b[43mrepo_id\u001b[49m\u001b[38;5;241;43m=\u001b[39;49m\u001b[43mrepo_id\u001b[49m\u001b[43m,\u001b[49m\n\u001b[1;32m   1015\u001b[0m \u001b[43m        \u001b[49m\u001b[43mfilename\u001b[49m\u001b[38;5;241;43m=\u001b[39;49m\u001b[43mfilename\u001b[49m\u001b[43m,\u001b[49m\n\u001b[1;32m   1016\u001b[0m \u001b[43m        \u001b[49m\u001b[43mrepo_type\u001b[49m\u001b[38;5;241;43m=\u001b[39;49m\u001b[43mrepo_type\u001b[49m\u001b[43m,\u001b[49m\n\u001b[1;32m   1017\u001b[0m \u001b[43m        \u001b[49m\u001b[43mrevision\u001b[49m\u001b[38;5;241;43m=\u001b[39;49m\u001b[43mrevision\u001b[49m\u001b[43m,\u001b[49m\n\u001b[1;32m   1018\u001b[0m \u001b[43m        \u001b[49m\u001b[38;5;66;43;03m# HTTP info\u001b[39;49;00m\n\u001b[1;32m   1019\u001b[0m \u001b[43m        \u001b[49m\u001b[43mendpoint\u001b[49m\u001b[38;5;241;43m=\u001b[39;49m\u001b[43mendpoint\u001b[49m\u001b[43m,\u001b[49m\n\u001b[1;32m   1020\u001b[0m \u001b[43m        \u001b[49m\u001b[43metag_timeout\u001b[49m\u001b[38;5;241;43m=\u001b[39;49m\u001b[43metag_timeout\u001b[49m\u001b[43m,\u001b[49m\n\u001b[1;32m   1021\u001b[0m \u001b[43m        \u001b[49m\u001b[43mheaders\u001b[49m\u001b[38;5;241;43m=\u001b[39;49m\u001b[43mhf_headers\u001b[49m\u001b[43m,\u001b[49m\n\u001b[1;32m   1022\u001b[0m \u001b[43m        \u001b[49m\u001b[43mproxies\u001b[49m\u001b[38;5;241;43m=\u001b[39;49m\u001b[43mproxies\u001b[49m\u001b[43m,\u001b[49m\n\u001b[1;32m   1023\u001b[0m \u001b[43m        \u001b[49m\u001b[43mtoken\u001b[49m\u001b[38;5;241;43m=\u001b[39;49m\u001b[43mtoken\u001b[49m\u001b[43m,\u001b[49m\n\u001b[1;32m   1024\u001b[0m \u001b[43m        \u001b[49m\u001b[38;5;66;43;03m# Additional options\u001b[39;49;00m\n\u001b[1;32m   1025\u001b[0m \u001b[43m        \u001b[49m\u001b[43mlocal_files_only\u001b[49m\u001b[38;5;241;43m=\u001b[39;49m\u001b[43mlocal_files_only\u001b[49m\u001b[43m,\u001b[49m\n\u001b[1;32m   1026\u001b[0m \u001b[43m        \u001b[49m\u001b[43mforce_download\u001b[49m\u001b[38;5;241;43m=\u001b[39;49m\u001b[43mforce_download\u001b[49m\u001b[43m,\u001b[49m\n\u001b[1;32m   1027\u001b[0m \u001b[43m    \u001b[49m\u001b[43m)\u001b[49m\n",
      "File \u001b[0;32m~/fmproject/.venv/lib/python3.12/site-packages/huggingface_hub/file_download.py:1117\u001b[0m, in \u001b[0;36m_hf_hub_download_to_cache_dir\u001b[0;34m(cache_dir, repo_id, filename, repo_type, revision, endpoint, etag_timeout, headers, proxies, token, local_files_only, force_download)\u001b[0m\n\u001b[1;32m   1114\u001b[0m                 \u001b[38;5;28;01mreturn\u001b[39;00m pointer_path\n\u001b[1;32m   1116\u001b[0m     \u001b[38;5;66;03m# Otherwise, raise appropriate error\u001b[39;00m\n\u001b[0;32m-> 1117\u001b[0m     \u001b[43m_raise_on_head_call_error\u001b[49m\u001b[43m(\u001b[49m\u001b[43mhead_call_error\u001b[49m\u001b[43m,\u001b[49m\u001b[43m \u001b[49m\u001b[43mforce_download\u001b[49m\u001b[43m,\u001b[49m\u001b[43m \u001b[49m\u001b[43mlocal_files_only\u001b[49m\u001b[43m)\u001b[49m\n\u001b[1;32m   1119\u001b[0m \u001b[38;5;66;03m# From now on, etag, commit_hash, url and size are not None.\u001b[39;00m\n\u001b[1;32m   1120\u001b[0m \u001b[38;5;28;01massert\u001b[39;00m etag \u001b[38;5;129;01mis\u001b[39;00m \u001b[38;5;129;01mnot\u001b[39;00m \u001b[38;5;28;01mNone\u001b[39;00m, \u001b[38;5;124m\"\u001b[39m\u001b[38;5;124metag must have been retrieved from server\u001b[39m\u001b[38;5;124m\"\u001b[39m\n",
      "File \u001b[0;32m~/fmproject/.venv/lib/python3.12/site-packages/huggingface_hub/file_download.py:1661\u001b[0m, in \u001b[0;36m_raise_on_head_call_error\u001b[0;34m(head_call_error, force_download, local_files_only)\u001b[0m\n\u001b[1;32m   1658\u001b[0m     \u001b[38;5;28;01mraise\u001b[39;00m head_call_error\n\u001b[1;32m   1659\u001b[0m \u001b[38;5;28;01melse\u001b[39;00m:\n\u001b[1;32m   1660\u001b[0m     \u001b[38;5;66;03m# Otherwise: most likely a connection issue or Hub downtime => let's warn the user\u001b[39;00m\n\u001b[0;32m-> 1661\u001b[0m     \u001b[38;5;28;01mraise\u001b[39;00m LocalEntryNotFoundError(\n\u001b[1;32m   1662\u001b[0m         \u001b[38;5;124m\"\u001b[39m\u001b[38;5;124mAn error happened while trying to locate the file on the Hub and we cannot find the requested files\u001b[39m\u001b[38;5;124m\"\u001b[39m\n\u001b[1;32m   1663\u001b[0m         \u001b[38;5;124m\"\u001b[39m\u001b[38;5;124m in the local cache. Please check your connection and try again or make sure your Internet connection\u001b[39m\u001b[38;5;124m\"\u001b[39m\n\u001b[1;32m   1664\u001b[0m         \u001b[38;5;124m\"\u001b[39m\u001b[38;5;124m is on.\u001b[39m\u001b[38;5;124m\"\u001b[39m\n\u001b[1;32m   1665\u001b[0m     ) \u001b[38;5;28;01mfrom\u001b[39;00m\u001b[38;5;250m \u001b[39m\u001b[38;5;21;01mhead_call_error\u001b[39;00m\n",
      "\u001b[0;31mLocalEntryNotFoundError\u001b[0m: An error happened while trying to locate the file on the Hub and we cannot find the requested files in the local cache. Please check your connection and try again or make sure your Internet connection is on."
     ]
    }
   ],
   "source": [
    "clf = TabICLClassifier()\n",
    "clf.fit(X_train, y_train)  # this is cheap\n",
    "clf.predict(X_test)  # in-context learning happens here"
   ]
  },
  {
   "cell_type": "code",
   "execution_count": null,
   "id": "f140091e",
   "metadata": {},
   "outputs": [],
   "source": []
  }
 ],
 "metadata": {
  "kernelspec": {
   "display_name": "fmproject (3.12.10)",
   "language": "python",
   "name": "python3"
  },
  "language_info": {
   "codemirror_mode": {
    "name": "ipython",
    "version": 3
   },
   "file_extension": ".py",
   "mimetype": "text/x-python",
   "name": "python",
   "nbconvert_exporter": "python",
   "pygments_lexer": "ipython3",
   "version": "3.12.10"
  }
 },
 "nbformat": 4,
 "nbformat_minor": 5
}
